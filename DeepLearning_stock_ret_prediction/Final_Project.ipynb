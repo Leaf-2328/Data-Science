{
 "cells": [
  {
   "cell_type": "markdown",
   "id": "dd86aa68",
   "metadata": {},
   "source": [
    "Yuhang Fan Final Project"
   ]
  },
  {
   "cell_type": "markdown",
   "id": "c1ff291a",
   "metadata": {},
   "source": [
    "**Index**\n",
    "1. [Get the Data](#Get-the-Data)\n",
    "- [Have a look of data](#Have-a-look-of-data)\n",
    "- [Define the performance metric](#Define-the-performance-metric)\n",
    "- [Take a look at other data files and select some as part of data](#Take-a-look-at-other-data-files-and-select-some-as-part-of-data)\n",
    "- [Create Test Set](#Create-Test-Set)\n",
    "2. [Exploratory Data Analysis](#Exploratory-Data-Analysis)\n",
    "3. [Prepare Data](#Prepare-Data)\n",
    "- [Data Cleaning](#Data-Cleaning)\n",
    "4. [Creating,testing and evaluating models](#Creating,testing-and-evaluating-models)\n",
    "- [Scaling](#Scaling) function\n",
    "- [Feature Engineering](#Feature-Engineering) function\n",
    "- [Error Analysis](#Error-Analysis) function\n",
    "- [1. Model 0](#1.-Model-0): Base model (20 observation, only AAPL's return as feature, simple Neural Network: only Dense layers)\n",
    "- [2. Model 1](#2.-Model-1): (20 observation, AAPL's features + Other stocks features, simple Neural Network:CNN+Dense)\n",
    "- [3. Model 2](#3.-Model-2): (50 observation, AAPL's features + Other stocks features, Neural Network: CNN + Dense)\n",
    "- [4. Model 3](#4.-Model-3): (50 observation, AAPL's features + Other stocks features, More complex Neural Network: more (CNN + Dense))\n",
    "- [5. Model 4](#5.-Model-4): (50 observation, AAPL's features + Other stocks features, More complex Neural Network (only LSTM)) -- Final Model\n",
    "- [6. Model 5](#6.-Model-5): (50 observation, AAPL's features + Other stocks features + Feature Engineering, More complex Neural Network : more (CNN + Dense))\n",
    "- [7. Model 6](#7.-Model-6): (50 observation, AAPL's features + Other stocks features + Feature Engineering, More complex Neural Network : more (CNN + Dense + LSTM))\n",
    "- [8. Model 7](#8.-Model-7): (50 observation, AAPL's features + Other stocks features + Feature Engineering, LSTM model))\n",
    "5. [Submission and Evaluation](#Submission-and-Evaluation)"
   ]
  },
  {
   "cell_type": "code",
   "execution_count": 1,
   "id": "094ae6b1",
   "metadata": {},
   "outputs": [],
   "source": [
    "import pandas as pd\n",
    "import numpy as np\n",
    "import os\n",
    "from matplotlib import pyplot as plt\n",
    "import seaborn as sns\n",
    "from tensorflow.keras.models import Model, Sequential\n",
    "from tensorflow.keras.layers import Dense\n",
    "from tensorflow.keras.layers import LSTM\n",
    "from tensorflow.keras.layers import Conv1D, Dropout, MaxPooling1D, Input, Flatten\n",
    "from sklearn.model_selection import train_test_split\n",
    "from sklearn.preprocessing import MinMaxScaler\n",
    "from sklearn.metrics import mean_squared_error\n",
    "from tensorflow.keras.callbacks import EarlyStopping"
   ]
  },
  {
   "cell_type": "markdown",
   "id": "f20639be",
   "metadata": {},
   "source": [
    "# Get the Data"
   ]
  },
  {
   "cell_type": "code",
   "execution_count": 2,
   "id": "499838f2",
   "metadata": {},
   "outputs": [],
   "source": [
    "df = pd.read_csv('Data/train/AAPL.csv')"
   ]
  },
  {
   "cell_type": "markdown",
   "id": "d75c417d",
   "metadata": {},
   "source": [
    "### Have a look of data"
   ]
  },
  {
   "cell_type": "code",
   "execution_count": 3,
   "id": "f37d4a41",
   "metadata": {},
   "outputs": [
    {
     "data": {
      "text/html": [
       "<div>\n",
       "<style scoped>\n",
       "    .dataframe tbody tr th:only-of-type {\n",
       "        vertical-align: middle;\n",
       "    }\n",
       "\n",
       "    .dataframe tbody tr th {\n",
       "        vertical-align: top;\n",
       "    }\n",
       "\n",
       "    .dataframe thead th {\n",
       "        text-align: right;\n",
       "    }\n",
       "</style>\n",
       "<table border=\"1\" class=\"dataframe\">\n",
       "  <thead>\n",
       "    <tr style=\"text-align: right;\">\n",
       "      <th></th>\n",
       "      <th>Dt</th>\n",
       "      <th>Adj Close</th>\n",
       "      <th>Close</th>\n",
       "      <th>Div</th>\n",
       "      <th>Factor</th>\n",
       "      <th>High</th>\n",
       "      <th>Low</th>\n",
       "      <th>Open</th>\n",
       "      <th>Volume</th>\n",
       "    </tr>\n",
       "  </thead>\n",
       "  <tbody>\n",
       "    <tr>\n",
       "      <th>0</th>\n",
       "      <td>2000-01-03</td>\n",
       "      <td>3.4785</td>\n",
       "      <td>111.938</td>\n",
       "      <td>0.0</td>\n",
       "      <td>1.0</td>\n",
       "      <td>112.500</td>\n",
       "      <td>101.688</td>\n",
       "      <td>104.8750</td>\n",
       "      <td>133949200.0</td>\n",
       "    </tr>\n",
       "    <tr>\n",
       "      <th>1</th>\n",
       "      <td>2000-01-04</td>\n",
       "      <td>3.1852</td>\n",
       "      <td>102.500</td>\n",
       "      <td>0.0</td>\n",
       "      <td>1.0</td>\n",
       "      <td>110.625</td>\n",
       "      <td>101.188</td>\n",
       "      <td>108.2500</td>\n",
       "      <td>128094400.0</td>\n",
       "    </tr>\n",
       "    <tr>\n",
       "      <th>2</th>\n",
       "      <td>2000-01-05</td>\n",
       "      <td>3.2318</td>\n",
       "      <td>104.000</td>\n",
       "      <td>0.0</td>\n",
       "      <td>1.0</td>\n",
       "      <td>110.563</td>\n",
       "      <td>103.000</td>\n",
       "      <td>103.7500</td>\n",
       "      <td>194580400.0</td>\n",
       "    </tr>\n",
       "    <tr>\n",
       "      <th>3</th>\n",
       "      <td>2000-01-06</td>\n",
       "      <td>2.9521</td>\n",
       "      <td>95.000</td>\n",
       "      <td>0.0</td>\n",
       "      <td>1.0</td>\n",
       "      <td>107.000</td>\n",
       "      <td>95.000</td>\n",
       "      <td>106.1183</td>\n",
       "      <td>191993200.0</td>\n",
       "    </tr>\n",
       "    <tr>\n",
       "      <th>4</th>\n",
       "      <td>2000-01-07</td>\n",
       "      <td>3.0920</td>\n",
       "      <td>99.500</td>\n",
       "      <td>0.0</td>\n",
       "      <td>1.0</td>\n",
       "      <td>101.000</td>\n",
       "      <td>95.500</td>\n",
       "      <td>96.5000</td>\n",
       "      <td>115183600.0</td>\n",
       "    </tr>\n",
       "  </tbody>\n",
       "</table>\n",
       "</div>"
      ],
      "text/plain": [
       "           Dt  Adj Close    Close  Div  Factor     High      Low      Open  \\\n",
       "0  2000-01-03     3.4785  111.938  0.0     1.0  112.500  101.688  104.8750   \n",
       "1  2000-01-04     3.1852  102.500  0.0     1.0  110.625  101.188  108.2500   \n",
       "2  2000-01-05     3.2318  104.000  0.0     1.0  110.563  103.000  103.7500   \n",
       "3  2000-01-06     2.9521   95.000  0.0     1.0  107.000   95.000  106.1183   \n",
       "4  2000-01-07     3.0920   99.500  0.0     1.0  101.000   95.500   96.5000   \n",
       "\n",
       "        Volume  \n",
       "0  133949200.0  \n",
       "1  128094400.0  \n",
       "2  194580400.0  \n",
       "3  191993200.0  \n",
       "4  115183600.0  "
      ]
     },
     "execution_count": 3,
     "metadata": {},
     "output_type": "execute_result"
    }
   ],
   "source": [
    "df.head()"
   ]
  },
  {
   "cell_type": "code",
   "execution_count": 4,
   "id": "4b462b6c",
   "metadata": {},
   "outputs": [
    {
     "name": "stdout",
     "output_type": "stream",
     "text": [
      "<class 'pandas.core.frame.DataFrame'>\n",
      "RangeIndex: 4277 entries, 0 to 4276\n",
      "Data columns (total 9 columns):\n",
      " #   Column     Non-Null Count  Dtype  \n",
      "---  ------     --------------  -----  \n",
      " 0   Dt         4277 non-null   object \n",
      " 1   Adj Close  4277 non-null   float64\n",
      " 2   Close      4277 non-null   float64\n",
      " 3   Div        4277 non-null   float64\n",
      " 4   Factor     4277 non-null   float64\n",
      " 5   High       4277 non-null   float64\n",
      " 6   Low        4277 non-null   float64\n",
      " 7   Open       4277 non-null   float64\n",
      " 8   Volume     4277 non-null   float64\n",
      "dtypes: float64(8), object(1)\n",
      "memory usage: 300.9+ KB\n"
     ]
    }
   ],
   "source": [
    "df.info()"
   ]
  },
  {
   "cell_type": "code",
   "execution_count": 5,
   "id": "037a1399",
   "metadata": {},
   "outputs": [
    {
     "data": {
      "text/plain": [
       "(4277, 9)"
      ]
     },
     "execution_count": 5,
     "metadata": {},
     "output_type": "execute_result"
    }
   ],
   "source": [
    "df.shape"
   ]
  },
  {
   "cell_type": "code",
   "execution_count": 6,
   "id": "48a50914",
   "metadata": {},
   "outputs": [
    {
     "data": {
      "text/plain": [
       "Dt           0\n",
       "Adj Close    0\n",
       "Close        0\n",
       "Div          0\n",
       "Factor       0\n",
       "High         0\n",
       "Low          0\n",
       "Open         0\n",
       "Volume       0\n",
       "dtype: int64"
      ]
     },
     "execution_count": 6,
     "metadata": {},
     "output_type": "execute_result"
    }
   ],
   "source": [
    "# Check nan value\n",
    "df.isnull().sum()"
   ]
  },
  {
   "cell_type": "markdown",
   "id": "6f520f49",
   "metadata": {},
   "source": [
    "### Define the performance metric"
   ]
  },
  {
   "cell_type": "markdown",
   "id": "69e1747f",
   "metadata": {},
   "source": [
    "- The goal of this project is to predict next day stock return of AAPL\n",
    "- This is a Regression task \n",
    "- I plan to use root mean square error (RMSE) as metric to evaluate the model\n",
    "- I will also consider correct percentage of prediction direction "
   ]
  },
  {
   "cell_type": "code",
   "execution_count": 7,
   "id": "727cc99f",
   "metadata": {},
   "outputs": [],
   "source": [
    "# Add feature 'return' as the percent change of adjust close price\n",
    "# 'Adj Close' is a more safe choice to calculate return, since there is no dividend or stock split issue involved \n",
    "df['return'] = df['Adj Close'].pct_change()\n",
    "\n",
    "# Set Dt as index\n",
    "df = df.set_index('Dt')"
   ]
  },
  {
   "cell_type": "code",
   "execution_count": 8,
   "id": "1759b719",
   "metadata": {},
   "outputs": [
    {
     "data": {
      "text/html": [
       "<div>\n",
       "<style scoped>\n",
       "    .dataframe tbody tr th:only-of-type {\n",
       "        vertical-align: middle;\n",
       "    }\n",
       "\n",
       "    .dataframe tbody tr th {\n",
       "        vertical-align: top;\n",
       "    }\n",
       "\n",
       "    .dataframe thead th {\n",
       "        text-align: right;\n",
       "    }\n",
       "</style>\n",
       "<table border=\"1\" class=\"dataframe\">\n",
       "  <thead>\n",
       "    <tr style=\"text-align: right;\">\n",
       "      <th></th>\n",
       "      <th>Adj Close</th>\n",
       "      <th>Close</th>\n",
       "      <th>Div</th>\n",
       "      <th>Factor</th>\n",
       "      <th>High</th>\n",
       "      <th>Low</th>\n",
       "      <th>Open</th>\n",
       "      <th>Volume</th>\n",
       "      <th>return</th>\n",
       "    </tr>\n",
       "    <tr>\n",
       "      <th>Dt</th>\n",
       "      <th></th>\n",
       "      <th></th>\n",
       "      <th></th>\n",
       "      <th></th>\n",
       "      <th></th>\n",
       "      <th></th>\n",
       "      <th></th>\n",
       "      <th></th>\n",
       "      <th></th>\n",
       "    </tr>\n",
       "  </thead>\n",
       "  <tbody>\n",
       "    <tr>\n",
       "      <th>2000-01-03</th>\n",
       "      <td>3.4785</td>\n",
       "      <td>111.938</td>\n",
       "      <td>0.0</td>\n",
       "      <td>1.0</td>\n",
       "      <td>112.500</td>\n",
       "      <td>101.688</td>\n",
       "      <td>104.8750</td>\n",
       "      <td>133949200.0</td>\n",
       "      <td>NaN</td>\n",
       "    </tr>\n",
       "    <tr>\n",
       "      <th>2000-01-04</th>\n",
       "      <td>3.1852</td>\n",
       "      <td>102.500</td>\n",
       "      <td>0.0</td>\n",
       "      <td>1.0</td>\n",
       "      <td>110.625</td>\n",
       "      <td>101.188</td>\n",
       "      <td>108.2500</td>\n",
       "      <td>128094400.0</td>\n",
       "      <td>-0.084318</td>\n",
       "    </tr>\n",
       "    <tr>\n",
       "      <th>2000-01-05</th>\n",
       "      <td>3.2318</td>\n",
       "      <td>104.000</td>\n",
       "      <td>0.0</td>\n",
       "      <td>1.0</td>\n",
       "      <td>110.563</td>\n",
       "      <td>103.000</td>\n",
       "      <td>103.7500</td>\n",
       "      <td>194580400.0</td>\n",
       "      <td>0.014630</td>\n",
       "    </tr>\n",
       "    <tr>\n",
       "      <th>2000-01-06</th>\n",
       "      <td>2.9521</td>\n",
       "      <td>95.000</td>\n",
       "      <td>0.0</td>\n",
       "      <td>1.0</td>\n",
       "      <td>107.000</td>\n",
       "      <td>95.000</td>\n",
       "      <td>106.1183</td>\n",
       "      <td>191993200.0</td>\n",
       "      <td>-0.086546</td>\n",
       "    </tr>\n",
       "    <tr>\n",
       "      <th>2000-01-07</th>\n",
       "      <td>3.0920</td>\n",
       "      <td>99.500</td>\n",
       "      <td>0.0</td>\n",
       "      <td>1.0</td>\n",
       "      <td>101.000</td>\n",
       "      <td>95.500</td>\n",
       "      <td>96.5000</td>\n",
       "      <td>115183600.0</td>\n",
       "      <td>0.047390</td>\n",
       "    </tr>\n",
       "  </tbody>\n",
       "</table>\n",
       "</div>"
      ],
      "text/plain": [
       "            Adj Close    Close  Div  Factor     High      Low      Open  \\\n",
       "Dt                                                                        \n",
       "2000-01-03     3.4785  111.938  0.0     1.0  112.500  101.688  104.8750   \n",
       "2000-01-04     3.1852  102.500  0.0     1.0  110.625  101.188  108.2500   \n",
       "2000-01-05     3.2318  104.000  0.0     1.0  110.563  103.000  103.7500   \n",
       "2000-01-06     2.9521   95.000  0.0     1.0  107.000   95.000  106.1183   \n",
       "2000-01-07     3.0920   99.500  0.0     1.0  101.000   95.500   96.5000   \n",
       "\n",
       "                 Volume    return  \n",
       "Dt                                 \n",
       "2000-01-03  133949200.0       NaN  \n",
       "2000-01-04  128094400.0 -0.084318  \n",
       "2000-01-05  194580400.0  0.014630  \n",
       "2000-01-06  191993200.0 -0.086546  \n",
       "2000-01-07  115183600.0  0.047390  "
      ]
     },
     "execution_count": 8,
     "metadata": {},
     "output_type": "execute_result"
    }
   ],
   "source": [
    "df.head()"
   ]
  },
  {
   "cell_type": "markdown",
   "id": "0a2165c6",
   "metadata": {},
   "source": [
    "### Take a look at other data files and select some as part of data"
   ]
  },
  {
   "cell_type": "code",
   "execution_count": 9,
   "id": "953ca9c3",
   "metadata": {
    "scrolled": false
   },
   "outputs": [
    {
     "name": "stdout",
     "output_type": "stream",
     "text": [
      "CSCO.csv\n",
      "V.csv\n",
      "ADBE.csv\n",
      "XLE.csv\n",
      "INTC.csv\n",
      "XLF.csv\n",
      "XLP.csv\n",
      "MSFT.csv\n",
      "ACN.csv\n",
      "XLB.csv\n",
      "XLU.csv\n",
      "NVDA.csv\n",
      "XLV.csv\n",
      "FB.csv\n",
      "IBM.csv\n",
      "XLY.csv\n",
      "XLK.csv\n",
      "SPY.csv\n",
      "XLI.csv\n",
      "GOOG.csv\n",
      "XLRE.csv\n",
      "MA.csv\n",
      "AAPL.csv\n",
      "CRM.csv\n"
     ]
    }
   ],
   "source": [
    "# Print out the csv files in data\n",
    "Data_dir = './Data/train'\n",
    "all_tickers = os.listdir(os.path.join(Data_dir))\n",
    "for t in all_tickers:\n",
    "    print(t)"
   ]
  },
  {
   "cell_type": "markdown",
   "id": "2b774d39",
   "metadata": {},
   "source": [
    "Select some files of stocks or index as our data to help predict next day return of AAPL  \n",
    "- Stocks which are similar as AAPL (Big tech companies): GOOG, MSFT, IBM, FB, NVDA, ADBE, CSCO, CRM, INTC\n",
    "- Indexes which are related to AAPL: XLK, SPY"
   ]
  },
  {
   "cell_type": "code",
   "execution_count": 10,
   "id": "4ffc254f",
   "metadata": {},
   "outputs": [],
   "source": [
    "# Add return, volume change, and amount change of other Stock or index as additional features\n",
    "select_ticker_files = ['GOOG.csv','MSFT.csv','IBM.csv','ADBE.csv','CSCO.csv','CRM.csv',\n",
    "                       'INTC.csv','NVDA.csv','FB.csv','SPY.csv','XLK.csv']"
   ]
  },
  {
   "cell_type": "markdown",
   "id": "a2dbc606",
   "metadata": {},
   "source": [
    "For data from other files"
   ]
  },
  {
   "cell_type": "code",
   "execution_count": 11,
   "id": "d7535e40",
   "metadata": {},
   "outputs": [],
   "source": [
    "def merge_other_data(file_li,df,dirc):\n",
    "    for file in file_li:\n",
    "        data = pd.read_csv(os.path.join(dirc,file))\n",
    "        company_ticker = file.split('.')[0]\n",
    "        # return\n",
    "        ret_col_name = company_ticker +'_return'\n",
    "        data[ret_col_name] = data['Adj Close'].pct_change()\n",
    "        # volume change\n",
    "        volume_change_col_name = company_ticker +'_volume_change'\n",
    "        data[volume_change_col_name]= data['Volume'].pct_change()\n",
    "        # amount change\n",
    "        amount_change_col_name = company_ticker +'_amount_change'\n",
    "        data[amount_change_col_name]= (data['Close']*data['Volume']).pct_change()\n",
    "\n",
    "        data = data.set_index('Dt')\n",
    "\n",
    "        df[ret_col_name] = data[ret_col_name]\n",
    "        df[volume_change_col_name] = data[volume_change_col_name]\n",
    "        df[amount_change_col_name] = data[amount_change_col_name]"
   ]
  },
  {
   "cell_type": "code",
   "execution_count": 12,
   "id": "6e68c1d7",
   "metadata": {},
   "outputs": [],
   "source": [
    "merge_other_data(select_ticker_files,df,Data_dir)"
   ]
  },
  {
   "cell_type": "code",
   "execution_count": 13,
   "id": "8c15b73b",
   "metadata": {},
   "outputs": [
    {
     "data": {
      "text/html": [
       "<div>\n",
       "<style scoped>\n",
       "    .dataframe tbody tr th:only-of-type {\n",
       "        vertical-align: middle;\n",
       "    }\n",
       "\n",
       "    .dataframe tbody tr th {\n",
       "        vertical-align: top;\n",
       "    }\n",
       "\n",
       "    .dataframe thead th {\n",
       "        text-align: right;\n",
       "    }\n",
       "</style>\n",
       "<table border=\"1\" class=\"dataframe\">\n",
       "  <thead>\n",
       "    <tr style=\"text-align: right;\">\n",
       "      <th></th>\n",
       "      <th>Adj Close</th>\n",
       "      <th>Close</th>\n",
       "      <th>Div</th>\n",
       "      <th>Factor</th>\n",
       "      <th>High</th>\n",
       "      <th>Low</th>\n",
       "      <th>Open</th>\n",
       "      <th>Volume</th>\n",
       "      <th>return</th>\n",
       "      <th>GOOG_return</th>\n",
       "      <th>...</th>\n",
       "      <th>NVDA_amount_change</th>\n",
       "      <th>FB_return</th>\n",
       "      <th>FB_volume_change</th>\n",
       "      <th>FB_amount_change</th>\n",
       "      <th>SPY_return</th>\n",
       "      <th>SPY_volume_change</th>\n",
       "      <th>SPY_amount_change</th>\n",
       "      <th>XLK_return</th>\n",
       "      <th>XLK_volume_change</th>\n",
       "      <th>XLK_amount_change</th>\n",
       "    </tr>\n",
       "    <tr>\n",
       "      <th>Dt</th>\n",
       "      <th></th>\n",
       "      <th></th>\n",
       "      <th></th>\n",
       "      <th></th>\n",
       "      <th></th>\n",
       "      <th></th>\n",
       "      <th></th>\n",
       "      <th></th>\n",
       "      <th></th>\n",
       "      <th></th>\n",
       "      <th></th>\n",
       "      <th></th>\n",
       "      <th></th>\n",
       "      <th></th>\n",
       "      <th></th>\n",
       "      <th></th>\n",
       "      <th></th>\n",
       "      <th></th>\n",
       "      <th></th>\n",
       "      <th></th>\n",
       "      <th></th>\n",
       "    </tr>\n",
       "  </thead>\n",
       "  <tbody>\n",
       "    <tr>\n",
       "      <th>2000-01-03</th>\n",
       "      <td>3.4785</td>\n",
       "      <td>111.938</td>\n",
       "      <td>0.0</td>\n",
       "      <td>1.0</td>\n",
       "      <td>112.500</td>\n",
       "      <td>101.688</td>\n",
       "      <td>104.8750</td>\n",
       "      <td>133949200.0</td>\n",
       "      <td>NaN</td>\n",
       "      <td>NaN</td>\n",
       "      <td>...</td>\n",
       "      <td>NaN</td>\n",
       "      <td>NaN</td>\n",
       "      <td>NaN</td>\n",
       "      <td>NaN</td>\n",
       "      <td>NaN</td>\n",
       "      <td>NaN</td>\n",
       "      <td>NaN</td>\n",
       "      <td>NaN</td>\n",
       "      <td>NaN</td>\n",
       "      <td>NaN</td>\n",
       "    </tr>\n",
       "    <tr>\n",
       "      <th>2000-01-04</th>\n",
       "      <td>3.1852</td>\n",
       "      <td>102.500</td>\n",
       "      <td>0.0</td>\n",
       "      <td>1.0</td>\n",
       "      <td>110.625</td>\n",
       "      <td>101.188</td>\n",
       "      <td>108.2500</td>\n",
       "      <td>128094400.0</td>\n",
       "      <td>-0.084318</td>\n",
       "      <td>NaN</td>\n",
       "      <td>...</td>\n",
       "      <td>-0.028099</td>\n",
       "      <td>NaN</td>\n",
       "      <td>NaN</td>\n",
       "      <td>NaN</td>\n",
       "      <td>-0.039106</td>\n",
       "      <td>-0.009125</td>\n",
       "      <td>-0.047878</td>\n",
       "      <td>-0.050733</td>\n",
       "      <td>-0.418505</td>\n",
       "      <td>-0.448011</td>\n",
       "    </tr>\n",
       "    <tr>\n",
       "      <th>2000-01-05</th>\n",
       "      <td>3.2318</td>\n",
       "      <td>104.000</td>\n",
       "      <td>0.0</td>\n",
       "      <td>1.0</td>\n",
       "      <td>110.563</td>\n",
       "      <td>103.000</td>\n",
       "      <td>103.7500</td>\n",
       "      <td>194580400.0</td>\n",
       "      <td>0.014630</td>\n",
       "      <td>NaN</td>\n",
       "      <td>...</td>\n",
       "      <td>-0.393799</td>\n",
       "      <td>NaN</td>\n",
       "      <td>NaN</td>\n",
       "      <td>NaN</td>\n",
       "      <td>0.001789</td>\n",
       "      <td>0.505340</td>\n",
       "      <td>0.508033</td>\n",
       "      <td>-0.014847</td>\n",
       "      <td>2.494042</td>\n",
       "      <td>2.442188</td>\n",
       "    </tr>\n",
       "    <tr>\n",
       "      <th>2000-01-06</th>\n",
       "      <td>2.9521</td>\n",
       "      <td>95.000</td>\n",
       "      <td>0.0</td>\n",
       "      <td>1.0</td>\n",
       "      <td>107.000</td>\n",
       "      <td>95.000</td>\n",
       "      <td>106.1183</td>\n",
       "      <td>191993200.0</td>\n",
       "      <td>-0.086546</td>\n",
       "      <td>NaN</td>\n",
       "      <td>...</td>\n",
       "      <td>-0.402082</td>\n",
       "      <td>NaN</td>\n",
       "      <td>NaN</td>\n",
       "      <td>NaN</td>\n",
       "      <td>-0.016071</td>\n",
       "      <td>-0.488647</td>\n",
       "      <td>-0.496866</td>\n",
       "      <td>-0.033150</td>\n",
       "      <td>-0.123820</td>\n",
       "      <td>-0.152871</td>\n",
       "    </tr>\n",
       "    <tr>\n",
       "      <th>2000-01-07</th>\n",
       "      <td>3.0920</td>\n",
       "      <td>99.500</td>\n",
       "      <td>0.0</td>\n",
       "      <td>1.0</td>\n",
       "      <td>101.000</td>\n",
       "      <td>95.500</td>\n",
       "      <td>96.5000</td>\n",
       "      <td>115183600.0</td>\n",
       "      <td>0.047390</td>\n",
       "      <td>NaN</td>\n",
       "      <td>...</td>\n",
       "      <td>-0.399308</td>\n",
       "      <td>NaN</td>\n",
       "      <td>NaN</td>\n",
       "      <td>NaN</td>\n",
       "      <td>0.058076</td>\n",
       "      <td>0.295365</td>\n",
       "      <td>0.370595</td>\n",
       "      <td>0.017455</td>\n",
       "      <td>-0.589222</td>\n",
       "      <td>-0.582051</td>\n",
       "    </tr>\n",
       "  </tbody>\n",
       "</table>\n",
       "<p>5 rows × 42 columns</p>\n",
       "</div>"
      ],
      "text/plain": [
       "            Adj Close    Close  Div  Factor     High      Low      Open  \\\n",
       "Dt                                                                        \n",
       "2000-01-03     3.4785  111.938  0.0     1.0  112.500  101.688  104.8750   \n",
       "2000-01-04     3.1852  102.500  0.0     1.0  110.625  101.188  108.2500   \n",
       "2000-01-05     3.2318  104.000  0.0     1.0  110.563  103.000  103.7500   \n",
       "2000-01-06     2.9521   95.000  0.0     1.0  107.000   95.000  106.1183   \n",
       "2000-01-07     3.0920   99.500  0.0     1.0  101.000   95.500   96.5000   \n",
       "\n",
       "                 Volume    return  GOOG_return  ...  NVDA_amount_change  \\\n",
       "Dt                                              ...                       \n",
       "2000-01-03  133949200.0       NaN          NaN  ...                 NaN   \n",
       "2000-01-04  128094400.0 -0.084318          NaN  ...           -0.028099   \n",
       "2000-01-05  194580400.0  0.014630          NaN  ...           -0.393799   \n",
       "2000-01-06  191993200.0 -0.086546          NaN  ...           -0.402082   \n",
       "2000-01-07  115183600.0  0.047390          NaN  ...           -0.399308   \n",
       "\n",
       "            FB_return  FB_volume_change  FB_amount_change  SPY_return  \\\n",
       "Dt                                                                      \n",
       "2000-01-03        NaN               NaN               NaN         NaN   \n",
       "2000-01-04        NaN               NaN               NaN   -0.039106   \n",
       "2000-01-05        NaN               NaN               NaN    0.001789   \n",
       "2000-01-06        NaN               NaN               NaN   -0.016071   \n",
       "2000-01-07        NaN               NaN               NaN    0.058076   \n",
       "\n",
       "            SPY_volume_change  SPY_amount_change  XLK_return  \\\n",
       "Dt                                                             \n",
       "2000-01-03                NaN                NaN         NaN   \n",
       "2000-01-04          -0.009125          -0.047878   -0.050733   \n",
       "2000-01-05           0.505340           0.508033   -0.014847   \n",
       "2000-01-06          -0.488647          -0.496866   -0.033150   \n",
       "2000-01-07           0.295365           0.370595    0.017455   \n",
       "\n",
       "            XLK_volume_change  XLK_amount_change  \n",
       "Dt                                                \n",
       "2000-01-03                NaN                NaN  \n",
       "2000-01-04          -0.418505          -0.448011  \n",
       "2000-01-05           2.494042           2.442188  \n",
       "2000-01-06          -0.123820          -0.152871  \n",
       "2000-01-07          -0.589222          -0.582051  \n",
       "\n",
       "[5 rows x 42 columns]"
      ]
     },
     "execution_count": 13,
     "metadata": {},
     "output_type": "execute_result"
    }
   ],
   "source": [
    "df.head()"
   ]
  },
  {
   "cell_type": "code",
   "execution_count": 14,
   "id": "709624c3",
   "metadata": {},
   "outputs": [
    {
     "data": {
      "text/plain": [
       "Adj Close                0\n",
       "Close                    0\n",
       "Div                      0\n",
       "Factor                   0\n",
       "High                     0\n",
       "Low                      0\n",
       "Open                     0\n",
       "Volume                   0\n",
       "return                   1\n",
       "GOOG_return           1163\n",
       "GOOG_volume_change    1163\n",
       "GOOG_amount_change    1163\n",
       "MSFT_return              1\n",
       "MSFT_volume_change       1\n",
       "MSFT_amount_change       1\n",
       "IBM_return               1\n",
       "IBM_volume_change        1\n",
       "IBM_amount_change        1\n",
       "ADBE_return              1\n",
       "ADBE_volume_change       1\n",
       "ADBE_amount_change       1\n",
       "CSCO_return              1\n",
       "CSCO_volume_change       1\n",
       "CSCO_amount_change       1\n",
       "CRM_return            1123\n",
       "CRM_volume_change     1123\n",
       "CRM_amount_change     1123\n",
       "INTC_return              1\n",
       "INTC_volume_change       1\n",
       "INTC_amount_change       1\n",
       "NVDA_return              1\n",
       "NVDA_volume_change       1\n",
       "NVDA_amount_change       1\n",
       "FB_return             3115\n",
       "FB_volume_change      3115\n",
       "FB_amount_change      3115\n",
       "SPY_return               1\n",
       "SPY_volume_change        1\n",
       "SPY_amount_change        1\n",
       "XLK_return               1\n",
       "XLK_volume_change        1\n",
       "XLK_amount_change        1\n",
       "dtype: int64"
      ]
     },
     "execution_count": 14,
     "metadata": {},
     "output_type": "execute_result"
    }
   ],
   "source": [
    "df.isnull().sum()"
   ]
  },
  {
   "cell_type": "markdown",
   "id": "965a65d2",
   "metadata": {},
   "source": [
    "### Create Test Set "
   ]
  },
  {
   "cell_type": "code",
   "execution_count": 15,
   "id": "459f52c0",
   "metadata": {},
   "outputs": [],
   "source": [
    "# I split data into 80% train and 20% test\n",
    "test_size = 0.2\n",
    "total_length = len(df)\n",
    "# Reset index to make Dt as a column\n",
    "df = df.reset_index()\n",
    "df['Dt'] = df['Dt'].apply(lambda x: int(x.replace('-','')))\n",
    "\n",
    "test_length = int(total_length*test_size)\n",
    "df_train = df.iloc[:total_length-test_length]\n",
    "df_test = df.iloc[total_length-test_length:]"
   ]
  },
  {
   "cell_type": "code",
   "execution_count": 16,
   "id": "cc0f487f",
   "metadata": {},
   "outputs": [
    {
     "name": "stdout",
     "output_type": "stream",
     "text": [
      "Shape of train dataset:  (3422, 43)\n",
      "Shape of test dataset:  (855, 43)\n"
     ]
    }
   ],
   "source": [
    "print('Shape of train dataset: ', df_train.shape )\n",
    "print('Shape of test dataset: ', df_test.shape )"
   ]
  },
  {
   "cell_type": "markdown",
   "id": "628092da",
   "metadata": {},
   "source": [
    "# Exploratory Data Analysis"
   ]
  },
  {
   "cell_type": "code",
   "execution_count": 17,
   "id": "a672c227",
   "metadata": {},
   "outputs": [],
   "source": [
    "# Plot the cummulative return\n",
    "df_train_EDA = df_train.copy()\n",
    "df_train_EDA.loc[:,'cum_return'] = np.cumprod(1+df_train_EDA['return'])"
   ]
  },
  {
   "cell_type": "code",
   "execution_count": 18,
   "id": "bea0e4a8",
   "metadata": {},
   "outputs": [
    {
     "data": {
      "text/plain": [
       "<AxesSubplot:>"
      ]
     },
     "execution_count": 18,
     "metadata": {},
     "output_type": "execute_result"
    },
    {
     "data": {
      "image/png": "[encoded data removed]",
      "text/plain": [
       "<Figure size 432x288 with 1 Axes>"
      ]
     },
     "metadata": {
      "needs_background": "light"
     },
     "output_type": "display_data"
    }
   ],
   "source": [
    "df_train_EDA['cum_return'].plot()"
   ]
  },
  {
   "cell_type": "code",
   "execution_count": 19,
   "id": "156f76e7",
   "metadata": {},
   "outputs": [
    {
     "data": {
      "text/plain": [
       "<AxesSubplot:>"
      ]
     },
     "execution_count": 19,
     "metadata": {},
     "output_type": "execute_result"
    },
    {
     "data": {
      "image/png": "[encoded data removed]",
      "text/plain": [
       "<Figure size 432x288 with 1 Axes>"
      ]
     },
     "metadata": {
      "needs_background": "light"
     },
     "output_type": "display_data"
    }
   ],
   "source": [
    "# Histogram of return\n",
    "df_train_EDA['return'].hist(bins=200)"
   ]
  },
  {
   "cell_type": "code",
   "execution_count": 20,
   "id": "63eb6c34",
   "metadata": {},
   "outputs": [
    {
     "name": "stdout",
     "output_type": "stream",
     "text": [
      "['return', 'GOOG_return', 'MSFT_return', 'IBM_return', 'ADBE_return', 'CSCO_return', 'CRM_return', 'INTC_return', 'NVDA_return', 'FB_return', 'SPY_return', 'XLK_return', 'cum_return']\n"
     ]
    }
   ],
   "source": [
    "return_li = []\n",
    "for col in df_train_EDA.columns:\n",
    "    if 'return' in col:\n",
    "        return_li.append(col)\n",
    "print(return_li)"
   ]
  },
  {
   "cell_type": "code",
   "execution_count": 21,
   "id": "49dc7810",
   "metadata": {
    "scrolled": true
   },
   "outputs": [
    {
     "data": {
      "text/html": [
       "<div>\n",
       "<style scoped>\n",
       "    .dataframe tbody tr th:only-of-type {\n",
       "        vertical-align: middle;\n",
       "    }\n",
       "\n",
       "    .dataframe tbody tr th {\n",
       "        vertical-align: top;\n",
       "    }\n",
       "\n",
       "    .dataframe thead th {\n",
       "        text-align: right;\n",
       "    }\n",
       "</style>\n",
       "<table border=\"1\" class=\"dataframe\">\n",
       "  <thead>\n",
       "    <tr style=\"text-align: right;\">\n",
       "      <th></th>\n",
       "      <th>return</th>\n",
       "      <th>GOOG_return</th>\n",
       "      <th>MSFT_return</th>\n",
       "      <th>IBM_return</th>\n",
       "      <th>ADBE_return</th>\n",
       "      <th>CSCO_return</th>\n",
       "      <th>CRM_return</th>\n",
       "      <th>INTC_return</th>\n",
       "      <th>NVDA_return</th>\n",
       "      <th>FB_return</th>\n",
       "      <th>SPY_return</th>\n",
       "      <th>XLK_return</th>\n",
       "      <th>cum_return</th>\n",
       "    </tr>\n",
       "  </thead>\n",
       "  <tbody>\n",
       "    <tr>\n",
       "      <th>return</th>\n",
       "      <td>1.000000</td>\n",
       "      <td>0.471072</td>\n",
       "      <td>0.421914</td>\n",
       "      <td>0.414079</td>\n",
       "      <td>0.405569</td>\n",
       "      <td>0.454775</td>\n",
       "      <td>0.373122</td>\n",
       "      <td>0.495175</td>\n",
       "      <td>0.388990</td>\n",
       "      <td>0.064452</td>\n",
       "      <td>0.508398</td>\n",
       "      <td>0.601758</td>\n",
       "      <td>0.001113</td>\n",
       "    </tr>\n",
       "    <tr>\n",
       "      <th>GOOG_return</th>\n",
       "      <td>0.471072</td>\n",
       "      <td>1.000000</td>\n",
       "      <td>0.447525</td>\n",
       "      <td>0.402464</td>\n",
       "      <td>0.449421</td>\n",
       "      <td>0.433690</td>\n",
       "      <td>0.365352</td>\n",
       "      <td>0.416677</td>\n",
       "      <td>0.383518</td>\n",
       "      <td>0.042695</td>\n",
       "      <td>0.560490</td>\n",
       "      <td>0.599293</td>\n",
       "      <td>-0.016101</td>\n",
       "    </tr>\n",
       "    <tr>\n",
       "      <th>MSFT_return</th>\n",
       "      <td>0.421914</td>\n",
       "      <td>0.447525</td>\n",
       "      <td>1.000000</td>\n",
       "      <td>0.504885</td>\n",
       "      <td>0.503868</td>\n",
       "      <td>0.564808</td>\n",
       "      <td>0.410647</td>\n",
       "      <td>0.599245</td>\n",
       "      <td>0.440398</td>\n",
       "      <td>-0.004185</td>\n",
       "      <td>0.661557</td>\n",
       "      <td>0.737527</td>\n",
       "      <td>0.010827</td>\n",
       "    </tr>\n",
       "    <tr>\n",
       "      <th>IBM_return</th>\n",
       "      <td>0.414079</td>\n",
       "      <td>0.402464</td>\n",
       "      <td>0.504885</td>\n",
       "      <td>1.000000</td>\n",
       "      <td>0.460190</td>\n",
       "      <td>0.529107</td>\n",
       "      <td>0.440954</td>\n",
       "      <td>0.539040</td>\n",
       "      <td>0.424060</td>\n",
       "      <td>0.062784</td>\n",
       "      <td>0.640667</td>\n",
       "      <td>0.701985</td>\n",
       "      <td>0.009748</td>\n",
       "    </tr>\n",
       "    <tr>\n",
       "      <th>ADBE_return</th>\n",
       "      <td>0.405569</td>\n",
       "      <td>0.449421</td>\n",
       "      <td>0.503868</td>\n",
       "      <td>0.460190</td>\n",
       "      <td>1.000000</td>\n",
       "      <td>0.539099</td>\n",
       "      <td>0.443503</td>\n",
       "      <td>0.501824</td>\n",
       "      <td>0.429161</td>\n",
       "      <td>0.061334</td>\n",
       "      <td>0.574139</td>\n",
       "      <td>0.660903</td>\n",
       "      <td>-0.001358</td>\n",
       "    </tr>\n",
       "    <tr>\n",
       "      <th>CSCO_return</th>\n",
       "      <td>0.454775</td>\n",
       "      <td>0.433690</td>\n",
       "      <td>0.564808</td>\n",
       "      <td>0.529107</td>\n",
       "      <td>0.539099</td>\n",
       "      <td>1.000000</td>\n",
       "      <td>0.455900</td>\n",
       "      <td>0.633141</td>\n",
       "      <td>0.487059</td>\n",
       "      <td>0.054787</td>\n",
       "      <td>0.636988</td>\n",
       "      <td>0.798991</td>\n",
       "      <td>0.009033</td>\n",
       "    </tr>\n",
       "    <tr>\n",
       "      <th>CRM_return</th>\n",
       "      <td>0.373122</td>\n",
       "      <td>0.365352</td>\n",
       "      <td>0.410647</td>\n",
       "      <td>0.440954</td>\n",
       "      <td>0.443503</td>\n",
       "      <td>0.455900</td>\n",
       "      <td>1.000000</td>\n",
       "      <td>0.450921</td>\n",
       "      <td>0.414968</td>\n",
       "      <td>0.205121</td>\n",
       "      <td>0.541675</td>\n",
       "      <td>0.570355</td>\n",
       "      <td>-0.003010</td>\n",
       "    </tr>\n",
       "    <tr>\n",
       "      <th>INTC_return</th>\n",
       "      <td>0.495175</td>\n",
       "      <td>0.416677</td>\n",
       "      <td>0.599245</td>\n",
       "      <td>0.539040</td>\n",
       "      <td>0.501824</td>\n",
       "      <td>0.633141</td>\n",
       "      <td>0.450921</td>\n",
       "      <td>1.000000</td>\n",
       "      <td>0.528741</td>\n",
       "      <td>0.078258</td>\n",
       "      <td>0.654804</td>\n",
       "      <td>0.792619</td>\n",
       "      <td>0.001253</td>\n",
       "    </tr>\n",
       "    <tr>\n",
       "      <th>NVDA_return</th>\n",
       "      <td>0.388990</td>\n",
       "      <td>0.383518</td>\n",
       "      <td>0.440398</td>\n",
       "      <td>0.424060</td>\n",
       "      <td>0.429161</td>\n",
       "      <td>0.487059</td>\n",
       "      <td>0.414968</td>\n",
       "      <td>0.528741</td>\n",
       "      <td>1.000000</td>\n",
       "      <td>0.136041</td>\n",
       "      <td>0.501816</td>\n",
       "      <td>0.614102</td>\n",
       "      <td>-0.015860</td>\n",
       "    </tr>\n",
       "    <tr>\n",
       "      <th>FB_return</th>\n",
       "      <td>0.064452</td>\n",
       "      <td>0.042695</td>\n",
       "      <td>-0.004185</td>\n",
       "      <td>0.062784</td>\n",
       "      <td>0.061334</td>\n",
       "      <td>0.054787</td>\n",
       "      <td>0.205121</td>\n",
       "      <td>0.078258</td>\n",
       "      <td>0.136041</td>\n",
       "      <td>1.000000</td>\n",
       "      <td>0.096587</td>\n",
       "      <td>0.097472</td>\n",
       "      <td>-0.029201</td>\n",
       "    </tr>\n",
       "    <tr>\n",
       "      <th>SPY_return</th>\n",
       "      <td>0.508398</td>\n",
       "      <td>0.560490</td>\n",
       "      <td>0.661557</td>\n",
       "      <td>0.640667</td>\n",
       "      <td>0.574139</td>\n",
       "      <td>0.636988</td>\n",
       "      <td>0.541675</td>\n",
       "      <td>0.654804</td>\n",
       "      <td>0.501816</td>\n",
       "      <td>0.096587</td>\n",
       "      <td>1.000000</td>\n",
       "      <td>0.842124</td>\n",
       "      <td>0.020926</td>\n",
       "    </tr>\n",
       "    <tr>\n",
       "      <th>XLK_return</th>\n",
       "      <td>0.601758</td>\n",
       "      <td>0.599293</td>\n",
       "      <td>0.737527</td>\n",
       "      <td>0.701985</td>\n",
       "      <td>0.660903</td>\n",
       "      <td>0.798991</td>\n",
       "      <td>0.570355</td>\n",
       "      <td>0.792619</td>\n",
       "      <td>0.614102</td>\n",
       "      <td>0.097472</td>\n",
       "      <td>0.842124</td>\n",
       "      <td>1.000000</td>\n",
       "      <td>0.021583</td>\n",
       "    </tr>\n",
       "    <tr>\n",
       "      <th>cum_return</th>\n",
       "      <td>0.001113</td>\n",
       "      <td>-0.016101</td>\n",
       "      <td>0.010827</td>\n",
       "      <td>0.009748</td>\n",
       "      <td>-0.001358</td>\n",
       "      <td>0.009033</td>\n",
       "      <td>-0.003010</td>\n",
       "      <td>0.001253</td>\n",
       "      <td>-0.015860</td>\n",
       "      <td>-0.029201</td>\n",
       "      <td>0.020926</td>\n",
       "      <td>0.021583</td>\n",
       "      <td>1.000000</td>\n",
       "    </tr>\n",
       "  </tbody>\n",
       "</table>\n",
       "</div>"
      ],
      "text/plain": [
       "               return  GOOG_return  MSFT_return  IBM_return  ADBE_return  \\\n",
       "return       1.000000     0.471072     0.421914    0.414079     0.405569   \n",
       "GOOG_return  0.471072     1.000000     0.447525    0.402464     0.449421   \n",
       "MSFT_return  0.421914     0.447525     1.000000    0.504885     0.503868   \n",
       "IBM_return   0.414079     0.402464     0.504885    1.000000     0.460190   \n",
       "ADBE_return  0.405569     0.449421     0.503868    0.460190     1.000000   \n",
       "CSCO_return  0.454775     0.433690     0.564808    0.529107     0.539099   \n",
       "CRM_return   0.373122     0.365352     0.410647    0.440954     0.443503   \n",
       "INTC_return  0.495175     0.416677     0.599245    0.539040     0.501824   \n",
       "NVDA_return  0.388990     0.383518     0.440398    0.424060     0.429161   \n",
       "FB_return    0.064452     0.042695    -0.004185    0.062784     0.061334   \n",
       "SPY_return   0.508398     0.560490     0.661557    0.640667     0.574139   \n",
       "XLK_return   0.601758     0.599293     0.737527    0.701985     0.660903   \n",
       "cum_return   0.001113    -0.016101     0.010827    0.009748    -0.001358   \n",
       "\n",
       "             CSCO_return  CRM_return  INTC_return  NVDA_return  FB_return  \\\n",
       "return          0.454775    0.373122     0.495175     0.388990   0.064452   \n",
       "GOOG_return     0.433690    0.365352     0.416677     0.383518   0.042695   \n",
       "MSFT_return     0.564808    0.410647     0.599245     0.440398  -0.004185   \n",
       "IBM_return      0.529107    0.440954     0.539040     0.424060   0.062784   \n",
       "ADBE_return     0.539099    0.443503     0.501824     0.429161   0.061334   \n",
       "CSCO_return     1.000000    0.455900     0.633141     0.487059   0.054787   \n",
       "CRM_return      0.455900    1.000000     0.450921     0.414968   0.205121   \n",
       "INTC_return     0.633141    0.450921     1.000000     0.528741   0.078258   \n",
       "NVDA_return     0.487059    0.414968     0.528741     1.000000   0.136041   \n",
       "FB_return       0.054787    0.205121     0.078258     0.136041   1.000000   \n",
       "SPY_return      0.636988    0.541675     0.654804     0.501816   0.096587   \n",
       "XLK_return      0.798991    0.570355     0.792619     0.614102   0.097472   \n",
       "cum_return      0.009033   -0.003010     0.001253    -0.015860  -0.029201   \n",
       "\n",
       "             SPY_return  XLK_return  cum_return  \n",
       "return         0.508398    0.601758    0.001113  \n",
       "GOOG_return    0.560490    0.599293   -0.016101  \n",
       "MSFT_return    0.661557    0.737527    0.010827  \n",
       "IBM_return     0.640667    0.701985    0.009748  \n",
       "ADBE_return    0.574139    0.660903   -0.001358  \n",
       "CSCO_return    0.636988    0.798991    0.009033  \n",
       "CRM_return     0.541675    0.570355   -0.003010  \n",
       "INTC_return    0.654804    0.792619    0.001253  \n",
       "NVDA_return    0.501816    0.614102   -0.015860  \n",
       "FB_return      0.096587    0.097472   -0.029201  \n",
       "SPY_return     1.000000    0.842124    0.020926  \n",
       "XLK_return     0.842124    1.000000    0.021583  \n",
       "cum_return     0.020926    0.021583    1.000000  "
      ]
     },
     "execution_count": 21,
     "metadata": {},
     "output_type": "execute_result"
    }
   ],
   "source": [
    "# corr matrix between return of stocks and indexes\n",
    "df_train_EDA[return_li].corr()"
   ]
  },
  {
   "cell_type": "code",
   "execution_count": 22,
   "id": "c95cfd30",
   "metadata": {},
   "outputs": [
    {
     "data": {
      "text/plain": [
       "<AxesSubplot:>"
      ]
     },
     "execution_count": 22,
     "metadata": {},
     "output_type": "execute_result"
    },
    {
     "data": {
      "image/png": "[encoded data removed]",
      "text/plain": [
       "<Figure size 1080x576 with 2 Axes>"
      ]
     },
     "metadata": {},
     "output_type": "display_data"
    }
   ],
   "source": [
    "df_train_EDA['next_day_return'] = df_train_EDA['return'].shift(-1)\n",
    "sns.set({'figure.figsize':(15,8)})\n",
    "sns.heatmap(df_train_EDA.corr())"
   ]
  },
  {
   "cell_type": "code",
   "execution_count": 23,
   "id": "1839d388",
   "metadata": {},
   "outputs": [
    {
     "data": {
      "text/plain": [
       "return               -0.035376\n",
       "MSFT_return          -0.024850\n",
       "ADBE_return          -0.029784\n",
       "CSCO_volume_change   -0.023264\n",
       "CSCO_amount_change   -0.023222\n",
       "CRM_return           -0.026516\n",
       "FB_return            -0.032110\n",
       "FB_volume_change      0.022338\n",
       "SPY_return           -0.046186\n",
       "SPY_volume_change     0.027336\n",
       "SPY_amount_change     0.025778\n",
       "XLK_return           -0.027344\n",
       "next_day_return       1.000000\n",
       "Name: next_day_return, dtype: float64"
      ]
     },
     "execution_count": 23,
     "metadata": {},
     "output_type": "execute_result"
    }
   ],
   "source": [
    "s = df_train_EDA.corr()['next_day_return']\n",
    "s[abs(s)>0.02]"
   ]
  },
  {
   "cell_type": "markdown",
   "id": "84f62f3a",
   "metadata": {},
   "source": [
    "The features above have a stronger correlation with AAPL's next day return compared with other features  "
   ]
  },
  {
   "cell_type": "markdown",
   "id": "f5de4b27",
   "metadata": {},
   "source": [
    "# Prepare Data"
   ]
  },
  {
   "cell_type": "markdown",
   "id": "d1ba4132",
   "metadata": {},
   "source": [
    "### Data Cleaning"
   ]
  },
  {
   "cell_type": "code",
   "execution_count": 24,
   "id": "dc2862e6",
   "metadata": {},
   "outputs": [],
   "source": [
    "# Fill nan values with median for both train and test\n",
    "df_train = df_train.copy()\n",
    "for col in df_train.columns:\n",
    "    df_train.loc[:,col].fillna(df_train[col].median(),inplace=True)\n",
    "\n",
    "df_test = df_test.copy()\n",
    "for col in df_test.columns:\n",
    "    df_test.loc[:,col].fillna(df_test[col].median(),inplace=True)"
   ]
  },
  {
   "cell_type": "markdown",
   "id": "c38ac697",
   "metadata": {},
   "source": [
    "# Creating,testing and evaluating models"
   ]
  },
  {
   "cell_type": "markdown",
   "id": "0d1b7db0",
   "metadata": {},
   "source": [
    "Some functions to use:"
   ]
  },
  {
   "cell_type": "markdown",
   "id": "9e2cdf78",
   "metadata": {},
   "source": [
    "### Scaling\n",
    "- Standardize the data\n",
    "- Decide numbers of observations and create X_train, y_train"
   ]
  },
  {
   "cell_type": "code",
   "execution_count": 25,
   "id": "07a1702c",
   "metadata": {},
   "outputs": [],
   "source": [
    "def create_data(data,label,num_obser):\n",
    "    X = []\n",
    "    Y = []\n",
    "    for i in range(len(data)-num_obser):\n",
    "        # Normalize every data which is used to predict return\n",
    "        # Data is previous data to future return --> No looking into the future\n",
    "        scaler=MinMaxScaler(feature_range=(0,1))\n",
    "        X.append(scaler.fit_transform(data.iloc[i:i+num_obser]))\n",
    "        Y.append(label.iloc[i+num_obser])\n",
    "        \n",
    "    return np.array(X), np.array(Y)"
   ]
  },
  {
   "cell_type": "markdown",
   "id": "6e76e56d",
   "metadata": {},
   "source": [
    "- Calculate percent of correct direction prediction"
   ]
  },
  {
   "cell_type": "code",
   "execution_count": 26,
   "id": "3109983a",
   "metadata": {},
   "outputs": [],
   "source": [
    "def calculate_correct_direction_prediction(y_predict,y_actual):\n",
    "    right_count = 0\n",
    "    for i in range(len(y_predict)):\n",
    "        if (y_predict[i]) > 0 and (y_actual[i]) > 0:\n",
    "            right_count += 1\n",
    "        elif (y_predict[i]) < 0 and (y_actual[i]) < 0:\n",
    "            right_count += 1\n",
    "        else:\n",
    "            continue\n",
    "\n",
    "    return 100*(right_count/len(y_predict))"
   ]
  },
  {
   "cell_type": "markdown",
   "id": "d9235c2b",
   "metadata": {},
   "source": [
    "### Feature Engineering"
   ]
  },
  {
   "cell_type": "code",
   "execution_count": 27,
   "id": "b9ca72c8",
   "metadata": {},
   "outputs": [],
   "source": [
    "def generate_features(df):\n",
    "    df_copy = df.copy()\n",
    "    # The difference between High and Low of AAPL\n",
    "    df_copy['High_Low_diff'] = df_copy['High'] - df_copy['Low']\n",
    "    \n",
    "    # Moving Average & EMA of 5 & 20 trading days return for all tickers\n",
    "    return_li = []\n",
    "    for col in df_copy.columns:\n",
    "        if 'return' in col:\n",
    "            return_li.append(col)\n",
    "    for ret in return_li:\n",
    "        df_copy[ret+'_MA5'] = df_copy[ret].rolling(5).mean()\n",
    "        df_copy[ret+'_MA20'] = df_copy[ret].rolling(20).mean()\n",
    "        df_copy[ret+'_EMA5'] = df_copy[ret].ewm(span=5).mean()\n",
    "        df_copy[ret+'_EMA20'] = df_copy[ret].ewm(span=20).mean()\n",
    "        \n",
    "    return df_copy"
   ]
  },
  {
   "cell_type": "markdown",
   "id": "14d9aca1",
   "metadata": {},
   "source": [
    "### Error Analysis\n",
    "- Plot for train and test predicted return distribution\n",
    "- Calculate in sample, out of sample RMSE\n",
    "- Calculate percent of correct direction prediction"
   ]
  },
  {
   "cell_type": "code",
   "execution_count": 28,
   "id": "fa3b6b8e",
   "metadata": {},
   "outputs": [],
   "source": [
    "def error_analyis(model,X_train,X_test,y_train,y_test):\n",
    "    train_ret = model.predict(X_train)\n",
    "    test_ret = model.predict(X_test)\n",
    "    \n",
    "    # Calculate in sample, out of sample RMSE\n",
    "    print(\"RMSE for in sample prediction: \",np.sqrt(mean_squared_error(y_train,train_ret)))\n",
    "    print(\"RMSE for out of sample prediction: \",np.sqrt(mean_squared_error(y_test,test_ret)))\n",
    "    \n",
    "    # Calculate percent of correct direction prediction\n",
    "    print(\"Correct direction in sample prediction % is: \", calculate_correct_direction_prediction(train_ret,y_train))\n",
    "    print(\"Correct direction out of sample prediction % is: \", calculate_correct_direction_prediction(test_ret,y_test))\n",
    "\n",
    "    # Creating plot for train and test predicted return distribution\n",
    "    fig, (ax1, ax2) = plt.subplots(1, 2,figsize =(12,6))\n",
    "    \n",
    "    ax1.hist(test_ret, bins = 200,label='Predict test return',density=True,alpha=0.8)\n",
    "    ax1.hist(y_test, bins = 200, label='Actual test return',density=True,alpha=0.8)\n",
    "\n",
    "    ax1.set_title(\"Return Histogram\")\n",
    "    ax1.set_facecolor('white')\n",
    "    ax1.legend()\n",
    "    \n",
    "    # Plot predicted test return and real test return\n",
    "    ax2.plot(y_test,label=\"Real_return\")\n",
    "    ax2.plot(test_ret,label=\"Predicted_return\")\n",
    "    ax2.set_title(\"Return Plot\")\n",
    "    ax2.set_facecolor('white')\n",
    "    ax2.legend()\n"
   ]
  },
  {
   "cell_type": "markdown",
   "id": "140065ec",
   "metadata": {},
   "source": [
    "## 1. Model 0\n",
    "Base model (20 observation, only AAPL's return as feature, simple Neural Network: only Dense layers)"
   ]
  },
  {
   "cell_type": "code",
   "execution_count": 29,
   "id": "aaa3b521",
   "metadata": {},
   "outputs": [
    {
     "name": "stdout",
     "output_type": "stream",
     "text": [
      "Shape of X_train: (3402, 20, 1)\n",
      "Shape of y_train: (3402,)\n",
      "Shape of X_test: (835, 20, 1)\n",
      "Shape of y_test: (835,)\n"
     ]
    }
   ],
   "source": [
    "# Create data and label for train set\n",
    "data_train_model0 = df_train[['return']]\n",
    "label_train_model0 = df_train['return']\n",
    "number_observation_model0 = 20\n",
    "\n",
    "# Standardize the data\n",
    "# Decide numbers of observations and create X_train, y_train\n",
    "X_train, y_train = create_data(data_train_model0, label_train_model0, number_observation_model0)\n",
    "\n",
    "# Transfering test data\n",
    "# Create data and label for test set\n",
    "data_test_model0 = df_test[['return']]\n",
    "label_test_model0 = df_test['return']\n",
    "\n",
    "# Standardize the data\n",
    "# Decide numbers of observations and create X_test, y_test\n",
    "X_test, y_test = create_data(data_test_model0, label_test_model0, number_observation_model0)\n",
    "\n",
    "print(\"Shape of X_train:\", X_train.shape)\n",
    "print(\"Shape of y_train:\", y_train.shape)\n",
    "print(\"Shape of X_test:\", X_test.shape)\n",
    "print(\"Shape of y_test:\", y_test.shape)"
   ]
  },
  {
   "cell_type": "code",
   "execution_count": 30,
   "id": "03102d2e",
   "metadata": {},
   "outputs": [
    {
     "name": "stdout",
     "output_type": "stream",
     "text": [
      "Model: \"sequential\"\n",
      "_________________________________________________________________\n",
      " Layer (type)                Output Shape              Param #   \n",
      "=================================================================\n",
      " dense (Dense)               (None, 32)                672       \n",
      "                                                                 \n",
      " dense_1 (Dense)             (None, 1)                 33        \n",
      "                                                                 \n",
      "=================================================================\n",
      "Total params: 705\n",
      "Trainable params: 705\n",
      "Non-trainable params: 0\n",
      "_________________________________________________________________\n"
     ]
    }
   ],
   "source": [
    "model0 = Sequential()\n",
    "model0.add(Input(shape=number_observation_model0))\n",
    "model0.add(Dense(32,activation='relu'))          \n",
    "model0.add(Dense(1))           \n",
    "    \n",
    "model0.summary()"
   ]
  },
  {
   "cell_type": "code",
   "execution_count": 31,
   "id": "834228af",
   "metadata": {},
   "outputs": [
    {
     "name": "stdout",
     "output_type": "stream",
     "text": [
      "Epoch 1/10\n",
      "96/96 [==============================] - 1s 2ms/step - loss: 0.0284 - val_loss: 0.0065\n",
      "Epoch 2/10\n",
      "96/96 [==============================] - 0s 1ms/step - loss: 0.0044 - val_loss: 0.0030\n",
      "Epoch 3/10\n",
      "96/96 [==============================] - 0s 1ms/step - loss: 0.0027 - val_loss: 0.0022\n",
      "Epoch 4/10\n",
      "96/96 [==============================] - 0s 1ms/step - loss: 0.0021 - val_loss: 0.0033\n",
      "Epoch 5/10\n",
      "96/96 [==============================] - 0s 1ms/step - loss: 0.0019 - val_loss: 0.0015\n",
      "Epoch 6/10\n",
      "96/96 [==============================] - 0s 1ms/step - loss: 0.0017 - val_loss: 0.0017\n",
      "Epoch 7/10\n",
      "96/96 [==============================] - 0s 920us/step - loss: 0.0016 - val_loss: 0.0021\n",
      "Epoch 8/10\n",
      "96/96 [==============================] - 0s 907us/step - loss: 0.0015 - val_loss: 0.0015\n",
      "Epoch 9/10\n",
      "96/96 [==============================] - 0s 919us/step - loss: 0.0015 - val_loss: 0.0011\n",
      "Epoch 10/10\n",
      "96/96 [==============================] - 0s 1ms/step - loss: 0.0015 - val_loss: 9.8461e-04\n"
     ]
    }
   ],
   "source": [
    "loss = 'mean_squared_error'\n",
    "max_epochs = 10\n",
    "\n",
    "X_train_t, X_train_val, y_train_t, y_train_val = train_test_split(X_train, y_train, test_size=0.10, random_state=42)\n",
    "\n",
    "model0.compile(loss=loss)\n",
    "es_callback = EarlyStopping(monitor='val_loss',min_delta=.00001, patience=3,\n",
    "                            verbose=0, mode='auto',baseline=None,\n",
    "                            restore_best_weights=True)\n",
    "\n",
    "history0 = model0.fit(X_train_t, y_train_t, \n",
    "                      epochs=max_epochs,\n",
    "                      batch_size =32, \n",
    "                      validation_data=(X_train_val, y_train_val),\n",
    "                      callbacks=[es_callback])"
   ]
  },
  {
   "cell_type": "code",
   "execution_count": 32,
   "id": "34542616",
   "metadata": {
    "scrolled": false
   },
   "outputs": [
    {
     "name": "stdout",
     "output_type": "stream",
     "text": [
      "RMSE for in sample prediction:  0.030443592243328446\n",
      "RMSE for out of sample prediction:  0.019275330019765842\n",
      "Correct direction in sample prediction % is:  50.88183421516755\n",
      "Correct direction out of sample prediction % is:  48.383233532934135\n"
     ]
    },
    {
     "data": {
      "image/png": "[encoded data removed]",
      "text/plain": [
       "<Figure size 864x432 with 2 Axes>"
      ]
     },
     "metadata": {},
     "output_type": "display_data"
    }
   ],
   "source": [
    "error_analyis(model0,X_train,X_test,y_train,y_test)"
   ]
  },
  {
   "cell_type": "markdown",
   "id": "4dc746be",
   "metadata": {},
   "source": [
    "- I conducted the experiments multiple times, and I found that Model0 had relative high RMSE for both in sample and out of sample prediction\n",
    "- The In sample RMSE is always higher than out of sample RMSE, which suggests the model is underfitted\n",
    "- More features or more complex model should be considered in next steps"
   ]
  },
  {
   "cell_type": "markdown",
   "id": "037d9e7d",
   "metadata": {},
   "source": [
    "## 2. Model 1\n",
    "(20 observation, AAPL's features + Other stocks features, simple Neural Network:CNN+Dense)"
   ]
  },
  {
   "cell_type": "code",
   "execution_count": 33,
   "id": "73b23697",
   "metadata": {},
   "outputs": [
    {
     "name": "stdout",
     "output_type": "stream",
     "text": [
      "Shape of X_train: (3402, 20, 42)\n",
      "Shape of y_train: (3402,)\n",
      "Shape of X_test: (835, 20, 42)\n",
      "Shape of y_test: (835,)\n"
     ]
    }
   ],
   "source": [
    "# Create data and label for train set\n",
    "data_train_model1 = df_train.drop(columns='return')\n",
    "label_train_model1 = df_train['return']\n",
    "number_observation_model1 = 20\n",
    "\n",
    "# Standardize the data\n",
    "# Decide numbers of observations and create X_train, y_train\n",
    "X_train, y_train = create_data(data_train_model1, label_train_model1, number_observation_model1)\n",
    "\n",
    "# Transfering test data\n",
    "# Create data and label for test set\n",
    "data_test_model1 = df_test.drop(columns='return')\n",
    "label_test_model1 = df_test['return']\n",
    "\n",
    "# Standardize the data\n",
    "# Decide numbers of observations and create X_test, y_test\n",
    "X_test, y_test = create_data(data_test_model1, label_test_model1, number_observation_model1)\n",
    "\n",
    "print(\"Shape of X_train:\", X_train.shape)\n",
    "print(\"Shape of y_train:\", y_train.shape)\n",
    "print(\"Shape of X_test:\", X_test.shape)\n",
    "print(\"Shape of y_test:\", y_test.shape)"
   ]
  },
  {
   "cell_type": "code",
   "execution_count": 34,
   "id": "48cb1a55",
   "metadata": {},
   "outputs": [
    {
     "name": "stdout",
     "output_type": "stream",
     "text": [
      "Model: \"sequential_1\"\n",
      "_________________________________________________________________\n",
      " Layer (type)                Output Shape              Param #   \n",
      "=================================================================\n",
      " conv1d (Conv1D)             (None, 20, 32)            4064      \n",
      "                                                                 \n",
      " dense_2 (Dense)             (None, 20, 32)            1056      \n",
      "                                                                 \n",
      " flatten (Flatten)           (None, 640)               0         \n",
      "                                                                 \n",
      " dense_3 (Dense)             (None, 1)                 641       \n",
      "                                                                 \n",
      "=================================================================\n",
      "Total params: 5,761\n",
      "Trainable params: 5,761\n",
      "Non-trainable params: 0\n",
      "_________________________________________________________________\n"
     ]
    }
   ],
   "source": [
    "model1 = Sequential()\n",
    "model1.add(Conv1D(filters=32, kernel_size=3, padding=\"same\", input_shape=X_train.shape[1:]))\n",
    "# model1.add(Flatten())     \n",
    "model1.add(Dense(32,activation='relu')) \n",
    "model1.add(Flatten())     \n",
    "model1.add(Dense(1))         \n",
    "    \n",
    "model1.summary()"
   ]
  },
  {
   "cell_type": "code",
   "execution_count": 35,
   "id": "5e2a186b",
   "metadata": {},
   "outputs": [
    {
     "name": "stdout",
     "output_type": "stream",
     "text": [
      "Epoch 1/15\n",
      "96/96 [==============================] - 1s 2ms/step - loss: 0.0179 - val_loss: 0.0028\n",
      "Epoch 2/15\n",
      "96/96 [==============================] - 0s 2ms/step - loss: 0.0015 - val_loss: 7.5395e-04\n",
      "Epoch 3/15\n",
      "96/96 [==============================] - 0s 2ms/step - loss: 8.4300e-04 - val_loss: 7.7555e-04\n",
      "Epoch 4/15\n",
      "96/96 [==============================] - 0s 2ms/step - loss: 8.5600e-04 - val_loss: 7.5900e-04\n",
      "Epoch 5/15\n",
      "96/96 [==============================] - 0s 2ms/step - loss: 8.4031e-04 - val_loss: 7.7634e-04\n"
     ]
    }
   ],
   "source": [
    "loss = 'mean_squared_error'\n",
    "max_epochs = 15\n",
    "\n",
    "X_train_t, X_train_val, y_train_t, y_train_val = train_test_split(X_train, y_train, test_size=0.10, random_state=42)\n",
    "\n",
    "model1.compile(loss=loss)\n",
    "es_callback = EarlyStopping(monitor='val_loss',min_delta=.00001, patience=3,\n",
    "                            verbose=0, mode='auto',baseline=None,\n",
    "                            restore_best_weights=True)\n",
    "\n",
    "history1 = model1.fit(X_train_t, y_train_t, \n",
    "                      epochs=max_epochs,\n",
    "                      batch_size =32, \n",
    "                      validation_data=(X_train_val, y_train_val),\n",
    "                      callbacks=[es_callback])"
   ]
  },
  {
   "cell_type": "code",
   "execution_count": 36,
   "id": "8e6940ed",
   "metadata": {},
   "outputs": [
    {
     "name": "stdout",
     "output_type": "stream",
     "text": [
      "RMSE for in sample prediction:  0.028756542229512846\n",
      "RMSE for out of sample prediction:  0.015938969211309117\n",
      "Correct direction in sample prediction % is:  52.4103468547913\n",
      "Correct direction out of sample prediction % is:  51.616766467065865\n"
     ]
    },
    {
     "data": {
      "image/png": "[encoded data removed]",
      "text/plain": [
       "<Figure size 864x432 with 2 Axes>"
      ]
     },
     "metadata": {},
     "output_type": "display_data"
    }
   ],
   "source": [
    "error_analyis(model1,X_train,X_test,y_train,y_test)"
   ]
  },
  {
   "cell_type": "markdown",
   "id": "a05134b3",
   "metadata": {},
   "source": [
    "- Through several experients, I found that the model1 always perform better than base model\n",
    "- It may due to the fact that I added more features to the model and added a CNN layer to the model\n",
    "- Right now I am using 20 observations from past, I could try more observation next"
   ]
  },
  {
   "cell_type": "markdown",
   "id": "092f6b6c",
   "metadata": {},
   "source": [
    "## 3. Model 2\n",
    "(50 observation, AAPL's features + Other stocks features, Neural Network: CNN + Dense)"
   ]
  },
  {
   "cell_type": "code",
   "execution_count": 37,
   "id": "3303314f",
   "metadata": {},
   "outputs": [
    {
     "name": "stdout",
     "output_type": "stream",
     "text": [
      "Shape of X_train: (3372, 50, 42)\n",
      "Shape of y_train: (3372,)\n",
      "Shape of X_test: (805, 50, 42)\n",
      "Shape of y_test: (805,)\n"
     ]
    }
   ],
   "source": [
    "# Create data and label for train set\n",
    "data_train_model2 = df_train.drop(columns='return')\n",
    "label_train_model2 = df_train['return']\n",
    "number_observation_model2 = 50\n",
    "\n",
    "# Standardize the data\n",
    "# Decide numbers of observations and create X_train, y_train\n",
    "X_train, y_train = create_data(data_train_model2, label_train_model2, number_observation_model2)\n",
    "\n",
    "# Transfering test data\n",
    "# Create data and label for test set\n",
    "data_test_model2 = df_test.drop(columns='return')\n",
    "label_test_model2 = df_test['return']\n",
    "\n",
    "# Standardize the data\n",
    "# Decide numbers of observations and create X_test, y_test\n",
    "X_test, y_test = create_data(data_test_model2, label_test_model2, number_observation_model2)\n",
    "\n",
    "print(\"Shape of X_train:\", X_train.shape)\n",
    "print(\"Shape of y_train:\", y_train.shape)\n",
    "print(\"Shape of X_test:\", X_test.shape)\n",
    "print(\"Shape of y_test:\", y_test.shape)"
   ]
  },
  {
   "cell_type": "code",
   "execution_count": 38,
   "id": "86b1aaf1",
   "metadata": {},
   "outputs": [
    {
     "name": "stdout",
     "output_type": "stream",
     "text": [
      "Model: \"sequential_2\"\n",
      "_________________________________________________________________\n",
      " Layer (type)                Output Shape              Param #   \n",
      "=================================================================\n",
      " conv1d_1 (Conv1D)           (None, 50, 32)            4064      \n",
      "                                                                 \n",
      " dense_4 (Dense)             (None, 50, 32)            1056      \n",
      "                                                                 \n",
      " flatten_1 (Flatten)         (None, 1600)              0         \n",
      "                                                                 \n",
      " dense_5 (Dense)             (None, 1)                 1601      \n",
      "                                                                 \n",
      "=================================================================\n",
      "Total params: 6,721\n",
      "Trainable params: 6,721\n",
      "Non-trainable params: 0\n",
      "_________________________________________________________________\n"
     ]
    }
   ],
   "source": [
    "model2 = Sequential()\n",
    "model2.add(Conv1D(filters=32, kernel_size=3, padding=\"same\", input_shape=X_train.shape[1:]))\n",
    "model2.add(Dense(32,activation='relu')) \n",
    "model2.add(Flatten())     \n",
    "model2.add(Dense(1))         \n",
    "    \n",
    "model2.summary()"
   ]
  },
  {
   "cell_type": "code",
   "execution_count": 39,
   "id": "b90b77bc",
   "metadata": {},
   "outputs": [
    {
     "name": "stdout",
     "output_type": "stream",
     "text": [
      "Epoch 1/20\n",
      "95/95 [==============================] - 1s 4ms/step - loss: 0.0188 - val_loss: 9.0870e-04\n",
      "Epoch 2/20\n",
      "95/95 [==============================] - 0s 2ms/step - loss: 8.9473e-04 - val_loss: 6.7761e-04\n",
      "Epoch 3/20\n",
      "95/95 [==============================] - 0s 2ms/step - loss: 8.4164e-04 - val_loss: 6.7498e-04\n",
      "Epoch 4/20\n",
      "95/95 [==============================] - 0s 2ms/step - loss: 8.3540e-04 - val_loss: 7.0166e-04\n",
      "Epoch 5/20\n",
      "95/95 [==============================] - 0s 2ms/step - loss: 8.3793e-04 - val_loss: 7.0976e-04\n"
     ]
    }
   ],
   "source": [
    "loss = 'mean_squared_error'\n",
    "max_epochs = 20\n",
    "\n",
    "X_train_t, X_train_val, y_train_t, y_train_val = train_test_split(X_train, y_train, test_size=0.10, random_state=42)\n",
    "\n",
    "model2.compile(loss=loss)\n",
    "es_callback = EarlyStopping(monitor='val_loss', min_delta=.00001, patience=3, verbose=0, mode='auto', baseline=None, restore_best_weights=True)\n",
    "history2 = model2.fit(X_train_t, y_train_t, \n",
    "                      epochs=max_epochs,\n",
    "                      batch_size =32, \n",
    "                      validation_data=(X_train_val, y_train_val),\n",
    "                      callbacks=[es_callback])"
   ]
  },
  {
   "cell_type": "code",
   "execution_count": 40,
   "id": "1325db4b",
   "metadata": {},
   "outputs": [
    {
     "name": "stdout",
     "output_type": "stream",
     "text": [
      "RMSE for in sample prediction:  0.02852412392848386\n",
      "RMSE for out of sample prediction:  0.01508440156247629\n",
      "Correct direction in sample prediction % is:  51.89798339264532\n",
      "Correct direction out of sample prediction % is:  49.93788819875776\n"
     ]
    },
    {
     "data": {
      "image/png": "[encoded data removed]",
      "text/plain": [
       "<Figure size 864x432 with 2 Axes>"
      ]
     },
     "metadata": {},
     "output_type": "display_data"
    }
   ],
   "source": [
    "error_analyis(model2,X_train,X_test,y_train,y_test)"
   ]
  },
  {
   "cell_type": "markdown",
   "id": "52ff17f8",
   "metadata": {},
   "source": [
    "- RMSE for out of sample prediction improved a little compared to model1\n",
    "- It suggests that increasing number of observation is some what useful\n",
    "- At this stage, the RMSE for in sample is still higher than out of sample\n",
    "- Maybe we can try more complex neural network "
   ]
  },
  {
   "cell_type": "markdown",
   "id": "b91358d7",
   "metadata": {},
   "source": [
    "## 4. Model 3\n",
    "(50 observation, AAPL's features + Other stocks features, More complex Neural Network: more (CNN + Dense))"
   ]
  },
  {
   "cell_type": "code",
   "execution_count": 41,
   "id": "886fd0d6",
   "metadata": {},
   "outputs": [
    {
     "name": "stdout",
     "output_type": "stream",
     "text": [
      "Shape of X_train: (3372, 50, 42)\n",
      "Shape of y_train: (3372,)\n",
      "Shape of X_test: (805, 50, 42)\n",
      "Shape of y_test: (805,)\n"
     ]
    }
   ],
   "source": [
    "# Create data and label for train set\n",
    "data_train_model3 = df_train.drop(columns='return')\n",
    "label_train_model3 = df_train['return']\n",
    "number_observation_model3 = 50\n",
    "\n",
    "# Standardize the data\n",
    "# Decide numbers of observations and create X_train, y_train\n",
    "X_train, y_train = create_data(data_train_model3, label_train_model3, number_observation_model3)\n",
    "\n",
    "# Transfering test data\n",
    "# Create data and label for test set\n",
    "data_test_model3 = df_test.drop(columns='return')\n",
    "label_test_model3 = df_test['return']\n",
    "\n",
    "# Standardize the data\n",
    "# Decide numbers of observations and create X_test, y_test\n",
    "X_test, y_test = create_data(data_test_model3, label_test_model3, number_observation_model3)\n",
    "\n",
    "print(\"Shape of X_train:\", X_train.shape)\n",
    "print(\"Shape of y_train:\", y_train.shape)\n",
    "print(\"Shape of X_test:\", X_test.shape)\n",
    "print(\"Shape of y_test:\", y_test.shape)"
   ]
  },
  {
   "cell_type": "code",
   "execution_count": 42,
   "id": "2e0435cb",
   "metadata": {},
   "outputs": [
    {
     "name": "stdout",
     "output_type": "stream",
     "text": [
      "Model: \"sequential_3\"\n",
      "_________________________________________________________________\n",
      " Layer (type)                Output Shape              Param #   \n",
      "=================================================================\n",
      " conv1d_2 (Conv1D)           (None, 50, 32)            4064      \n",
      "                                                                 \n",
      " max_pooling1d (MaxPooling1D  (None, 25, 32)           0         \n",
      " )                                                               \n",
      "                                                                 \n",
      " dropout (Dropout)           (None, 25, 32)            0         \n",
      "                                                                 \n",
      " conv1d_3 (Conv1D)           (None, 25, 32)            3104      \n",
      "                                                                 \n",
      " dropout_1 (Dropout)         (None, 25, 32)            0         \n",
      "                                                                 \n",
      " dense_6 (Dense)             (None, 25, 64)            2112      \n",
      "                                                                 \n",
      " flatten_2 (Flatten)         (None, 1600)              0         \n",
      "                                                                 \n",
      " dense_7 (Dense)             (None, 1)                 1601      \n",
      "                                                                 \n",
      "=================================================================\n",
      "Total params: 10,881\n",
      "Trainable params: 10,881\n",
      "Non-trainable params: 0\n",
      "_________________________________________________________________\n"
     ]
    }
   ],
   "source": [
    "model3 = Sequential()\n",
    "model3.add(Conv1D(filters=32, kernel_size=3, padding=\"same\", input_shape=X_train.shape[1:]))\n",
    "model3.add(MaxPooling1D(pool_size=2))\n",
    "model3.add(Dropout(0.1))\n",
    "model3.add(Conv1D(filters=32, kernel_size=3, padding=\"same\"))\n",
    "model3.add(Dropout(0.1))\n",
    "model3.add(Dense(64))\n",
    "model3.add(Flatten())\n",
    "model3.add(Dense(1))           \n",
    "    \n",
    "model3.summary()"
   ]
  },
  {
   "cell_type": "code",
   "execution_count": 43,
   "id": "edbe462c",
   "metadata": {},
   "outputs": [
    {
     "name": "stdout",
     "output_type": "stream",
     "text": [
      "Epoch 1/50\n",
      "95/95 [==============================] - 1s 5ms/step - loss: 0.0993 - val_loss: 0.0077\n",
      "Epoch 2/50\n",
      "95/95 [==============================] - 0s 4ms/step - loss: 0.0094 - val_loss: 0.0020\n",
      "Epoch 3/50\n",
      "95/95 [==============================] - 0s 4ms/step - loss: 0.0052 - val_loss: 0.0016\n",
      "Epoch 4/50\n",
      "95/95 [==============================] - 0s 4ms/step - loss: 0.0027 - val_loss: 0.0011\n",
      "Epoch 5/50\n",
      "95/95 [==============================] - 0s 4ms/step - loss: 0.0024 - val_loss: 0.0085\n",
      "Epoch 6/50\n",
      "95/95 [==============================] - 0s 4ms/step - loss: 0.0022 - val_loss: 0.0012\n",
      "Epoch 7/50\n",
      "95/95 [==============================] - 0s 4ms/step - loss: 0.0018 - val_loss: 8.8303e-04\n",
      "Epoch 8/50\n",
      "95/95 [==============================] - 0s 4ms/step - loss: 0.0014 - val_loss: 0.0012\n",
      "Epoch 9/50\n",
      "95/95 [==============================] - 0s 4ms/step - loss: 0.0014 - val_loss: 9.8537e-04\n",
      "Epoch 10/50\n",
      "95/95 [==============================] - 0s 4ms/step - loss: 0.0011 - val_loss: 8.3171e-04\n",
      "Epoch 11/50\n",
      "95/95 [==============================] - 0s 4ms/step - loss: 0.0011 - val_loss: 9.1932e-04\n",
      "Epoch 12/50\n",
      "95/95 [==============================] - 0s 4ms/step - loss: 0.0010 - val_loss: 8.6043e-04\n",
      "Epoch 13/50\n",
      "95/95 [==============================] - 0s 4ms/step - loss: 9.9464e-04 - val_loss: 0.0016\n"
     ]
    }
   ],
   "source": [
    "loss = 'mean_squared_error'\n",
    "max_epochs = 50\n",
    "\n",
    "X_train_t, X_train_val, y_train_t, y_train_val = train_test_split(X_train, y_train, test_size=0.10, random_state=42)\n",
    "\n",
    "model3.compile(loss=loss)\n",
    "es_callback = EarlyStopping(monitor='val_loss', min_delta=.00001, patience=3, verbose=0, mode='auto', baseline=None, restore_best_weights=True)\n",
    "history3 = model3.fit(X_train_t, y_train_t, \n",
    "                      epochs=max_epochs,\n",
    "                      batch_size =32, \n",
    "                      validation_data=(X_train_val, y_train_val),\n",
    "                      callbacks=[es_callback])"
   ]
  },
  {
   "cell_type": "code",
   "execution_count": 44,
   "id": "da5b98af",
   "metadata": {},
   "outputs": [
    {
     "name": "stdout",
     "output_type": "stream",
     "text": [
      "RMSE for in sample prediction:  0.028896001932756425\n",
      "RMSE for out of sample prediction:  0.02241360675041222\n",
      "Correct direction in sample prediction % is:  59.72716488730724\n",
      "Correct direction out of sample prediction % is:  52.17391304347826\n"
     ]
    },
    {
     "data": {
      "image/png": "[encoded data removed]",
      "text/plain": [
       "<Figure size 864x432 with 2 Axes>"
      ]
     },
     "metadata": {},
     "output_type": "display_data"
    }
   ],
   "source": [
    "error_analyis(model3,X_train,X_test,y_train,y_test)"
   ]
  },
  {
   "cell_type": "markdown",
   "id": "93bc94c6",
   "metadata": {},
   "source": [
    "- Showing from the results of multiple experients, the RMSE for in sample prediction actually decreases\n",
    "- And the Correct direction in sample prediction % increases a lot\n",
    "- It suggests machine really learned something\n",
    "- It is time to introduce LSTM layer into model. LSTM is able to transfer memory information so it is ideal model for this time series data prediction"
   ]
  },
  {
   "cell_type": "markdown",
   "id": "68636669",
   "metadata": {},
   "source": [
    "## 5. Model 4\n",
    "(50 observation, AAPL's features + Other stocks features, More complex Neural Network (only LSTM))"
   ]
  },
  {
   "cell_type": "code",
   "execution_count": 45,
   "id": "cebfc9da",
   "metadata": {},
   "outputs": [
    {
     "name": "stdout",
     "output_type": "stream",
     "text": [
      "Shape of X_train: (3372, 50, 42)\n",
      "Shape of y_train: (3372,)\n",
      "Shape of X_test: (805, 50, 42)\n",
      "Shape of y_test: (805,)\n"
     ]
    }
   ],
   "source": [
    "# Create data and label for train set\n",
    "data_train_model4 = df_train.drop(columns='return')\n",
    "label_train_model4 = df_train['return']\n",
    "number_observation_model4 = 50\n",
    "\n",
    "# Standardize the data\n",
    "# Decide numbers of observations and create X_train, y_train\n",
    "X_train, y_train = create_data(data_train_model4, label_train_model4, number_observation_model4)\n",
    "\n",
    "# Transfering test data\n",
    "# Create data and label for test set\n",
    "data_test_model4 = df_test.drop(columns='return')\n",
    "label_test_model4= df_test['return']\n",
    "\n",
    "# Standardize the data\n",
    "# Decide numbers of observations and create X_test, y_test\n",
    "X_test, y_test = create_data(data_test_model4, label_test_model4, number_observation_model4)\n",
    "\n",
    "print(\"Shape of X_train:\", X_train.shape)\n",
    "print(\"Shape of y_train:\", y_train.shape)\n",
    "print(\"Shape of X_test:\", X_test.shape)\n",
    "print(\"Shape of y_test:\", y_test.shape)"
   ]
  },
  {
   "cell_type": "code",
   "execution_count": 46,
   "id": "fd13122d",
   "metadata": {},
   "outputs": [
    {
     "name": "stdout",
     "output_type": "stream",
     "text": [
      "Model: \"sequential_4\"\n",
      "_________________________________________________________________\n",
      " Layer (type)                Output Shape              Param #   \n",
      "=================================================================\n",
      " lstm (LSTM)                 (None, 50, 64)            27392     \n",
      "                                                                 \n",
      " lstm_1 (LSTM)               (None, 50, 64)            33024     \n",
      "                                                                 \n",
      " lstm_2 (LSTM)               (None, 64)                33024     \n",
      "                                                                 \n",
      " dense_8 (Dense)             (None, 1)                 65        \n",
      "                                                                 \n",
      "=================================================================\n",
      "Total params: 93,505\n",
      "Trainable params: 93,505\n",
      "Non-trainable params: 0\n",
      "_________________________________________________________________\n"
     ]
    }
   ],
   "source": [
    "model4 = Sequential()\n",
    "model4.add(LSTM(64,return_sequences=True,input_shape=(X_train.shape[1:])))\n",
    "model4.add(LSTM(64,return_sequences=True))\n",
    "model4.add(LSTM(64))\n",
    "model4.add(Dense(1))           \n",
    "    \n",
    "model4.summary()"
   ]
  },
  {
   "cell_type": "code",
   "execution_count": 47,
   "id": "c14f5319",
   "metadata": {},
   "outputs": [
    {
     "name": "stdout",
     "output_type": "stream",
     "text": [
      "Epoch 1/20\n",
      "95/95 [==============================] - 9s 52ms/step - loss: 0.0097 - val_loss: 7.6880e-04\n",
      "Epoch 2/20\n",
      "95/95 [==============================] - 4s 42ms/step - loss: 0.0011 - val_loss: 8.4936e-04\n",
      "Epoch 3/20\n",
      "95/95 [==============================] - 4s 42ms/step - loss: 8.8654e-04 - val_loss: 9.0511e-04\n",
      "Epoch 4/20\n",
      "95/95 [==============================] - 4s 42ms/step - loss: 8.7420e-04 - val_loss: 7.2598e-04\n",
      "Epoch 5/20\n",
      "95/95 [==============================] - 4s 44ms/step - loss: 8.5864e-04 - val_loss: 6.8688e-04\n",
      "Epoch 6/20\n",
      "95/95 [==============================] - 4s 43ms/step - loss: 8.5247e-04 - val_loss: 7.7701e-04\n",
      "Epoch 7/20\n",
      "95/95 [==============================] - 4s 43ms/step - loss: 8.4537e-04 - val_loss: 6.7383e-04\n",
      "Epoch 8/20\n",
      "95/95 [==============================] - 4s 42ms/step - loss: 8.3943e-04 - val_loss: 7.6879e-04\n",
      "Epoch 9/20\n",
      "95/95 [==============================] - 4s 47ms/step - loss: 8.4108e-04 - val_loss: 6.8098e-04\n",
      "Epoch 10/20\n",
      "95/95 [==============================] - 5s 54ms/step - loss: 8.3617e-04 - val_loss: 6.8685e-04\n",
      "Epoch 11/20\n",
      "95/95 [==============================] - 5s 50ms/step - loss: 8.3906e-04 - val_loss: 6.6701e-04\n",
      "Epoch 12/20\n",
      "95/95 [==============================] - 6s 59ms/step - loss: 8.3163e-04 - val_loss: 6.8344e-04\n",
      "Epoch 13/20\n",
      "95/95 [==============================] - 6s 60ms/step - loss: 8.2879e-04 - val_loss: 6.8678e-04\n",
      "Epoch 14/20\n",
      "95/95 [==============================] - 5s 55ms/step - loss: 8.2454e-04 - val_loss: 6.8471e-04\n",
      "Epoch 15/20\n",
      "95/95 [==============================] - 5s 49ms/step - loss: 8.2465e-04 - val_loss: 6.7379e-04\n",
      "Epoch 16/20\n",
      "95/95 [==============================] - 4s 46ms/step - loss: 8.1799e-04 - val_loss: 6.7848e-04\n"
     ]
    }
   ],
   "source": [
    "loss = 'mean_squared_error'\n",
    "max_epochs = 20\n",
    "\n",
    "X_train_t, X_train_val, y_train_t, y_train_val = train_test_split(X_train, y_train, test_size=0.10, random_state=42)\n",
    "\n",
    "model4.compile(loss=loss)\n",
    "es_callback = EarlyStopping(monitor='val_loss', min_delta=.000001, patience=5, verbose=0, mode='auto', baseline=None, restore_best_weights=True)\n",
    "history4 = model4.fit(X_train_t, y_train_t, \n",
    "                      epochs=max_epochs,\n",
    "                      batch_size =32, \n",
    "                      validation_data=(X_train_val, y_train_val),\n",
    "                      callbacks=[es_callback])"
   ]
  },
  {
   "cell_type": "code",
   "execution_count": 48,
   "id": "fcf529c7",
   "metadata": {},
   "outputs": [
    {
     "name": "stdout",
     "output_type": "stream",
     "text": [
      "RMSE for in sample prediction:  0.02826607492216993\n",
      "RMSE for out of sample prediction:  0.015148979327202104\n",
      "Correct direction in sample prediction % is:  54.24080664294188\n",
      "Correct direction out of sample prediction % is:  51.30434782608696\n"
     ]
    },
    {
     "data": {
      "image/png": "[encoded data removed]",
      "text/plain": [
       "<Figure size 864x432 with 2 Axes>"
      ]
     },
     "metadata": {},
     "output_type": "display_data"
    }
   ],
   "source": [
    "error_analyis(model4,X_train,X_test,y_train,y_test)"
   ]
  },
  {
   "cell_type": "markdown",
   "id": "045b508c",
   "metadata": {},
   "source": [
    "- RMSE for out of sample prediction of LSTM model is very low. And that is the best out of sample prediction so far\n",
    "- At this stage, maybe generating more features will help improve the result"
   ]
  },
  {
   "cell_type": "markdown",
   "id": "7c2773dd",
   "metadata": {},
   "source": [
    "## 6. Model 5\n",
    "(50 observation, AAPL's features + Other stocks features + Feature Engineering, More complex Neural Network : more (CNN + Dense))"
   ]
  },
  {
   "cell_type": "code",
   "execution_count": 49,
   "id": "014cd36e",
   "metadata": {},
   "outputs": [
    {
     "name": "stdout",
     "output_type": "stream",
     "text": [
      "Shape of X_train: (3372, 50, 91)\n",
      "Shape of y_train: (3372,)\n",
      "Shape of X_test: (805, 50, 91)\n",
      "Shape of y_test: (805,)\n"
     ]
    }
   ],
   "source": [
    "# Feature Engineering to get more features\n",
    "data_train_model5 = generate_features(df_train)\n",
    "\n",
    "# Clean data\n",
    "data_train_model5 = data_train_model5.copy()\n",
    "for col in data_train_model5.columns:\n",
    "    data_train_model5.loc[:,col].fillna(data_train_model5[col].median(),inplace=True)\n",
    "    \n",
    "# Create data and label for train set\n",
    "label_train_model5 = data_train_model5['return']\n",
    "data_train_model5 = data_train_model5.drop(columns='return')\n",
    "number_observation_model5 = 50\n",
    "\n",
    "# Standardize the data\n",
    "# Decide numbers of observations and create X_train, y_train\n",
    "X_train, y_train = create_data(data_train_model5, label_train_model5, number_observation_model5)\n",
    "\n",
    "\n",
    "# Transfering test data\n",
    "# Feature Engineering to get more features\n",
    "data_test_model5 = generate_features(df_test)\n",
    "\n",
    "# Clean data\n",
    "data_test_model5 = data_test_model5.copy()\n",
    "for col in data_test_model5.columns:\n",
    "    data_test_model5.loc[:,col].fillna(data_test_model5[col].median(),inplace=True)\n",
    "    \n",
    "# Create data and label for test set\n",
    "label_test_model5 = data_test_model5['return']\n",
    "data_test_model5 = data_test_model5.drop(columns='return')\n",
    "\n",
    "# Standardize the data\n",
    "# Decide numbers of observations and create X_test, y_test\n",
    "X_test, y_test = create_data(data_test_model5, label_test_model5, number_observation_model5)\n",
    "\n",
    "print(\"Shape of X_train:\", X_train.shape)\n",
    "print(\"Shape of y_train:\", y_train.shape)\n",
    "print(\"Shape of X_test:\", X_test.shape)\n",
    "print(\"Shape of y_test:\", y_test.shape)"
   ]
  },
  {
   "cell_type": "code",
   "execution_count": 50,
   "id": "3aa26d1f",
   "metadata": {},
   "outputs": [
    {
     "name": "stdout",
     "output_type": "stream",
     "text": [
      "Model: \"sequential_5\"\n",
      "_________________________________________________________________\n",
      " Layer (type)                Output Shape              Param #   \n",
      "=================================================================\n",
      " conv1d_4 (Conv1D)           (None, 50, 32)            8768      \n",
      "                                                                 \n",
      " max_pooling1d_1 (MaxPooling  (None, 25, 32)           0         \n",
      " 1D)                                                             \n",
      "                                                                 \n",
      " dropout_2 (Dropout)         (None, 25, 32)            0         \n",
      "                                                                 \n",
      " conv1d_5 (Conv1D)           (None, 25, 32)            3104      \n",
      "                                                                 \n",
      " dropout_3 (Dropout)         (None, 25, 32)            0         \n",
      "                                                                 \n",
      " dense_9 (Dense)             (None, 25, 64)            2112      \n",
      "                                                                 \n",
      " flatten_3 (Flatten)         (None, 1600)              0         \n",
      "                                                                 \n",
      " dense_10 (Dense)            (None, 1)                 1601      \n",
      "                                                                 \n",
      "=================================================================\n",
      "Total params: 15,585\n",
      "Trainable params: 15,585\n",
      "Non-trainable params: 0\n",
      "_________________________________________________________________\n"
     ]
    }
   ],
   "source": [
    "model5 = Sequential()\n",
    "model5.add(Conv1D(filters=32, kernel_size=3, padding=\"same\", input_shape=X_train.shape[1:]))\n",
    "model5.add(MaxPooling1D(pool_size=2))\n",
    "model5.add(Dropout(0.1))\n",
    "model5.add(Conv1D(filters=32, kernel_size=3, padding=\"same\"))\n",
    "model5.add(Dropout(0.1))\n",
    "model5.add(Dense(64))\n",
    "model5.add(Flatten())\n",
    "model5.add(Dense(1))           \n",
    "    \n",
    "model5.summary()"
   ]
  },
  {
   "cell_type": "code",
   "execution_count": 51,
   "id": "107eb08a",
   "metadata": {},
   "outputs": [
    {
     "name": "stdout",
     "output_type": "stream",
     "text": [
      "Epoch 1/50\n",
      "95/95 [==============================] - 1s 6ms/step - loss: 0.2325 - val_loss: 0.0127\n",
      "Epoch 2/50\n",
      "95/95 [==============================] - 0s 5ms/step - loss: 0.0300 - val_loss: 0.0032\n",
      "Epoch 3/50\n",
      "95/95 [==============================] - 0s 5ms/step - loss: 0.0138 - val_loss: 0.0022\n",
      "Epoch 4/50\n",
      "95/95 [==============================] - 0s 5ms/step - loss: 0.0179 - val_loss: 0.0018\n",
      "Epoch 5/50\n",
      "95/95 [==============================] - 0s 5ms/step - loss: 0.0163 - val_loss: 0.0020\n",
      "Epoch 6/50\n",
      "95/95 [==============================] - 0s 5ms/step - loss: 0.0121 - val_loss: 0.0010\n",
      "Epoch 7/50\n",
      "95/95 [==============================] - 0s 5ms/step - loss: 0.0044 - val_loss: 0.0051\n",
      "Epoch 8/50\n",
      "95/95 [==============================] - 0s 5ms/step - loss: 0.0111 - val_loss: 0.0011\n",
      "Epoch 9/50\n",
      "95/95 [==============================] - 0s 5ms/step - loss: 0.0024 - val_loss: 0.0013\n"
     ]
    }
   ],
   "source": [
    "loss = 'mean_squared_error'\n",
    "max_epochs = 50\n",
    "\n",
    "X_train_t, X_train_val, y_train_t, y_train_val = train_test_split(X_train, y_train, test_size=0.10, random_state=42)\n",
    "\n",
    "model5.compile(loss=loss)\n",
    "es_callback = EarlyStopping(monitor='val_loss', min_delta=.00001, patience=3, verbose=0, mode='auto', baseline=None, restore_best_weights=True)\n",
    "history5 = model5.fit(X_train_t, y_train_t, \n",
    "                      epochs=max_epochs,\n",
    "                      batch_size =32, \n",
    "                      validation_data=(X_train_val, y_train_val),\n",
    "                      callbacks=[es_callback])"
   ]
  },
  {
   "cell_type": "code",
   "execution_count": 52,
   "id": "c5224f5a",
   "metadata": {},
   "outputs": [
    {
     "name": "stdout",
     "output_type": "stream",
     "text": [
      "RMSE for in sample prediction:  0.03260798543624713\n",
      "RMSE for out of sample prediction:  0.026579688113668114\n",
      "Correct direction in sample prediction % is:  53.4994068801898\n",
      "Correct direction out of sample prediction % is:  49.81366459627329\n"
     ]
    },
    {
     "data": {
      "image/png": "[encoded data removed]",
      "text/plain": [
       "<Figure size 864x432 with 2 Axes>"
      ]
     },
     "metadata": {},
     "output_type": "display_data"
    }
   ],
   "source": [
    "error_analyis(model5,X_train,X_test,y_train,y_test)"
   ]
  },
  {
   "cell_type": "markdown",
   "id": "d098fc11",
   "metadata": {},
   "source": [
    "- Adding more features does not seem to improve the performance \n",
    "- Maybe try one more model with feature engineering and even more complex network"
   ]
  },
  {
   "cell_type": "markdown",
   "id": "9aaec2f0",
   "metadata": {},
   "source": [
    "## 7. Model 6\n",
    "(50 observation, AAPL's features + Other stocks features + Feature Engineering, More complex Neural Network : more (CNN + Dense + LSTM))"
   ]
  },
  {
   "cell_type": "code",
   "execution_count": 53,
   "id": "42fbfdc8",
   "metadata": {},
   "outputs": [
    {
     "name": "stdout",
     "output_type": "stream",
     "text": [
      "Shape of X_train: (3372, 50, 91)\n",
      "Shape of y_train: (3372,)\n",
      "Shape of X_test: (805, 50, 91)\n",
      "Shape of y_test: (805,)\n"
     ]
    }
   ],
   "source": [
    "# Feature Engineering to get more features\n",
    "data_train_model6 = generate_features(df_train)\n",
    "\n",
    "# Clean data\n",
    "data_train_model6 = data_train_model6.copy()\n",
    "for col in data_train_model6.columns:\n",
    "    data_train_model6.loc[:,col].fillna(data_train_model6[col].median(),inplace=True)\n",
    "    \n",
    "# Create data and label for train set\n",
    "label_train_model6 = data_train_model6['return']\n",
    "data_train_model6 = data_train_model6.drop(columns='return')\n",
    "number_observation_model6 = 50\n",
    "\n",
    "# Standardize the data\n",
    "# Decide numbers of observations and create X_train, y_train\n",
    "X_train, y_train = create_data(data_train_model6, label_train_model6,number_observation_model6)\n",
    "\n",
    "\n",
    "# Transfering test data\n",
    "# Feature Engineering to get more features\n",
    "data_test_model6 = generate_features(df_test)\n",
    "\n",
    "# Clean data\n",
    "data_test_model6 = data_test_model6.copy()\n",
    "for col in data_test_model6.columns:\n",
    "    data_test_model6.loc[:,col].fillna(data_test_model6[col].median(),inplace=True)\n",
    "    \n",
    "# Create data and label for test set\n",
    "label_test_model6 = data_test_model6['return']\n",
    "data_test_model6 = data_test_model6.drop(columns='return')\n",
    "\n",
    "# Standardize the data\n",
    "# Decide numbers of observations and create X_test, y_test\n",
    "X_test, y_test = create_data(data_test_model6, label_test_model6, number_observation_model6)\n",
    "\n",
    "print(\"Shape of X_train:\", X_train.shape)\n",
    "print(\"Shape of y_train:\", y_train.shape)\n",
    "print(\"Shape of X_test:\", X_test.shape)\n",
    "print(\"Shape of y_test:\", y_test.shape)"
   ]
  },
  {
   "cell_type": "code",
   "execution_count": 54,
   "id": "01955b5a",
   "metadata": {},
   "outputs": [
    {
     "name": "stdout",
     "output_type": "stream",
     "text": [
      "Model: \"sequential_6\"\n",
      "_________________________________________________________________\n",
      " Layer (type)                Output Shape              Param #   \n",
      "=================================================================\n",
      " conv1d_6 (Conv1D)           (None, 50, 64)            17536     \n",
      "                                                                 \n",
      " dropout_4 (Dropout)         (None, 50, 64)            0         \n",
      "                                                                 \n",
      " conv1d_7 (Conv1D)           (None, 50, 64)            12352     \n",
      "                                                                 \n",
      " dropout_5 (Dropout)         (None, 50, 64)            0         \n",
      "                                                                 \n",
      " max_pooling1d_2 (MaxPooling  (None, 25, 64)           0         \n",
      " 1D)                                                             \n",
      "                                                                 \n",
      " lstm_3 (LSTM)               (None, 25, 64)            33024     \n",
      "                                                                 \n",
      " dense_11 (Dense)            (None, 25, 64)            4160      \n",
      "                                                                 \n",
      " flatten_4 (Flatten)         (None, 1600)              0         \n",
      "                                                                 \n",
      " dense_12 (Dense)            (None, 1)                 1601      \n",
      "                                                                 \n",
      "=================================================================\n",
      "Total params: 68,673\n",
      "Trainable params: 68,673\n",
      "Non-trainable params: 0\n",
      "_________________________________________________________________\n"
     ]
    }
   ],
   "source": [
    "model6 = Sequential()\n",
    "model6.add(Conv1D(filters=64, kernel_size=3, padding=\"same\", input_shape=X_train.shape[1:]))\n",
    "model6.add(Dropout(0.1))\n",
    "model6.add(Conv1D(filters=64, kernel_size=3, padding=\"same\"))\n",
    "model6.add(Dropout(0.1))\n",
    "model6.add(MaxPooling1D(pool_size=2))\n",
    "model6.add(LSTM(64,return_sequences=True))\n",
    "model6.add(Dense(64))\n",
    "model6.add(Flatten())\n",
    "model6.add(Dense(1))           \n",
    "    \n",
    "model6.summary()"
   ]
  },
  {
   "cell_type": "code",
   "execution_count": 55,
   "id": "a05a9a94",
   "metadata": {},
   "outputs": [
    {
     "name": "stdout",
     "output_type": "stream",
     "text": [
      "Epoch 1/50\n",
      "95/95 [==============================] - 3s 19ms/step - loss: 0.0777 - val_loss: 0.0011\n",
      "Epoch 2/50\n",
      "95/95 [==============================] - 1s 15ms/step - loss: 0.0025 - val_loss: 6.8681e-04\n",
      "Epoch 3/50\n",
      "95/95 [==============================] - 1s 16ms/step - loss: 8.6588e-04 - val_loss: 6.8317e-04\n",
      "Epoch 4/50\n",
      "95/95 [==============================] - 1s 15ms/step - loss: 9.7481e-04 - val_loss: 6.7719e-04\n",
      "Epoch 5/50\n",
      "95/95 [==============================] - 1s 16ms/step - loss: 8.3945e-04 - val_loss: 6.7867e-04\n",
      "Epoch 6/50\n",
      "95/95 [==============================] - 1s 15ms/step - loss: 8.4515e-04 - val_loss: 6.7638e-04\n",
      "Epoch 7/50\n",
      "95/95 [==============================] - 2s 16ms/step - loss: 8.4729e-04 - val_loss: 6.7953e-04\n",
      "Epoch 8/50\n",
      "95/95 [==============================] - 1s 15ms/step - loss: 8.4133e-04 - val_loss: 8.0879e-04\n",
      "Epoch 9/50\n",
      "95/95 [==============================] - 1s 15ms/step - loss: 8.4041e-04 - val_loss: 7.2114e-04\n",
      "Epoch 10/50\n",
      "95/95 [==============================] - 1s 15ms/step - loss: 8.3900e-04 - val_loss: 6.8157e-04\n",
      "Epoch 11/50\n",
      "95/95 [==============================] - 1s 15ms/step - loss: 8.4832e-04 - val_loss: 6.8729e-04\n"
     ]
    }
   ],
   "source": [
    "loss = 'mean_squared_error'\n",
    "max_epochs = 50\n",
    "\n",
    "X_train_t, X_train_val, y_train_t, y_train_val = train_test_split(X_train, y_train, test_size=0.10, random_state=42)\n",
    "\n",
    "model6.compile(loss=loss)\n",
    "es_callback = EarlyStopping(monitor='val_loss', min_delta=.00001, patience=5, verbose=0, mode='auto', baseline=None, restore_best_weights=True)\n",
    "history6 = model6.fit(X_train_t, y_train_t, \n",
    "                      epochs=max_epochs,\n",
    "                      batch_size =32, \n",
    "                      validation_data=(X_train_val, y_train_val),\n",
    "                      callbacks=[es_callback])"
   ]
  },
  {
   "cell_type": "code",
   "execution_count": 56,
   "id": "2554b607",
   "metadata": {},
   "outputs": [
    {
     "name": "stdout",
     "output_type": "stream",
     "text": [
      "RMSE for in sample prediction:  0.02856834493073194\n",
      "RMSE for out of sample prediction:  0.015117490772809558\n",
      "Correct direction in sample prediction % is:  51.69039145907474\n",
      "Correct direction out of sample prediction % is:  51.18012422360248\n"
     ]
    },
    {
     "data": {
      "image/png": "[encoded data removed]",
      "text/plain": [
       "<Figure size 864x432 with 2 Axes>"
      ]
     },
     "metadata": {},
     "output_type": "display_data"
    }
   ],
   "source": [
    "error_analyis(model6,X_train,X_test,y_train,y_test)"
   ]
  },
  {
   "cell_type": "markdown",
   "id": "fa8ec79c",
   "metadata": {},
   "source": [
    "- So far this best model is still pure LSTM model\n",
    "- Last model I will try fit LSTM model with feature engineering"
   ]
  },
  {
   "cell_type": "markdown",
   "id": "4eceba42",
   "metadata": {},
   "source": [
    "## 8. Model 7\n",
    "(50 observation, AAPL's features + Other stocks features + Feature Engineering, LSTM model))"
   ]
  },
  {
   "cell_type": "code",
   "execution_count": 57,
   "id": "097950b6",
   "metadata": {},
   "outputs": [
    {
     "name": "stdout",
     "output_type": "stream",
     "text": [
      "Shape of X_train: (3372, 50, 91)\n",
      "Shape of y_train: (3372,)\n",
      "Shape of X_test: (805, 50, 91)\n",
      "Shape of y_test: (805,)\n"
     ]
    }
   ],
   "source": [
    "# Feature Engineering to get more features\n",
    "data_train_model7 = generate_features(df_train)\n",
    "\n",
    "# Clean data\n",
    "data_train_model7 = data_train_model7.copy()\n",
    "for col in data_train_model7.columns:\n",
    "    data_train_model7.loc[:,col].fillna(data_train_model7[col].median(),inplace=True)\n",
    "    \n",
    "# Create data and label for train set\n",
    "label_train_model7 = data_train_model7['return']\n",
    "data_train_model7 = data_train_model7.drop(columns='return')\n",
    "number_observation_model7 = 50\n",
    "\n",
    "# Standardize the data\n",
    "# Decide numbers of observations and create X_train, y_train\n",
    "X_train, y_train = create_data(data_train_model7, label_train_model7,number_observation_model7)\n",
    "\n",
    "\n",
    "# Transfering test data\n",
    "# Feature Engineering to get more features\n",
    "data_test_model7 = generate_features(df_test)\n",
    "\n",
    "# Clean data\n",
    "data_test_model7 = data_test_model7.copy()\n",
    "for col in data_test_model7.columns:\n",
    "    data_test_model7.loc[:,col].fillna(data_test_model7[col].median(),inplace=True)\n",
    "    \n",
    "# Create data and label for test set\n",
    "label_test_model7 = data_test_model7['return']\n",
    "data_test_model7 = data_test_model7.drop(columns='return')\n",
    "\n",
    "# Standardize the data\n",
    "# Decide numbers of observations and create X_test, y_test\n",
    "X_test, y_test = create_data(data_test_model7, label_test_model7, number_observation_model7)\n",
    "\n",
    "print(\"Shape of X_train:\", X_train.shape)\n",
    "print(\"Shape of y_train:\", y_train.shape)\n",
    "print(\"Shape of X_test:\", X_test.shape)\n",
    "print(\"Shape of y_test:\", y_test.shape)"
   ]
  },
  {
   "cell_type": "code",
   "execution_count": 58,
   "id": "795c0f87",
   "metadata": {},
   "outputs": [
    {
     "name": "stdout",
     "output_type": "stream",
     "text": [
      "Model: \"sequential_7\"\n",
      "_________________________________________________________________\n",
      " Layer (type)                Output Shape              Param #   \n",
      "=================================================================\n",
      " lstm_4 (LSTM)               (None, 50, 64)            39936     \n",
      "                                                                 \n",
      " lstm_5 (LSTM)               (None, 50, 64)            33024     \n",
      "                                                                 \n",
      " lstm_6 (LSTM)               (None, 64)                33024     \n",
      "                                                                 \n",
      " dense_13 (Dense)            (None, 1)                 65        \n",
      "                                                                 \n",
      "=================================================================\n",
      "Total params: 106,049\n",
      "Trainable params: 106,049\n",
      "Non-trainable params: 0\n",
      "_________________________________________________________________\n"
     ]
    }
   ],
   "source": [
    "model7 = Sequential()\n",
    "model7.add(LSTM(64,return_sequences=True,input_shape=(X_train.shape[1:])))\n",
    "model7.add(LSTM(64,return_sequences=True))\n",
    "model7.add(LSTM(64))\n",
    "model7.add(Dense(1))           \n",
    "    \n",
    "model7.summary()"
   ]
  },
  {
   "cell_type": "code",
   "execution_count": 59,
   "id": "6c932cca",
   "metadata": {},
   "outputs": [
    {
     "name": "stdout",
     "output_type": "stream",
     "text": [
      "Epoch 1/50\n",
      "95/95 [==============================] - 9s 54ms/step - loss: 0.0100 - val_loss: 7.7223e-04\n",
      "Epoch 2/50\n",
      "95/95 [==============================] - 4s 42ms/step - loss: 0.0010 - val_loss: 6.8825e-04\n",
      "Epoch 3/50\n",
      "95/95 [==============================] - 4s 42ms/step - loss: 8.8387e-04 - val_loss: 7.6618e-04\n",
      "Epoch 4/50\n",
      "95/95 [==============================] - 4s 42ms/step - loss: 8.7355e-04 - val_loss: 7.0624e-04\n",
      "Epoch 5/50\n",
      "95/95 [==============================] - 4s 44ms/step - loss: 8.5184e-04 - val_loss: 6.8545e-04\n",
      "Epoch 6/50\n",
      "95/95 [==============================] - 4s 44ms/step - loss: 8.4142e-04 - val_loss: 6.7330e-04\n",
      "Epoch 7/50\n",
      "95/95 [==============================] - 4s 44ms/step - loss: 8.3904e-04 - val_loss: 6.7186e-04\n",
      "Epoch 8/50\n",
      "95/95 [==============================] - 5s 47ms/step - loss: 8.2984e-04 - val_loss: 6.7336e-04\n",
      "Epoch 9/50\n",
      "95/95 [==============================] - 5s 53ms/step - loss: 8.2237e-04 - val_loss: 7.1304e-04\n",
      "Epoch 10/50\n",
      "95/95 [==============================] - 5s 52ms/step - loss: 8.1745e-04 - val_loss: 6.8003e-04\n",
      "Epoch 11/50\n",
      "95/95 [==============================] - 4s 47ms/step - loss: 8.0437e-04 - val_loss: 6.8994e-04\n"
     ]
    }
   ],
   "source": [
    "loss = 'mean_squared_error'\n",
    "max_epochs = 50\n",
    "\n",
    "X_train_t, X_train_val, y_train_t, y_train_val = train_test_split(X_train, y_train, test_size=0.10, random_state=42)\n",
    "\n",
    "model7.compile(loss=loss)\n",
    "es_callback = EarlyStopping(monitor='val_loss', min_delta=.00001, patience=5, verbose=0, mode='auto', baseline=None, restore_best_weights=True)\n",
    "history7 = model7.fit(X_train_t, y_train_t, \n",
    "                      epochs=max_epochs,\n",
    "                      batch_size =32, \n",
    "                      validation_data=(X_train_val, y_train_val),\n",
    "                      callbacks=[es_callback])"
   ]
  },
  {
   "cell_type": "code",
   "execution_count": 60,
   "id": "6bdb5e79",
   "metadata": {},
   "outputs": [
    {
     "name": "stdout",
     "output_type": "stream",
     "text": [
      "RMSE for in sample prediction:  0.02834261548443279\n",
      "RMSE for out of sample prediction:  0.014985958167238637\n",
      "Correct direction in sample prediction % is:  54.03321470937129\n",
      "Correct direction out of sample prediction % is:  48.94409937888199\n"
     ]
    },
    {
     "data": {
      "image/png": "[encoded data removed]",
      "text/plain": [
       "<Figure size 864x432 with 2 Axes>"
      ]
     },
     "metadata": {},
     "output_type": "display_data"
    }
   ],
   "source": [
    "error_analyis(model7,X_train,X_test,y_train,y_test)"
   ]
  },
  {
   "cell_type": "markdown",
   "id": "cd388994",
   "metadata": {},
   "source": [
    "- After several experiments, I find that Model4 actually performs the best\n",
    "- It has lowest out of sample prediction compared with other model\n",
    "- It has correct direction prediction larger than 50% for both in sample and out sample\n",
    "- Model4 will be selected as final model"
   ]
  },
  {
   "cell_type": "markdown",
   "id": "6a44f356",
   "metadata": {},
   "source": [
    "## Submission and Evaluation"
   ]
  },
  {
   "cell_type": "code",
   "execution_count": 61,
   "id": "b5155a3d",
   "metadata": {},
   "outputs": [
    {
     "name": "stdout",
     "output_type": "stream",
     "text": [
      "Model saved in directory ./final_model; create an archive of this directory and submit with your assignment.\n"
     ]
    }
   ],
   "source": [
    "import os\n",
    "from tensorflow.keras.models import load_model\n",
    "import tensorflow as tf\n",
    "import pandas as pd\n",
    "import numpy as np\n",
    "from tensorflow.keras.models import Model, Sequential\n",
    "from tensorflow.keras.layers import Dense\n",
    "from tensorflow.keras.layers import LSTM\n",
    "from tensorflow.keras.layers import Conv1D, Dropout, MaxPooling1D, Input, Flatten\n",
    "from sklearn.model_selection import train_test_split\n",
    "from sklearn.preprocessing import MinMaxScaler\n",
    "from sklearn.metrics import mean_squared_error\n",
    "from tensorflow.keras.callbacks import EarlyStopping\n",
    "\n",
    "modelName = \"final_model\"\n",
    "model_path = os.path.join(\".\", modelName)\n",
    "def create_data(data,label,num_obser):\n",
    "    X = []\n",
    "    Y = []\n",
    "    for i in range(len(data)-num_obser):\n",
    "        # Normalize every data which is used to predict return\n",
    "        # Data is previous data to future return --> No looking into the future\n",
    "        scaler=MinMaxScaler(feature_range=(0,1))\n",
    "        X.append(scaler.fit_transform(data.iloc[i:i+num_obser]))\n",
    "        Y.append(label.iloc[i+num_obser])\n",
    "        \n",
    "    return np.array(X), np.array(Y)\n",
    "\n",
    "def merge_other_data(file_li,df,dirc):\n",
    "    for file in file_li:\n",
    "        data = pd.read_csv(os.path.join(dirc,file))\n",
    "        company_ticker = file.split('.')[0]\n",
    "        # return\n",
    "        ret_col_name = company_ticker +'_return'\n",
    "        data[ret_col_name] = data['Adj Close'].pct_change()\n",
    "        # volume change\n",
    "        volume_change_col_name = company_ticker +'_volume_change'\n",
    "        data[volume_change_col_name]= data['Volume'].pct_change()\n",
    "        # amount change\n",
    "        amount_change_col_name = company_ticker +'_amount_change'\n",
    "        data[amount_change_col_name]= (data['Close']*data['Volume']).pct_change()\n",
    "\n",
    "        data = data.set_index('Dt')\n",
    "\n",
    "        df[ret_col_name] = data[ret_col_name]\n",
    "        df[volume_change_col_name] = data[volume_change_col_name]\n",
    "        df[amount_change_col_name] = data[amount_change_col_name]\n",
    "        \n",
    "def saveModel(model, model_path): \n",
    "    try:\n",
    "        os.makedirs(model_path)\n",
    "    except OSError:\n",
    "        print(\"Directory {dir:s} already exists, files will be over-written.\".format(dir=model_path))\n",
    "        \n",
    "    # Save JSON config to disk\n",
    "    json_config = model.to_json()\n",
    "    with open(os.path.join(model_path, 'config.json'), 'w') as json_file:\n",
    "        json_file.write(json_config)\n",
    "    # Save weights to disk\n",
    "    model.save_weights(os.path.join(model_path, 'weights.h5'))\n",
    "    \n",
    "    print(\"Model saved in directory {dir:s}; create an archive of this directory and submit with your assignment.\".format(dir=model_path))\n",
    "    \n",
    "def loadModel(model_path):\n",
    "    # Reload the model from the 2 files we saved\n",
    "    with open(os.path.join(model_path, 'config.json')) as json_file:\n",
    "        json_config = json_file.read()\n",
    "    model = tf.keras.models.model_from_json(json_config)\n",
    "    model.load_weights(os.path.join(model_path, 'weights.h5'))\n",
    "    \n",
    "    return model\n",
    "\n",
    "def MyModel(test_dir, model_path):\n",
    "    # YOU MAY NOT change model after this statement !\n",
    "    model = loadModel(model_path)\n",
    "    \n",
    "    # It should run model to create an array of predictions; we initialize it to the empty array for convenience\n",
    "    predictions = []\n",
    "    \n",
    "    # We need to match your array of predictions with the examples you are predicting\n",
    "    # The array below (ids) should have a one-to-one correspondence and identify the example your are predicting\n",
    "    # For Bankruptcy: the Id column\n",
    "    # For Stock prediction: the date on which you are making a prediction\n",
    "    ids = []\n",
    "    \n",
    "    # YOUR CODE GOES HERE\n",
    "    df = pd.read_csv(test_dir+'/AAPL.csv')\n",
    "    df['return'] = df['Adj Close'].pct_change()\n",
    "    df = df.set_index('Dt')\n",
    "    select_ticker_files = ['GOOG.csv','MSFT.csv','IBM.csv','ADBE.csv','CSCO.csv','CRM.csv',\n",
    "                       'INTC.csv','NVDA.csv','FB.csv','SPY.csv','XLK.csv']\n",
    "    merge_other_data(select_ticker_files,df,test_dir)\n",
    "    ids = df.index\n",
    "    df = df.reset_index()\n",
    "    df['Dt'] = df['Dt'].apply(lambda x: int(x.replace('-','')))\n",
    "    \n",
    "    df = df.copy()\n",
    "    for col in df.columns:\n",
    "        df.loc[:,col].fillna(df[col].median(),inplace=True)\n",
    "    \n",
    "    observation = 50\n",
    "    data = df.drop(columns='return')\n",
    "    label = df['return']\n",
    "    X, y = create_data(data, label, observation)\n",
    "    predictions = model.predict(X)\n",
    "    ids = ids[observation:]\n",
    "    return predictions, ids\n",
    "\n",
    "# Assign to variable my_model the model that is your final model (the one  you will be evaluated on)\n",
    "my_model = model4 # CHANGE None to your model !\n",
    "\n",
    "saveModel(my_model, model_path)"
   ]
  },
  {
   "cell_type": "code",
   "execution_count": 62,
   "id": "9303b9f1",
   "metadata": {},
   "outputs": [],
   "source": [
    "# Testing\n",
    "holdout_dir = os.path.join(\".\", \"Data\", \"sample\")\n",
    "predicts = MyModel(holdout_dir, model_path)"
   ]
  },
  {
   "cell_type": "code",
   "execution_count": 63,
   "id": "6aae99f4",
   "metadata": {},
   "outputs": [
    {
     "name": "stdout",
     "output_type": "stream",
     "text": [
      "Done\n"
     ]
    }
   ],
   "source": [
    "print(\"Done\")"
   ]
  }
 ],
 "metadata": {
  "kernelspec": {
   "display_name": "Python 3",
   "language": "python",
   "name": "python3"
  },
  "language_info": {
   "codemirror_mode": {
    "name": "ipython",
    "version": 3
   },
   "file_extension": ".py",
   "mimetype": "text/x-python",
   "name": "python",
   "nbconvert_exporter": "python",
   "pygments_lexer": "ipython3",
   "version": "3.8.8"
  }
 },
 "nbformat": 4,
 "nbformat_minor": 5
}
