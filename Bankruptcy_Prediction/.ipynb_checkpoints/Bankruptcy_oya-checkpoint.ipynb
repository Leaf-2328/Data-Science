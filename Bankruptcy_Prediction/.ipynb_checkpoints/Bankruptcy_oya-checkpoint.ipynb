{
 "cells": [
  {
   "cell_type": "markdown",
   "metadata": {},
   "source": [
    "# Problem description\n",
    "\n",
    "You are to predict whether a company will go bankrupt in the following year, based on financial attributes of the company.\n",
    "\n",
    "Perhaps you are contemplating lending money to a company, and need to know whether the company\n",
    "is in near-term danger of not being able to repay.\n"
   ]
  },
  {
   "cell_type": "markdown",
   "metadata": {},
   "source": [
    "## Goal"
   ]
  },
  {
   "cell_type": "markdown",
   "metadata": {
    "slideshow": {
     "slide_type": "fragment"
    }
   },
   "source": [
    "## Learning objectives\n",
    "\n",
    "- Demonstrate mastery on solving a classification problem and presenting\n",
    "the entire Recipe for Machine Learning process in a notebook.\n",
    "- We will make suggestions for ways to approach the problem\n",
    "    - But there will be little explicit direction for this task.\n",
    "- It is meant to be analogous to a pre-interview task that a potential employer might assign\n",
    "to verify your skill"
   ]
  },
  {
   "cell_type": "markdown",
   "metadata": {},
   "source": [
    "# Import modules"
   ]
  },
  {
   "cell_type": "code",
   "execution_count": 1,
   "metadata": {},
   "outputs": [],
   "source": [
    "## Standard imports\n",
    "import numpy as np\n",
    "import pandas as pd\n",
    "import matplotlib.pyplot as plt\n",
    "\n",
    "import sklearn\n",
    "\n",
    "import os\n",
    "import math\n",
    "\n",
    "%matplotlib inline\n"
   ]
  },
  {
   "cell_type": "markdown",
   "metadata": {},
   "source": [
    "# API for students"
   ]
  },
  {
   "cell_type": "code",
   "execution_count": 2,
   "metadata": {},
   "outputs": [],
   "source": [
    "## Load the bankruptcy_helper module\n",
    "\n",
    "from IPython.core.interactiveshell import InteractiveShell\n",
    "InteractiveShell.ast_node_interactivity = \"all\"\n",
    "\n",
    "# Reload all modules imported with %aimport\n",
    "%load_ext autoreload\n",
    "%autoreload 1\n",
    "\n",
    "# Import bankruptcy_helper module\n",
    "import bankruptcy_helper\n",
    "%aimport bankruptcy_helper\n",
    "\n",
    "helper = bankruptcy_helper.Helper()"
   ]
  },
  {
   "cell_type": "markdown",
   "metadata": {},
   "source": [
    "# Get the data\n",
    "\n",
    "The first step in our Recipe is Get the Data.\n",
    "\n",
    "- Each example is a row of data corresponding to a single company\n",
    "- There are 64 attributes, described in the section below\n",
    "- The column `Bankrupt` is 1 if the company subsequently went bankrupt; 0 if it did not go bankrupt\n",
    "- The column `Id` is a Company Identifier"
   ]
  },
  {
   "cell_type": "code",
   "execution_count": 3,
   "metadata": {},
   "outputs": [
    {
     "name": "stdout",
     "output_type": "stream",
     "text": [
      "Date shape:  (4818, 66)\n"
     ]
    }
   ],
   "source": [
    "# Data directory\n",
    "DATA_DIR = \"./Data\"\n",
    "\n",
    "if not os.path.isdir(DATA_DIR):\n",
    "    DATA_DIR = \"../resource/asnlib/publicdata/bankruptcy/data\"\n",
    "\n",
    "data_file = \"5th_yr.csv\"\n",
    "data = pd.read_csv( os.path.join(DATA_DIR, \"train\", data_file) )\n",
    "\n",
    "target_attr = \"Bankrupt\"\n",
    "\n",
    "n_samples, n_attrs = data.shape\n",
    "print(\"Date shape: \", data.shape)"
   ]
  },
  {
   "cell_type": "markdown",
   "metadata": {},
   "source": [
    "## Have a look at the data\n",
    "\n",
    "We will not go through all steps in the Recipe, nor in depth.\n",
    "\n",
    "But here's a peek"
   ]
  },
  {
   "cell_type": "code",
   "execution_count": 4,
   "metadata": {},
   "outputs": [
    {
     "data": {
      "text/html": [
       "<div>\n",
       "<style scoped>\n",
       "    .dataframe tbody tr th:only-of-type {\n",
       "        vertical-align: middle;\n",
       "    }\n",
       "\n",
       "    .dataframe tbody tr th {\n",
       "        vertical-align: top;\n",
       "    }\n",
       "\n",
       "    .dataframe thead th {\n",
       "        text-align: right;\n",
       "    }\n",
       "</style>\n",
       "<table border=\"1\" class=\"dataframe\">\n",
       "  <thead>\n",
       "    <tr style=\"text-align: right;\">\n",
       "      <th></th>\n",
       "      <th>X1</th>\n",
       "      <th>X2</th>\n",
       "      <th>X3</th>\n",
       "      <th>X4</th>\n",
       "      <th>X5</th>\n",
       "      <th>X6</th>\n",
       "      <th>X7</th>\n",
       "      <th>X8</th>\n",
       "      <th>X9</th>\n",
       "      <th>X10</th>\n",
       "      <th>...</th>\n",
       "      <th>X57</th>\n",
       "      <th>X58</th>\n",
       "      <th>X59</th>\n",
       "      <th>X60</th>\n",
       "      <th>X61</th>\n",
       "      <th>X62</th>\n",
       "      <th>X63</th>\n",
       "      <th>X64</th>\n",
       "      <th>Bankrupt</th>\n",
       "      <th>Id</th>\n",
       "    </tr>\n",
       "  </thead>\n",
       "  <tbody>\n",
       "    <tr>\n",
       "      <th>0</th>\n",
       "      <td>0.025417</td>\n",
       "      <td>0.41769</td>\n",
       "      <td>0.0568</td>\n",
       "      <td>1.1605</td>\n",
       "      <td>-126.39</td>\n",
       "      <td>0.41355</td>\n",
       "      <td>0.025417</td>\n",
       "      <td>1.2395</td>\n",
       "      <td>1.16500</td>\n",
       "      <td>0.51773</td>\n",
       "      <td>...</td>\n",
       "      <td>0.049094</td>\n",
       "      <td>0.85835</td>\n",
       "      <td>0.12322</td>\n",
       "      <td>5.6167</td>\n",
       "      <td>7.4042</td>\n",
       "      <td>164.310</td>\n",
       "      <td>2.2214</td>\n",
       "      <td>1.334</td>\n",
       "      <td>0</td>\n",
       "      <td>4510</td>\n",
       "    </tr>\n",
       "    <tr>\n",
       "      <th>1</th>\n",
       "      <td>-0.023834</td>\n",
       "      <td>0.2101</td>\n",
       "      <td>0.50839</td>\n",
       "      <td>4.2374</td>\n",
       "      <td>22.034</td>\n",
       "      <td>0.058412</td>\n",
       "      <td>-0.027621</td>\n",
       "      <td>3.6579</td>\n",
       "      <td>0.98183</td>\n",
       "      <td>0.76855</td>\n",
       "      <td>...</td>\n",
       "      <td>-0.031011</td>\n",
       "      <td>1.01850</td>\n",
       "      <td>0.069047</td>\n",
       "      <td>5.7996</td>\n",
       "      <td>7.7529</td>\n",
       "      <td>26.446</td>\n",
       "      <td>13.802</td>\n",
       "      <td>6.4782</td>\n",
       "      <td>0</td>\n",
       "      <td>3537</td>\n",
       "    </tr>\n",
       "    <tr>\n",
       "      <th>2</th>\n",
       "      <td>0.030515</td>\n",
       "      <td>0.44606</td>\n",
       "      <td>0.19569</td>\n",
       "      <td>1.565</td>\n",
       "      <td>35.766</td>\n",
       "      <td>0.28196</td>\n",
       "      <td>0.039264</td>\n",
       "      <td>0.88456</td>\n",
       "      <td>1.05260</td>\n",
       "      <td>0.39457</td>\n",
       "      <td>...</td>\n",
       "      <td>0.077337</td>\n",
       "      <td>0.95006</td>\n",
       "      <td>0.25266</td>\n",
       "      <td>15.049</td>\n",
       "      <td>2.8179</td>\n",
       "      <td>104.730</td>\n",
       "      <td>3.4852</td>\n",
       "      <td>2.6361</td>\n",
       "      <td>0</td>\n",
       "      <td>3920</td>\n",
       "    </tr>\n",
       "    <tr>\n",
       "      <th>3</th>\n",
       "      <td>0.052318</td>\n",
       "      <td>0.056366</td>\n",
       "      <td>0.54562</td>\n",
       "      <td>10.68</td>\n",
       "      <td>438.2</td>\n",
       "      <td>0.13649</td>\n",
       "      <td>0.058164</td>\n",
       "      <td>10.853</td>\n",
       "      <td>1.02790</td>\n",
       "      <td>0.61173</td>\n",
       "      <td>...</td>\n",
       "      <td>0.085524</td>\n",
       "      <td>0.97282</td>\n",
       "      <td>0</td>\n",
       "      <td>6.0157</td>\n",
       "      <td>7.4626</td>\n",
       "      <td>48.756</td>\n",
       "      <td>7.4863</td>\n",
       "      <td>1.0602</td>\n",
       "      <td>0</td>\n",
       "      <td>1806</td>\n",
       "    </tr>\n",
       "    <tr>\n",
       "      <th>4</th>\n",
       "      <td>0.000992</td>\n",
       "      <td>0.49712</td>\n",
       "      <td>0.12316</td>\n",
       "      <td>1.3036</td>\n",
       "      <td>-71.398</td>\n",
       "      <td>0</td>\n",
       "      <td>0.001007</td>\n",
       "      <td>1.0116</td>\n",
       "      <td>1.29210</td>\n",
       "      <td>0.50288</td>\n",
       "      <td>...</td>\n",
       "      <td>0.001974</td>\n",
       "      <td>0.99925</td>\n",
       "      <td>0.019736</td>\n",
       "      <td>3.4819</td>\n",
       "      <td>8.582</td>\n",
       "      <td>114.580</td>\n",
       "      <td>3.1854</td>\n",
       "      <td>2.742</td>\n",
       "      <td>0</td>\n",
       "      <td>1529</td>\n",
       "    </tr>\n",
       "  </tbody>\n",
       "</table>\n",
       "<p>5 rows × 66 columns</p>\n",
       "</div>"
      ],
      "text/plain": [
       "          X1        X2       X3      X4       X5        X6         X7  \\\n",
       "0   0.025417   0.41769   0.0568  1.1605  -126.39   0.41355   0.025417   \n",
       "1  -0.023834    0.2101  0.50839  4.2374   22.034  0.058412  -0.027621   \n",
       "2   0.030515   0.44606  0.19569   1.565   35.766   0.28196   0.039264   \n",
       "3   0.052318  0.056366  0.54562   10.68    438.2   0.13649   0.058164   \n",
       "4   0.000992   0.49712  0.12316  1.3036  -71.398         0   0.001007   \n",
       "\n",
       "        X8       X9      X10  ...        X57      X58       X59     X60  \\\n",
       "0   1.2395  1.16500  0.51773  ...   0.049094  0.85835   0.12322  5.6167   \n",
       "1   3.6579  0.98183  0.76855  ...  -0.031011  1.01850  0.069047  5.7996   \n",
       "2  0.88456  1.05260  0.39457  ...   0.077337  0.95006   0.25266  15.049   \n",
       "3   10.853  1.02790  0.61173  ...   0.085524  0.97282         0  6.0157   \n",
       "4   1.0116  1.29210  0.50288  ...   0.001974  0.99925  0.019736  3.4819   \n",
       "\n",
       "      X61      X62     X63     X64  Bankrupt    Id  \n",
       "0  7.4042  164.310  2.2214   1.334         0  4510  \n",
       "1  7.7529   26.446  13.802  6.4782         0  3537  \n",
       "2  2.8179  104.730  3.4852  2.6361         0  3920  \n",
       "3  7.4626   48.756  7.4863  1.0602         0  1806  \n",
       "4   8.582  114.580  3.1854   2.742         0  1529  \n",
       "\n",
       "[5 rows x 66 columns]"
      ]
     },
     "execution_count": 4,
     "metadata": {},
     "output_type": "execute_result"
    }
   ],
   "source": [
    "data.head()"
   ]
  },
  {
   "cell_type": "markdown",
   "metadata": {},
   "source": [
    "Pretty *unhelpful* !\n",
    "\n",
    "What are these mysteriously named features ?\n",
    "\n",
    "## Description of attributes"
   ]
  },
  {
   "cell_type": "raw",
   "metadata": {},
   "source": [
    "Attribute Information:\n",
    "\n",
    "Id Company Identifier \n",
    "X1 net profit / total assets\n",
    "X2 total liabilities / total assets\n",
    "X3 working capital / total assets\n",
    "X4 current assets / short-term liabilities\n",
    "X5 [(cash + short-term securities + receivables - short-term liabilities) / (operating expenses - depreciation)] * 365\n",
    "X6 retained earnings / total assets\n",
    "X7 EBIT / total assets\n",
    "X8 book value of equity / total liabilities\n",
    "X9 sales / total assets\n",
    "X10 equity / total assets\n",
    "X11 (gross profit + extraordinary items + financial expenses) / total assets\n",
    "X12 gross profit / short-term liabilities\n",
    "X13 (gross profit + depreciation) / sales\n",
    "X14 (gross profit + interest) / total assets\n",
    "X15 (total liabilities * 365) / (gross profit + depreciation)\n",
    "X16 (gross profit + depreciation) / total liabilities\n",
    "X17 total assets / total liabilities\n",
    "X18 gross profit / total assets\n",
    "X19 gross profit / sales\n",
    "X20 (inventory * 365) / sales\n",
    "X21 sales (n) / sales (n-1)\n",
    "X22 profit on operating activities / total assets\n",
    "X23 net profit / sales\n",
    "X24 gross profit (in 3 years) / total assets\n",
    "X25 (equity - share capital) / total assets\n",
    "X26 (net profit + depreciation) / total liabilities\n",
    "X27 profit on operating activities / financial expenses\n",
    "X28 working capital / fixed assets\n",
    "X29 logarithm of total assets\n",
    "X30 (total liabilities - cash) / sales\n",
    "X31 (gross profit + interest) / sales\n",
    "X32 (current liabilities * 365) / cost of products sold\n",
    "X33 operating expenses / short-term liabilities\n",
    "X34 operating expenses / total liabilities\n",
    "X35 profit on sales / total assets\n",
    "X36 total sales / total assets\n",
    "X37 (current assets - inventories) / long-term liabilities\n",
    "X38 constant capital / total assets\n",
    "X39 profit on sales / sales\n",
    "X40 (current assets - inventory - receivables) / short-term liabilities\n",
    "X41 total liabilities / ((profit on operating activities + depreciation) * (12/365))\n",
    "X42 profit on operating activities / sales\n",
    "X43 rotation receivables + inventory turnover in days\n",
    "X44 (receivables * 365) / sales\n",
    "X45 net profit / inventory\n",
    "X46 (current assets - inventory) / short-term liabilities\n",
    "X47 (inventory * 365) / cost of products sold\n",
    "X48 EBITDA (profit on operating activities - depreciation) / total assets\n",
    "X49 EBITDA (profit on operating activities - depreciation) / sales\n",
    "X50 current assets / total liabilities\n",
    "X51 short-term liabilities / total assets\n",
    "X52 (short-term liabilities * 365) / cost of products sold)\n",
    "X53 equity / fixed assets\n",
    "X54 constant capital / fixed assets\n",
    "X55 working capital\n",
    "X56 (sales - cost of products sold) / sales\n",
    "X57 (current assets - inventory - short-term liabilities) / (sales - gross profit - depreciation)\n",
    "X58 total costs /total sales\n",
    "X59 long-term liabilities / equity\n",
    "X60 sales / inventory\n",
    "X61 sales / receivables\n",
    "X62 (short-term liabilities *365) / sales\n",
    "X63 sales / short-term liabilities\n",
    "X64 sales / fixed assets\n"
   ]
  },
  {
   "cell_type": "markdown",
   "metadata": {},
   "source": [
    "This may still be somewhat unhelpful for those of you not used to reading Financial Statements.\n",
    "\n",
    "But that's partially the point of the exercise\n",
    "- You can *still* perform Machine Learning *even if* you are not an expert in the problem domain\n",
    "    - That's what makes this a good interview exercise: you can demonstrate your thought process even if you don't know the exact meaning of the terms\n",
    "- Of course: becoming an expert in the domain *will improve* your ability to create better models\n",
    "    - Feature engineering is easier if you understand the features, their inter-relationships, and the relationship to the target"
   ]
  },
  {
   "cell_type": "markdown",
   "metadata": {},
   "source": [
    "Let's get a feel for the data\n",
    "- What is the type of each attribute ?\n"
   ]
  },
  {
   "cell_type": "code",
   "execution_count": 5,
   "metadata": {},
   "outputs": [
    {
     "name": "stdout",
     "output_type": "stream",
     "text": [
      "<class 'pandas.core.frame.DataFrame'>\n",
      "RangeIndex: 4818 entries, 0 to 4817\n",
      "Data columns (total 66 columns):\n",
      " #   Column    Non-Null Count  Dtype  \n",
      "---  ------    --------------  -----  \n",
      " 0   X1        4818 non-null   object \n",
      " 1   X2        4818 non-null   object \n",
      " 2   X3        4818 non-null   object \n",
      " 3   X4        4818 non-null   object \n",
      " 4   X5        4818 non-null   object \n",
      " 5   X6        4818 non-null   object \n",
      " 6   X7        4818 non-null   object \n",
      " 7   X8        4818 non-null   object \n",
      " 8   X9        4818 non-null   float64\n",
      " 9   X10       4818 non-null   object \n",
      " 10  X11       4818 non-null   object \n",
      " 11  X12       4818 non-null   object \n",
      " 12  X13       4818 non-null   float64\n",
      " 13  X14       4818 non-null   object \n",
      " 14  X15       4818 non-null   object \n",
      " 15  X16       4818 non-null   object \n",
      " 16  X17       4818 non-null   object \n",
      " 17  X18       4818 non-null   object \n",
      " 18  X19       4818 non-null   float64\n",
      " 19  X20       4818 non-null   float64\n",
      " 20  X21       4818 non-null   object \n",
      " 21  X22       4818 non-null   object \n",
      " 22  X23       4818 non-null   float64\n",
      " 23  X24       4818 non-null   object \n",
      " 24  X25       4818 non-null   object \n",
      " 25  X26       4818 non-null   object \n",
      " 26  X27       4818 non-null   object \n",
      " 27  X28       4818 non-null   object \n",
      " 28  X29       4818 non-null   object \n",
      " 29  X30       4818 non-null   float64\n",
      " 30  X31       4818 non-null   float64\n",
      " 31  X32       4818 non-null   object \n",
      " 32  X33       4818 non-null   object \n",
      " 33  X34       4818 non-null   object \n",
      " 34  X35       4818 non-null   object \n",
      " 35  X36       4818 non-null   object \n",
      " 36  X37       4818 non-null   object \n",
      " 37  X38       4818 non-null   object \n",
      " 38  X39       4818 non-null   float64\n",
      " 39  X40       4818 non-null   object \n",
      " 40  X41       4818 non-null   object \n",
      " 41  X42       4818 non-null   float64\n",
      " 42  X43       4818 non-null   float64\n",
      " 43  X44       4818 non-null   float64\n",
      " 44  X45       4818 non-null   object \n",
      " 45  X46       4818 non-null   object \n",
      " 46  X47       4818 non-null   object \n",
      " 47  X48       4818 non-null   object \n",
      " 48  X49       4818 non-null   float64\n",
      " 49  X50       4818 non-null   object \n",
      " 50  X51       4818 non-null   object \n",
      " 51  X52       4818 non-null   object \n",
      " 52  X53       4818 non-null   object \n",
      " 53  X54       4818 non-null   object \n",
      " 54  X55       4818 non-null   float64\n",
      " 55  X56       4818 non-null   float64\n",
      " 56  X57       4818 non-null   object \n",
      " 57  X58       4818 non-null   float64\n",
      " 58  X59       4818 non-null   object \n",
      " 59  X60       4818 non-null   object \n",
      " 60  X61       4818 non-null   object \n",
      " 61  X62       4818 non-null   float64\n",
      " 62  X63       4818 non-null   object \n",
      " 63  X64       4818 non-null   object \n",
      " 64  Bankrupt  4818 non-null   int64  \n",
      " 65  Id        4818 non-null   int64  \n",
      "dtypes: float64(16), int64(2), object(48)\n",
      "memory usage: 2.4+ MB\n"
     ]
    }
   ],
   "source": [
    "data.info()"
   ]
  },
  {
   "cell_type": "markdown",
   "metadata": {},
   "source": [
    "You may be puzzled:\n",
    "- Most attributes are `object` and *not* numeric (`float64`)\n",
    "- But looking at the data via `data.head()` certainly gives the impression that all attributes are numeric\n",
    "\n",
    "Welcome to the world of messy data !  The dataset has represented numbers as strings.\n",
    "- These little unexpected challenges are common in the real-word\n",
    "- Data is rarely perfect and clean"
   ]
  },
  {
   "cell_type": "markdown",
   "metadata": {},
   "source": [
    "So you might want to first convert all attributes to numeric\n",
    "\n",
    "**Hint**\n",
    "- Look up the Pandas method `to_numeric`\n",
    "    - We suggest you use the option `errors='coerce'`\n",
    "    "
   ]
  },
  {
   "cell_type": "markdown",
   "metadata": {},
   "source": [
    "# Transfer all attributes to numeric"
   ]
  },
  {
   "cell_type": "code",
   "execution_count": 6,
   "metadata": {},
   "outputs": [],
   "source": [
    "data = helper.all_to_numeric(data)"
   ]
  },
  {
   "cell_type": "code",
   "execution_count": 7,
   "metadata": {},
   "outputs": [
    {
     "name": "stdout",
     "output_type": "stream",
     "text": [
      "<class 'pandas.core.frame.DataFrame'>\n",
      "RangeIndex: 4818 entries, 0 to 4817\n",
      "Data columns (total 66 columns):\n",
      " #   Column    Non-Null Count  Dtype  \n",
      "---  ------    --------------  -----  \n",
      " 0   X1        4816 non-null   float64\n",
      " 1   X2        4816 non-null   float64\n",
      " 2   X3        4816 non-null   float64\n",
      " 3   X4        4803 non-null   float64\n",
      " 4   X5        4808 non-null   float64\n",
      " 5   X6        4816 non-null   float64\n",
      " 6   X7        4816 non-null   float64\n",
      " 7   X8        4804 non-null   float64\n",
      " 8   X9        4818 non-null   float64\n",
      " 9   X10       4816 non-null   float64\n",
      " 10  X11       4816 non-null   float64\n",
      " 11  X12       4803 non-null   float64\n",
      " 12  X13       4818 non-null   float64\n",
      " 13  X14       4816 non-null   float64\n",
      " 14  X15       4812 non-null   float64\n",
      " 15  X16       4804 non-null   float64\n",
      " 16  X17       4804 non-null   float64\n",
      " 17  X18       4816 non-null   float64\n",
      " 18  X19       4818 non-null   float64\n",
      " 19  X20       4818 non-null   float64\n",
      " 20  X21       4744 non-null   float64\n",
      " 21  X22       4816 non-null   float64\n",
      " 22  X23       4818 non-null   float64\n",
      " 23  X24       4702 non-null   float64\n",
      " 24  X25       4816 non-null   float64\n",
      " 25  X26       4804 non-null   float64\n",
      " 26  X27       4513 non-null   float64\n",
      " 27  X28       4735 non-null   float64\n",
      " 28  X29       4816 non-null   float64\n",
      " 29  X30       4818 non-null   float64\n",
      " 30  X31       4818 non-null   float64\n",
      " 31  X32       4776 non-null   float64\n",
      " 32  X33       4803 non-null   float64\n",
      " 33  X34       4804 non-null   float64\n",
      " 34  X35       4816 non-null   float64\n",
      " 35  X36       4816 non-null   float64\n",
      " 36  X37       2750 non-null   float64\n",
      " 37  X38       4816 non-null   float64\n",
      " 38  X39       4818 non-null   float64\n",
      " 39  X40       4803 non-null   float64\n",
      " 40  X41       4756 non-null   float64\n",
      " 41  X42       4818 non-null   float64\n",
      " 42  X43       4818 non-null   float64\n",
      " 43  X44       4818 non-null   float64\n",
      " 44  X45       4598 non-null   float64\n",
      " 45  X46       4803 non-null   float64\n",
      " 46  X47       4787 non-null   float64\n",
      " 47  X48       4816 non-null   float64\n",
      " 48  X49       4818 non-null   float64\n",
      " 49  X50       4804 non-null   float64\n",
      " 50  X51       4816 non-null   float64\n",
      " 51  X52       4786 non-null   float64\n",
      " 52  X53       4735 non-null   float64\n",
      " 53  X54       4735 non-null   float64\n",
      " 54  X55       4818 non-null   float64\n",
      " 55  X56       4818 non-null   float64\n",
      " 56  X57       4816 non-null   float64\n",
      " 57  X58       4818 non-null   float64\n",
      " 58  X59       4816 non-null   float64\n",
      " 59  X60       4598 non-null   float64\n",
      " 60  X61       4806 non-null   float64\n",
      " 61  X62       4818 non-null   float64\n",
      " 62  X63       4803 non-null   float64\n",
      " 63  X64       4735 non-null   float64\n",
      " 64  Bankrupt  4818 non-null   int64  \n",
      " 65  Id        4818 non-null   int64  \n",
      "dtypes: float64(64), int64(2)\n",
      "memory usage: 2.4 MB\n"
     ]
    }
   ],
   "source": [
    "data.info()"
   ]
  },
  {
   "cell_type": "markdown",
   "metadata": {},
   "source": [
    "## Define Performance Measure"
   ]
  },
  {
   "cell_type": "markdown",
   "metadata": {},
   "source": [
    "## Create Test Set"
   ]
  },
  {
   "cell_type": "code",
   "execution_count": 8,
   "metadata": {},
   "outputs": [],
   "source": [
    "labels = data.loc[:,'Bankrupt']\n",
    "data_dropped = data.drop(columns='Bankrupt')"
   ]
  },
  {
   "cell_type": "code",
   "execution_count": 9,
   "metadata": {},
   "outputs": [
    {
     "data": {
      "text/plain": [
       "(4818,)"
      ]
     },
     "execution_count": 9,
     "metadata": {},
     "output_type": "execute_result"
    },
    {
     "data": {
      "text/plain": [
       "(4818, 65)"
      ]
     },
     "execution_count": 9,
     "metadata": {},
     "output_type": "execute_result"
    }
   ],
   "source": [
    "labels.shape\n",
    "data_dropped.shape"
   ]
  },
  {
   "cell_type": "code",
   "execution_count": 10,
   "metadata": {},
   "outputs": [],
   "source": [
    "# Shuffle the data first\n",
    "data_dropped, labels = sklearn.utils.shuffle(data_dropped, labels, random_state=42)"
   ]
  },
  {
   "cell_type": "code",
   "execution_count": 11,
   "metadata": {},
   "outputs": [
    {
     "name": "stdout",
     "output_type": "stream",
     "text": [
      "X_train shape:  (4336, 65)\n",
      "X_test shape:  (482, 65)\n",
      "y_train shape:  (4336,)\n",
      "y_test shape:  (482,)\n"
     ]
    }
   ],
   "source": [
    "from sklearn.model_selection import train_test_split\n",
    "X = data_dropped\n",
    "y = labels\n",
    "\n",
    "# Split training and testing dataset by using 10% data as test data\n",
    "X_train, X_test, y_train, y_test = train_test_split(X, y, test_size=0.1, random_state=42)\n",
    "\n",
    "print(\"X_train shape: \", X_train.shape)\n",
    "print(\"X_test shape: \", X_test.shape)\n",
    "print(\"y_train shape: \", y_train.shape)\n",
    "print(\"y_test shape: \", y_test.shape)"
   ]
  },
  {
   "cell_type": "markdown",
   "metadata": {},
   "source": [
    "# Exploratory Data Analysis"
   ]
  },
  {
   "cell_type": "code",
   "execution_count": 12,
   "metadata": {},
   "outputs": [],
   "source": [
    "df = X_train.join(y_train)"
   ]
  },
  {
   "cell_type": "code",
   "execution_count": 13,
   "metadata": {},
   "outputs": [
    {
     "data": {
      "text/html": [
       "<div>\n",
       "<style scoped>\n",
       "    .dataframe tbody tr th:only-of-type {\n",
       "        vertical-align: middle;\n",
       "    }\n",
       "\n",
       "    .dataframe tbody tr th {\n",
       "        vertical-align: top;\n",
       "    }\n",
       "\n",
       "    .dataframe thead th {\n",
       "        text-align: right;\n",
       "    }\n",
       "</style>\n",
       "<table border=\"1\" class=\"dataframe\">\n",
       "  <thead>\n",
       "    <tr style=\"text-align: right;\">\n",
       "      <th></th>\n",
       "      <th>X1</th>\n",
       "      <th>X2</th>\n",
       "      <th>X3</th>\n",
       "      <th>X4</th>\n",
       "      <th>X5</th>\n",
       "      <th>X6</th>\n",
       "      <th>X7</th>\n",
       "      <th>X8</th>\n",
       "      <th>X9</th>\n",
       "      <th>X10</th>\n",
       "      <th>...</th>\n",
       "      <th>X57</th>\n",
       "      <th>X58</th>\n",
       "      <th>X59</th>\n",
       "      <th>X60</th>\n",
       "      <th>X61</th>\n",
       "      <th>X62</th>\n",
       "      <th>X63</th>\n",
       "      <th>X64</th>\n",
       "      <th>Id</th>\n",
       "      <th>Bankrupt</th>\n",
       "    </tr>\n",
       "  </thead>\n",
       "  <tbody>\n",
       "    <tr>\n",
       "      <th>2470</th>\n",
       "      <td>0.156650</td>\n",
       "      <td>0.49442</td>\n",
       "      <td>0.48293</td>\n",
       "      <td>1.97680</td>\n",
       "      <td>175.480</td>\n",
       "      <td>0.161440</td>\n",
       "      <td>0.193410</td>\n",
       "      <td>1.022600</td>\n",
       "      <td>1.22120</td>\n",
       "      <td>0.505580</td>\n",
       "      <td>...</td>\n",
       "      <td>0.309850</td>\n",
       "      <td>0.81887</td>\n",
       "      <td>0.00000</td>\n",
       "      <td>NaN</td>\n",
       "      <td>1.6167</td>\n",
       "      <td>149.160</td>\n",
       "      <td>2.4471</td>\n",
       "      <td>53.43000</td>\n",
       "      <td>1310</td>\n",
       "      <td>0</td>\n",
       "    </tr>\n",
       "    <tr>\n",
       "      <th>1611</th>\n",
       "      <td>0.015732</td>\n",
       "      <td>0.18357</td>\n",
       "      <td>0.77556</td>\n",
       "      <td>5.22480</td>\n",
       "      <td>221.160</td>\n",
       "      <td>0.485370</td>\n",
       "      <td>0.020383</td>\n",
       "      <td>4.112600</td>\n",
       "      <td>0.99983</td>\n",
       "      <td>0.754960</td>\n",
       "      <td>...</td>\n",
       "      <td>0.020838</td>\n",
       "      <td>1.00020</td>\n",
       "      <td>0.00000</td>\n",
       "      <td>19.6450</td>\n",
       "      <td>7.3047</td>\n",
       "      <td>57.204</td>\n",
       "      <td>6.3807</td>\n",
       "      <td>28.66000</td>\n",
       "      <td>2912</td>\n",
       "      <td>0</td>\n",
       "    </tr>\n",
       "    <tr>\n",
       "      <th>1402</th>\n",
       "      <td>0.124730</td>\n",
       "      <td>0.89132</td>\n",
       "      <td>0.10553</td>\n",
       "      <td>1.11840</td>\n",
       "      <td>-548.480</td>\n",
       "      <td>-0.024687</td>\n",
       "      <td>0.124730</td>\n",
       "      <td>0.121940</td>\n",
       "      <td>1.22160</td>\n",
       "      <td>0.108690</td>\n",
       "      <td>...</td>\n",
       "      <td>1.147600</td>\n",
       "      <td>0.54534</td>\n",
       "      <td>0.00000</td>\n",
       "      <td>1.4963</td>\n",
       "      <td>7.0086</td>\n",
       "      <td>266.320</td>\n",
       "      <td>1.3706</td>\n",
       "      <td>387.80000</td>\n",
       "      <td>4219</td>\n",
       "      <td>0</td>\n",
       "    </tr>\n",
       "    <tr>\n",
       "      <th>3240</th>\n",
       "      <td>0.009464</td>\n",
       "      <td>0.58372</td>\n",
       "      <td>0.11573</td>\n",
       "      <td>1.32610</td>\n",
       "      <td>-97.469</td>\n",
       "      <td>0.000000</td>\n",
       "      <td>0.013644</td>\n",
       "      <td>0.713150</td>\n",
       "      <td>0.90052</td>\n",
       "      <td>0.416280</td>\n",
       "      <td>...</td>\n",
       "      <td>0.022734</td>\n",
       "      <td>0.98505</td>\n",
       "      <td>0.50132</td>\n",
       "      <td>2.9219</td>\n",
       "      <td>10.8100</td>\n",
       "      <td>143.820</td>\n",
       "      <td>2.5378</td>\n",
       "      <td>1.70090</td>\n",
       "      <td>1176</td>\n",
       "      <td>0</td>\n",
       "    </tr>\n",
       "    <tr>\n",
       "      <th>745</th>\n",
       "      <td>-0.043161</td>\n",
       "      <td>0.91986</td>\n",
       "      <td>-0.31771</td>\n",
       "      <td>0.26715</td>\n",
       "      <td>-149.470</td>\n",
       "      <td>-0.100030</td>\n",
       "      <td>-0.043161</td>\n",
       "      <td>0.087098</td>\n",
       "      <td>0.82760</td>\n",
       "      <td>0.080118</td>\n",
       "      <td>...</td>\n",
       "      <td>-0.538720</td>\n",
       "      <td>0.84053</td>\n",
       "      <td>5.63690</td>\n",
       "      <td>35.7410</td>\n",
       "      <td>10.8850</td>\n",
       "      <td>191.200</td>\n",
       "      <td>1.9090</td>\n",
       "      <td>0.93603</td>\n",
       "      <td>4039</td>\n",
       "      <td>1</td>\n",
       "    </tr>\n",
       "  </tbody>\n",
       "</table>\n",
       "<p>5 rows × 66 columns</p>\n",
       "</div>"
      ],
      "text/plain": [
       "            X1       X2       X3       X4       X5        X6        X7  \\\n",
       "2470  0.156650  0.49442  0.48293  1.97680  175.480  0.161440  0.193410   \n",
       "1611  0.015732  0.18357  0.77556  5.22480  221.160  0.485370  0.020383   \n",
       "1402  0.124730  0.89132  0.10553  1.11840 -548.480 -0.024687  0.124730   \n",
       "3240  0.009464  0.58372  0.11573  1.32610  -97.469  0.000000  0.013644   \n",
       "745  -0.043161  0.91986 -0.31771  0.26715 -149.470 -0.100030 -0.043161   \n",
       "\n",
       "            X8       X9       X10  ...       X57      X58      X59      X60  \\\n",
       "2470  1.022600  1.22120  0.505580  ...  0.309850  0.81887  0.00000      NaN   \n",
       "1611  4.112600  0.99983  0.754960  ...  0.020838  1.00020  0.00000  19.6450   \n",
       "1402  0.121940  1.22160  0.108690  ...  1.147600  0.54534  0.00000   1.4963   \n",
       "3240  0.713150  0.90052  0.416280  ...  0.022734  0.98505  0.50132   2.9219   \n",
       "745   0.087098  0.82760  0.080118  ... -0.538720  0.84053  5.63690  35.7410   \n",
       "\n",
       "          X61      X62     X63        X64    Id  Bankrupt  \n",
       "2470   1.6167  149.160  2.4471   53.43000  1310         0  \n",
       "1611   7.3047   57.204  6.3807   28.66000  2912         0  \n",
       "1402   7.0086  266.320  1.3706  387.80000  4219         0  \n",
       "3240  10.8100  143.820  2.5378    1.70090  1176         0  \n",
       "745   10.8850  191.200  1.9090    0.93603  4039         1  \n",
       "\n",
       "[5 rows x 66 columns]"
      ]
     },
     "execution_count": 13,
     "metadata": {},
     "output_type": "execute_result"
    }
   ],
   "source": [
    "df.head()"
   ]
  },
  {
   "cell_type": "code",
   "execution_count": 14,
   "metadata": {},
   "outputs": [
    {
     "data": {
      "text/html": [
       "<div>\n",
       "<style scoped>\n",
       "    .dataframe tbody tr th:only-of-type {\n",
       "        vertical-align: middle;\n",
       "    }\n",
       "\n",
       "    .dataframe tbody tr th {\n",
       "        vertical-align: top;\n",
       "    }\n",
       "\n",
       "    .dataframe thead th {\n",
       "        text-align: right;\n",
       "    }\n",
       "</style>\n",
       "<table border=\"1\" class=\"dataframe\">\n",
       "  <thead>\n",
       "    <tr style=\"text-align: right;\">\n",
       "      <th></th>\n",
       "      <th>X1</th>\n",
       "      <th>X2</th>\n",
       "      <th>X3</th>\n",
       "      <th>X4</th>\n",
       "      <th>X5</th>\n",
       "      <th>X6</th>\n",
       "      <th>X7</th>\n",
       "      <th>X8</th>\n",
       "      <th>X9</th>\n",
       "      <th>X10</th>\n",
       "      <th>...</th>\n",
       "      <th>X57</th>\n",
       "      <th>X58</th>\n",
       "      <th>X59</th>\n",
       "      <th>X60</th>\n",
       "      <th>X61</th>\n",
       "      <th>X62</th>\n",
       "      <th>X63</th>\n",
       "      <th>X64</th>\n",
       "      <th>Id</th>\n",
       "      <th>Bankrupt</th>\n",
       "    </tr>\n",
       "  </thead>\n",
       "  <tbody>\n",
       "    <tr>\n",
       "      <th>count</th>\n",
       "      <td>267.000000</td>\n",
       "      <td>267.000000</td>\n",
       "      <td>267.000000</td>\n",
       "      <td>266.000000</td>\n",
       "      <td>2.680000e+02</td>\n",
       "      <td>267.000000</td>\n",
       "      <td>267.000000</td>\n",
       "      <td>266.000000</td>\n",
       "      <td>268.000000</td>\n",
       "      <td>267.000000</td>\n",
       "      <td>...</td>\n",
       "      <td>267.000000</td>\n",
       "      <td>268.000000</td>\n",
       "      <td>267.000000</td>\n",
       "      <td>244.000000</td>\n",
       "      <td>265.000000</td>\n",
       "      <td>268.000000</td>\n",
       "      <td>266.000000</td>\n",
       "      <td>256.000000</td>\n",
       "      <td>268.000000</td>\n",
       "      <td>268.0</td>\n",
       "    </tr>\n",
       "    <tr>\n",
       "      <th>mean</th>\n",
       "      <td>-1.992928</td>\n",
       "      <td>1.211666</td>\n",
       "      <td>-0.472077</td>\n",
       "      <td>2.905659</td>\n",
       "      <td>-4.112485e+03</td>\n",
       "      <td>-2.269281</td>\n",
       "      <td>-1.986319</td>\n",
       "      <td>1.357830</td>\n",
       "      <td>1.988076</td>\n",
       "      <td>0.761455</td>\n",
       "      <td>...</td>\n",
       "      <td>-0.390256</td>\n",
       "      <td>1.163834</td>\n",
       "      <td>0.530130</td>\n",
       "      <td>41.339220</td>\n",
       "      <td>15.518632</td>\n",
       "      <td>437.253301</td>\n",
       "      <td>11.500271</td>\n",
       "      <td>144.423482</td>\n",
       "      <td>3503.802239</td>\n",
       "      <td>1.0</td>\n",
       "    </tr>\n",
       "    <tr>\n",
       "      <th>std</th>\n",
       "      <td>28.445603</td>\n",
       "      <td>4.492506</td>\n",
       "      <td>4.513048</td>\n",
       "      <td>15.607020</td>\n",
       "      <td>6.575072e+04</td>\n",
       "      <td>28.460603</td>\n",
       "      <td>28.446291</td>\n",
       "      <td>4.117525</td>\n",
       "      <td>1.930742</td>\n",
       "      <td>16.952368</td>\n",
       "      <td>...</td>\n",
       "      <td>6.823130</td>\n",
       "      <td>1.439131</td>\n",
       "      <td>5.230612</td>\n",
       "      <td>258.144400</td>\n",
       "      <td>67.246229</td>\n",
       "      <td>1906.093558</td>\n",
       "      <td>94.968229</td>\n",
       "      <td>1814.981596</td>\n",
       "      <td>1322.140341</td>\n",
       "      <td>0.0</td>\n",
       "    </tr>\n",
       "    <tr>\n",
       "      <th>min</th>\n",
       "      <td>-463.890000</td>\n",
       "      <td>0.000000</td>\n",
       "      <td>-72.067000</td>\n",
       "      <td>0.000000</td>\n",
       "      <td>-1.076400e+06</td>\n",
       "      <td>-463.890000</td>\n",
       "      <td>-463.890000</td>\n",
       "      <td>-0.986570</td>\n",
       "      <td>0.007943</td>\n",
       "      <td>-71.444000</td>\n",
       "      <td>...</td>\n",
       "      <td>-69.000000</td>\n",
       "      <td>0.004938</td>\n",
       "      <td>-9.429500</td>\n",
       "      <td>0.036763</td>\n",
       "      <td>0.022114</td>\n",
       "      <td>0.000000</td>\n",
       "      <td>0.014555</td>\n",
       "      <td>0.013466</td>\n",
       "      <td>1384.000000</td>\n",
       "      <td>1.0</td>\n",
       "    </tr>\n",
       "    <tr>\n",
       "      <th>25%</th>\n",
       "      <td>-0.211450</td>\n",
       "      <td>0.474925</td>\n",
       "      <td>-0.276135</td>\n",
       "      <td>0.549122</td>\n",
       "      <td>-1.288050e+02</td>\n",
       "      <td>-0.276495</td>\n",
       "      <td>-0.220560</td>\n",
       "      <td>0.017631</td>\n",
       "      <td>0.933698</td>\n",
       "      <td>0.031104</td>\n",
       "      <td>...</td>\n",
       "      <td>-0.374425</td>\n",
       "      <td>0.948185</td>\n",
       "      <td>0.000000</td>\n",
       "      <td>4.786200</td>\n",
       "      <td>4.691200</td>\n",
       "      <td>67.160250</td>\n",
       "      <td>1.622525</td>\n",
       "      <td>2.078275</td>\n",
       "      <td>2340.000000</td>\n",
       "      <td>1.0</td>\n",
       "    </tr>\n",
       "    <tr>\n",
       "      <th>50%</th>\n",
       "      <td>-0.048608</td>\n",
       "      <td>0.729360</td>\n",
       "      <td>-0.000999</td>\n",
       "      <td>0.986670</td>\n",
       "      <td>-5.638800e+01</td>\n",
       "      <td>0.000000</td>\n",
       "      <td>-0.051465</td>\n",
       "      <td>0.355975</td>\n",
       "      <td>1.195650</td>\n",
       "      <td>0.262070</td>\n",
       "      <td>...</td>\n",
       "      <td>0.026479</td>\n",
       "      <td>1.004350</td>\n",
       "      <td>0.000000</td>\n",
       "      <td>8.543450</td>\n",
       "      <td>7.667800</td>\n",
       "      <td>120.610000</td>\n",
       "      <td>3.019500</td>\n",
       "      <td>4.049050</td>\n",
       "      <td>3508.500000</td>\n",
       "      <td>1.0</td>\n",
       "    </tr>\n",
       "    <tr>\n",
       "      <th>75%</th>\n",
       "      <td>0.026400</td>\n",
       "      <td>0.962345</td>\n",
       "      <td>0.249290</td>\n",
       "      <td>1.574000</td>\n",
       "      <td>-1.090413e+00</td>\n",
       "      <td>0.000000</td>\n",
       "      <td>0.035095</td>\n",
       "      <td>1.012543</td>\n",
       "      <td>2.395500</td>\n",
       "      <td>0.493870</td>\n",
       "      <td>...</td>\n",
       "      <td>0.291180</td>\n",
       "      <td>1.119375</td>\n",
       "      <td>0.178775</td>\n",
       "      <td>19.827250</td>\n",
       "      <td>13.260000</td>\n",
       "      <td>224.505000</td>\n",
       "      <td>5.355325</td>\n",
       "      <td>12.245500</td>\n",
       "      <td>4663.250000</td>\n",
       "      <td>1.0</td>\n",
       "    </tr>\n",
       "    <tr>\n",
       "      <th>max</th>\n",
       "      <td>2.352300</td>\n",
       "      <td>72.416000</td>\n",
       "      <td>1.000000</td>\n",
       "      <td>243.550000</td>\n",
       "      <td>5.091200e+03</td>\n",
       "      <td>0.425310</td>\n",
       "      <td>2.352300</td>\n",
       "      <td>42.327000</td>\n",
       "      <td>13.477000</td>\n",
       "      <td>266.860000</td>\n",
       "      <td>...</td>\n",
       "      <td>60.177000</td>\n",
       "      <td>22.402000</td>\n",
       "      <td>83.095000</td>\n",
       "      <td>3932.000000</td>\n",
       "      <td>1081.000000</td>\n",
       "      <td>25077.000000</td>\n",
       "      <td>1526.800000</td>\n",
       "      <td>28999.000000</td>\n",
       "      <td>5893.000000</td>\n",
       "      <td>1.0</td>\n",
       "    </tr>\n",
       "  </tbody>\n",
       "</table>\n",
       "<p>8 rows × 66 columns</p>\n",
       "</div>"
      ],
      "text/plain": [
       "               X1          X2          X3          X4            X5  \\\n",
       "count  267.000000  267.000000  267.000000  266.000000  2.680000e+02   \n",
       "mean    -1.992928    1.211666   -0.472077    2.905659 -4.112485e+03   \n",
       "std     28.445603    4.492506    4.513048   15.607020  6.575072e+04   \n",
       "min   -463.890000    0.000000  -72.067000    0.000000 -1.076400e+06   \n",
       "25%     -0.211450    0.474925   -0.276135    0.549122 -1.288050e+02   \n",
       "50%     -0.048608    0.729360   -0.000999    0.986670 -5.638800e+01   \n",
       "75%      0.026400    0.962345    0.249290    1.574000 -1.090413e+00   \n",
       "max      2.352300   72.416000    1.000000  243.550000  5.091200e+03   \n",
       "\n",
       "               X6          X7          X8          X9         X10  ...  \\\n",
       "count  267.000000  267.000000  266.000000  268.000000  267.000000  ...   \n",
       "mean    -2.269281   -1.986319    1.357830    1.988076    0.761455  ...   \n",
       "std     28.460603   28.446291    4.117525    1.930742   16.952368  ...   \n",
       "min   -463.890000 -463.890000   -0.986570    0.007943  -71.444000  ...   \n",
       "25%     -0.276495   -0.220560    0.017631    0.933698    0.031104  ...   \n",
       "50%      0.000000   -0.051465    0.355975    1.195650    0.262070  ...   \n",
       "75%      0.000000    0.035095    1.012543    2.395500    0.493870  ...   \n",
       "max      0.425310    2.352300   42.327000   13.477000  266.860000  ...   \n",
       "\n",
       "              X57         X58         X59          X60          X61  \\\n",
       "count  267.000000  268.000000  267.000000   244.000000   265.000000   \n",
       "mean    -0.390256    1.163834    0.530130    41.339220    15.518632   \n",
       "std      6.823130    1.439131    5.230612   258.144400    67.246229   \n",
       "min    -69.000000    0.004938   -9.429500     0.036763     0.022114   \n",
       "25%     -0.374425    0.948185    0.000000     4.786200     4.691200   \n",
       "50%      0.026479    1.004350    0.000000     8.543450     7.667800   \n",
       "75%      0.291180    1.119375    0.178775    19.827250    13.260000   \n",
       "max     60.177000   22.402000   83.095000  3932.000000  1081.000000   \n",
       "\n",
       "                X62          X63           X64           Id  Bankrupt  \n",
       "count    268.000000   266.000000    256.000000   268.000000     268.0  \n",
       "mean     437.253301    11.500271    144.423482  3503.802239       1.0  \n",
       "std     1906.093558    94.968229   1814.981596  1322.140341       0.0  \n",
       "min        0.000000     0.014555      0.013466  1384.000000       1.0  \n",
       "25%       67.160250     1.622525      2.078275  2340.000000       1.0  \n",
       "50%      120.610000     3.019500      4.049050  3508.500000       1.0  \n",
       "75%      224.505000     5.355325     12.245500  4663.250000       1.0  \n",
       "max    25077.000000  1526.800000  28999.000000  5893.000000       1.0  \n",
       "\n",
       "[8 rows x 66 columns]"
      ]
     },
     "execution_count": 14,
     "metadata": {},
     "output_type": "execute_result"
    }
   ],
   "source": [
    "df.loc[df.Bankrupt==1,:].describe()"
   ]
  },
  {
   "cell_type": "code",
   "execution_count": 15,
   "metadata": {},
   "outputs": [
    {
     "data": {
      "text/html": [
       "<div>\n",
       "<style scoped>\n",
       "    .dataframe tbody tr th:only-of-type {\n",
       "        vertical-align: middle;\n",
       "    }\n",
       "\n",
       "    .dataframe tbody tr th {\n",
       "        vertical-align: top;\n",
       "    }\n",
       "\n",
       "    .dataframe thead th {\n",
       "        text-align: right;\n",
       "    }\n",
       "</style>\n",
       "<table border=\"1\" class=\"dataframe\">\n",
       "  <thead>\n",
       "    <tr style=\"text-align: right;\">\n",
       "      <th></th>\n",
       "      <th>X1</th>\n",
       "      <th>X2</th>\n",
       "      <th>X3</th>\n",
       "      <th>X4</th>\n",
       "      <th>X5</th>\n",
       "      <th>X6</th>\n",
       "      <th>X7</th>\n",
       "      <th>X8</th>\n",
       "      <th>X9</th>\n",
       "      <th>X10</th>\n",
       "      <th>...</th>\n",
       "      <th>X57</th>\n",
       "      <th>X58</th>\n",
       "      <th>X59</th>\n",
       "      <th>X60</th>\n",
       "      <th>X61</th>\n",
       "      <th>X62</th>\n",
       "      <th>X63</th>\n",
       "      <th>X64</th>\n",
       "      <th>Id</th>\n",
       "      <th>Bankrupt</th>\n",
       "    </tr>\n",
       "  </thead>\n",
       "  <tbody>\n",
       "    <tr>\n",
       "      <th>count</th>\n",
       "      <td>4067.000000</td>\n",
       "      <td>4067.000000</td>\n",
       "      <td>4067.000000</td>\n",
       "      <td>4056.000000</td>\n",
       "      <td>4.059000e+03</td>\n",
       "      <td>4067.000000</td>\n",
       "      <td>4067.000000</td>\n",
       "      <td>4057.000000</td>\n",
       "      <td>4068.000000</td>\n",
       "      <td>4067.000000</td>\n",
       "      <td>...</td>\n",
       "      <td>4067.000000</td>\n",
       "      <td>4068.000000</td>\n",
       "      <td>4067.000000</td>\n",
       "      <td>3.896000e+03</td>\n",
       "      <td>4060.000000</td>\n",
       "      <td>4068.000000</td>\n",
       "      <td>4056.000000</td>\n",
       "      <td>4003.000000</td>\n",
       "      <td>4068.000000</td>\n",
       "      <td>4068.0</td>\n",
       "    </tr>\n",
       "    <tr>\n",
       "      <th>mean</th>\n",
       "      <td>0.060010</td>\n",
       "      <td>0.490119</td>\n",
       "      <td>0.234256</td>\n",
       "      <td>5.385035</td>\n",
       "      <td>2.919458e+02</td>\n",
       "      <td>0.065608</td>\n",
       "      <td>0.073327</td>\n",
       "      <td>6.367758</td>\n",
       "      <td>1.552133</td>\n",
       "      <td>0.492182</td>\n",
       "      <td>...</td>\n",
       "      <td>0.028629</td>\n",
       "      <td>0.946952</td>\n",
       "      <td>0.264628</td>\n",
       "      <td>1.295730e+03</td>\n",
       "      <td>10.931024</td>\n",
       "      <td>159.930975</td>\n",
       "      <td>9.406088</td>\n",
       "      <td>30.677747</td>\n",
       "      <td>3504.354966</td>\n",
       "      <td>0.0</td>\n",
       "    </tr>\n",
       "    <tr>\n",
       "      <th>std</th>\n",
       "      <td>0.276072</td>\n",
       "      <td>0.574870</td>\n",
       "      <td>0.744436</td>\n",
       "      <td>109.033158</td>\n",
       "      <td>1.969324e+04</td>\n",
       "      <td>4.277918</td>\n",
       "      <td>0.284994</td>\n",
       "      <td>119.125512</td>\n",
       "      <td>1.290456</td>\n",
       "      <td>0.728276</td>\n",
       "      <td>...</td>\n",
       "      <td>7.668390</td>\n",
       "      <td>0.922503</td>\n",
       "      <td>6.727489</td>\n",
       "      <td>7.720237e+04</td>\n",
       "      <td>44.202747</td>\n",
       "      <td>2396.498698</td>\n",
       "      <td>120.746127</td>\n",
       "      <td>395.059648</td>\n",
       "      <td>1398.382972</td>\n",
       "      <td>0.0</td>\n",
       "    </tr>\n",
       "    <tr>\n",
       "      <th>min</th>\n",
       "      <td>-10.292000</td>\n",
       "      <td>0.000000</td>\n",
       "      <td>-24.662000</td>\n",
       "      <td>0.000443</td>\n",
       "      <td>-6.947300e+04</td>\n",
       "      <td>-100.380000</td>\n",
       "      <td>-10.292000</td>\n",
       "      <td>-3.735100</td>\n",
       "      <td>0.000191</td>\n",
       "      <td>-24.640000</td>\n",
       "      <td>...</td>\n",
       "      <td>-468.670000</td>\n",
       "      <td>-0.085920</td>\n",
       "      <td>-184.980000</td>\n",
       "      <td>-1.244000e+01</td>\n",
       "      <td>-0.092493</td>\n",
       "      <td>0.000000</td>\n",
       "      <td>0.000000</td>\n",
       "      <td>-3.726500</td>\n",
       "      <td>1071.000000</td>\n",
       "      <td>0.0</td>\n",
       "    </tr>\n",
       "    <tr>\n",
       "      <th>25%</th>\n",
       "      <td>0.007291</td>\n",
       "      <td>0.248010</td>\n",
       "      <td>0.063270</td>\n",
       "      <td>1.145850</td>\n",
       "      <td>-3.898950e+01</td>\n",
       "      <td>0.000000</td>\n",
       "      <td>0.010188</td>\n",
       "      <td>0.521690</td>\n",
       "      <td>1.018800</td>\n",
       "      <td>0.337005</td>\n",
       "      <td>...</td>\n",
       "      <td>0.020550</td>\n",
       "      <td>0.875285</td>\n",
       "      <td>0.000000</td>\n",
       "      <td>5.396950e+00</td>\n",
       "      <td>4.202150</td>\n",
       "      <td>44.187750</td>\n",
       "      <td>3.176350</td>\n",
       "      <td>2.136100</td>\n",
       "      <td>2299.500000</td>\n",
       "      <td>0.0</td>\n",
       "    </tr>\n",
       "    <tr>\n",
       "      <th>50%</th>\n",
       "      <td>0.051196</td>\n",
       "      <td>0.435560</td>\n",
       "      <td>0.230170</td>\n",
       "      <td>1.695650</td>\n",
       "      <td>3.310400e+00</td>\n",
       "      <td>0.000000</td>\n",
       "      <td>0.061907</td>\n",
       "      <td>1.228300</td>\n",
       "      <td>1.141400</td>\n",
       "      <td>0.538210</td>\n",
       "      <td>...</td>\n",
       "      <td>0.111980</td>\n",
       "      <td>0.947790</td>\n",
       "      <td>0.007681</td>\n",
       "      <td>9.038900e+00</td>\n",
       "      <td>6.118550</td>\n",
       "      <td>72.067500</td>\n",
       "      <td>5.052850</td>\n",
       "      <td>4.077200</td>\n",
       "      <td>3503.500000</td>\n",
       "      <td>0.0</td>\n",
       "    </tr>\n",
       "    <tr>\n",
       "      <th>75%</th>\n",
       "      <td>0.119750</td>\n",
       "      <td>0.644340</td>\n",
       "      <td>0.428750</td>\n",
       "      <td>3.007950</td>\n",
       "      <td>5.328950e+01</td>\n",
       "      <td>0.129010</td>\n",
       "      <td>0.140360</td>\n",
       "      <td>2.911700</td>\n",
       "      <td>1.793425</td>\n",
       "      <td>0.729220</td>\n",
       "      <td>...</td>\n",
       "      <td>0.239345</td>\n",
       "      <td>0.987645</td>\n",
       "      <td>0.207150</td>\n",
       "      <td>1.704275e+01</td>\n",
       "      <td>9.131000</td>\n",
       "      <td>114.697500</td>\n",
       "      <td>8.220250</td>\n",
       "      <td>9.094450</td>\n",
       "      <td>4714.250000</td>\n",
       "      <td>0.0</td>\n",
       "    </tr>\n",
       "    <tr>\n",
       "      <th>max</th>\n",
       "      <td>1.793900</td>\n",
       "      <td>25.640000</td>\n",
       "      <td>28.336000</td>\n",
       "      <td>6845.800000</td>\n",
       "      <td>1.250100e+06</td>\n",
       "      <td>203.150000</td>\n",
       "      <td>2.051700</td>\n",
       "      <td>6868.500000</td>\n",
       "      <td>37.807000</td>\n",
       "      <td>21.653000</td>\n",
       "      <td>...</td>\n",
       "      <td>87.981000</td>\n",
       "      <td>47.788000</td>\n",
       "      <td>308.150000</td>\n",
       "      <td>4.818700e+06</td>\n",
       "      <td>1308.500000</td>\n",
       "      <td>127450.000000</td>\n",
       "      <td>7641.300000</td>\n",
       "      <td>22401.000000</td>\n",
       "      <td>5908.000000</td>\n",
       "      <td>0.0</td>\n",
       "    </tr>\n",
       "  </tbody>\n",
       "</table>\n",
       "<p>8 rows × 66 columns</p>\n",
       "</div>"
      ],
      "text/plain": [
       "                X1           X2           X3           X4            X5  \\\n",
       "count  4067.000000  4067.000000  4067.000000  4056.000000  4.059000e+03   \n",
       "mean      0.060010     0.490119     0.234256     5.385035  2.919458e+02   \n",
       "std       0.276072     0.574870     0.744436   109.033158  1.969324e+04   \n",
       "min     -10.292000     0.000000   -24.662000     0.000443 -6.947300e+04   \n",
       "25%       0.007291     0.248010     0.063270     1.145850 -3.898950e+01   \n",
       "50%       0.051196     0.435560     0.230170     1.695650  3.310400e+00   \n",
       "75%       0.119750     0.644340     0.428750     3.007950  5.328950e+01   \n",
       "max       1.793900    25.640000    28.336000  6845.800000  1.250100e+06   \n",
       "\n",
       "                X6           X7           X8           X9          X10  ...  \\\n",
       "count  4067.000000  4067.000000  4057.000000  4068.000000  4067.000000  ...   \n",
       "mean      0.065608     0.073327     6.367758     1.552133     0.492182  ...   \n",
       "std       4.277918     0.284994   119.125512     1.290456     0.728276  ...   \n",
       "min    -100.380000   -10.292000    -3.735100     0.000191   -24.640000  ...   \n",
       "25%       0.000000     0.010188     0.521690     1.018800     0.337005  ...   \n",
       "50%       0.000000     0.061907     1.228300     1.141400     0.538210  ...   \n",
       "75%       0.129010     0.140360     2.911700     1.793425     0.729220  ...   \n",
       "max     203.150000     2.051700  6868.500000    37.807000    21.653000  ...   \n",
       "\n",
       "               X57          X58          X59           X60          X61  \\\n",
       "count  4067.000000  4068.000000  4067.000000  3.896000e+03  4060.000000   \n",
       "mean      0.028629     0.946952     0.264628  1.295730e+03    10.931024   \n",
       "std       7.668390     0.922503     6.727489  7.720237e+04    44.202747   \n",
       "min    -468.670000    -0.085920  -184.980000 -1.244000e+01    -0.092493   \n",
       "25%       0.020550     0.875285     0.000000  5.396950e+00     4.202150   \n",
       "50%       0.111980     0.947790     0.007681  9.038900e+00     6.118550   \n",
       "75%       0.239345     0.987645     0.207150  1.704275e+01     9.131000   \n",
       "max      87.981000    47.788000   308.150000  4.818700e+06  1308.500000   \n",
       "\n",
       "                 X62          X63           X64           Id  Bankrupt  \n",
       "count    4068.000000  4056.000000   4003.000000  4068.000000    4068.0  \n",
       "mean      159.930975     9.406088     30.677747  3504.354966       0.0  \n",
       "std      2396.498698   120.746127    395.059648  1398.382972       0.0  \n",
       "min         0.000000     0.000000     -3.726500  1071.000000       0.0  \n",
       "25%        44.187750     3.176350      2.136100  2299.500000       0.0  \n",
       "50%        72.067500     5.052850      4.077200  3503.500000       0.0  \n",
       "75%       114.697500     8.220250      9.094450  4714.250000       0.0  \n",
       "max    127450.000000  7641.300000  22401.000000  5908.000000       0.0  \n",
       "\n",
       "[8 rows x 66 columns]"
      ]
     },
     "execution_count": 15,
     "metadata": {},
     "output_type": "execute_result"
    }
   ],
   "source": [
    "df.loc[df.Bankrupt==0,:].describe()"
   ]
  },
  {
   "cell_type": "code",
   "execution_count": 16,
   "metadata": {},
   "outputs": [
    {
     "name": "stdout",
     "output_type": "stream",
     "text": [
      "The percentage of company going bankrupt is 6.59%\n"
     ]
    }
   ],
   "source": [
    "ratio = df.loc[df.Bankrupt==1,'Bankrupt'].count()/df.loc[df.Bankrupt==0,'Bankrupt'].count()\n",
    "print('The percentage of company going bankrupt is {c:.2f}%'.format(c=ratio*100))"
   ]
  },
  {
   "cell_type": "markdown",
   "metadata": {},
   "source": [
    "# Prepare the Data"
   ]
  },
  {
   "cell_type": "markdown",
   "metadata": {},
   "source": [
    "## Cleaning"
   ]
  },
  {
   "cell_type": "code",
   "execution_count": 17,
   "metadata": {},
   "outputs": [
    {
     "data": {
      "text/plain": [
       "X1      2\n",
       "X2      2\n",
       "X3      2\n",
       "X4     14\n",
       "X5      9\n",
       "       ..\n",
       "X61    11\n",
       "X62     0\n",
       "X63    14\n",
       "X64    77\n",
       "Id      0\n",
       "Length: 65, dtype: int64"
      ]
     },
     "execution_count": 17,
     "metadata": {},
     "output_type": "execute_result"
    }
   ],
   "source": [
    "# Check missing values\n",
    "X_train.isnull().sum()"
   ]
  },
  {
   "cell_type": "code",
   "execution_count": 18,
   "metadata": {},
   "outputs": [
    {
     "data": {
      "text/plain": [
       "0"
      ]
     },
     "execution_count": 18,
     "metadata": {},
     "output_type": "execute_result"
    }
   ],
   "source": [
    "y_train.isnull().sum()"
   ]
  },
  {
   "cell_type": "markdown",
   "metadata": {},
   "source": [
    "## Transformation"
   ]
  },
  {
   "cell_type": "code",
   "execution_count": 19,
   "metadata": {},
   "outputs": [],
   "source": [
    "# Replace the missing values with median\n",
    "X_train_complete = X_train.copy()\n",
    "for col in X_train.columns:\n",
    "    X_train_complete[col] = X_train[col].fillna(X_train[col].median())"
   ]
  },
  {
   "cell_type": "code",
   "execution_count": 20,
   "metadata": {},
   "outputs": [
    {
     "data": {
      "text/plain": [
       "X1     0\n",
       "X2     0\n",
       "X3     0\n",
       "X4     0\n",
       "X5     0\n",
       "      ..\n",
       "X61    0\n",
       "X62    0\n",
       "X63    0\n",
       "X64    0\n",
       "Id     0\n",
       "Length: 65, dtype: int64"
      ]
     },
     "execution_count": 20,
     "metadata": {},
     "output_type": "execute_result"
    }
   ],
   "source": [
    "X_train_complete.isnull().sum()"
   ]
  },
  {
   "cell_type": "code",
   "execution_count": 21,
   "metadata": {},
   "outputs": [],
   "source": [
    "# Drop Id column\n",
    "X_train_complete = X_train_complete.drop(columns='Id')"
   ]
  },
  {
   "cell_type": "markdown",
   "metadata": {},
   "source": [
    "## Scaling"
   ]
  },
  {
   "cell_type": "code",
   "execution_count": 22,
   "metadata": {},
   "outputs": [],
   "source": [
    "from sklearn.preprocessing import StandardScaler\n",
    "\n",
    "# Use Standard Scaler to conduct scaling\n",
    "scaler = StandardScaler()"
   ]
  },
  {
   "cell_type": "code",
   "execution_count": 23,
   "metadata": {},
   "outputs": [],
   "source": [
    "X_train_complete = scaler.fit_transform(X_train_complete)"
   ]
  },
  {
   "cell_type": "markdown",
   "metadata": {},
   "source": [
    "## Dimension Reduction "
   ]
  },
  {
   "cell_type": "markdown",
   "metadata": {},
   "source": [
    "In this problem, I choose not to use PCA. Reasons are below:\n",
    "- 64 features is not a big number\n",
    "- Through experiments I got that applying PCA will actually hurt performance of our classifiers"
   ]
  },
  {
   "cell_type": "markdown",
   "metadata": {},
   "source": [
    "# Train a Model"
   ]
  },
  {
   "cell_type": "markdown",
   "metadata": {},
   "source": [
    "## Select a Model"
   ]
  },
  {
   "cell_type": "code",
   "execution_count": 24,
   "metadata": {},
   "outputs": [],
   "source": [
    "from sklearn import linear_model \n",
    "\n",
    "logistic_clf = linear_model.LogisticRegression(solver='liblinear')"
   ]
  },
  {
   "cell_type": "code",
   "execution_count": 25,
   "metadata": {},
   "outputs": [],
   "source": [
    "from sklearn.svm import SVC\n",
    "\n",
    "svm_clf = SVC(gamma=\"auto\",probability=True)"
   ]
  },
  {
   "cell_type": "code",
   "execution_count": 26,
   "metadata": {},
   "outputs": [],
   "source": [
    "from sklearn.ensemble import RandomForestClassifier\n",
    "\n",
    "forest_clf = RandomForestClassifier(n_estimators=100, random_state=42)"
   ]
  },
  {
   "cell_type": "code",
   "execution_count": 27,
   "metadata": {},
   "outputs": [],
   "source": [
    "from sklearn.naive_bayes import GaussianNB\n",
    "\n",
    "NB_clf = GaussianNB()"
   ]
  },
  {
   "cell_type": "markdown",
   "metadata": {},
   "source": [
    "## Fit "
   ]
  },
  {
   "cell_type": "code",
   "execution_count": 28,
   "metadata": {},
   "outputs": [],
   "source": [
    "LG_model = logistic_clf.fit(X_train_complete,y_train)\n",
    "SVM_model = svm_clf.fit(X_train_complete,y_train)\n",
    "RF_model = forest_clf.fit(X_train_complete,y_train)\n",
    "NB_model = NB_clf.fit(X_train_complete,y_train)"
   ]
  },
  {
   "cell_type": "markdown",
   "metadata": {},
   "source": [
    "## Validation and Cross Validation"
   ]
  },
  {
   "cell_type": "code",
   "execution_count": 29,
   "metadata": {},
   "outputs": [
    {
     "name": "stdout",
     "output_type": "stream",
     "text": [
      "Model: Logistic avg cross val score=0.93\n",
      "\n",
      "Model: SVM avg cross val score=0.94\n",
      "\n",
      "Model: Random Forest avg cross val score=0.94\n",
      "\n",
      "Model: Naive Bayes avg cross val score=0.84\n",
      "\n"
     ]
    }
   ],
   "source": [
    "from sklearn.pipeline import Pipeline\n",
    "from sklearn.model_selection import cross_val_score\n",
    "\n",
    "for name, clf in { \"Logistic\": logistic_clf,\n",
    "                   \"SVM\": svm_clf,\n",
    "                   \"Random Forest\": forest_clf,\n",
    "                   \"Naive Bayes\": NB_clf\n",
    "                 }.items():\n",
    "    \n",
    "    # Combine the transformation pipeline with a final classification step\n",
    "    model_pipeline = Pipeline(steps=[ (\"classify\", clf)\n",
    "                                    ]\n",
    "                             )\n",
    "    \n",
    "    # Cross validation on the combined pipeline\n",
    "    scores = cross_val_score(model_pipeline, X_train_complete, y_train, cv=10)\n",
    "    print(\"Model: {m:s} avg cross val score={s:3.2f}\\n\".format(m=name, s=scores.mean()) )"
   ]
  },
  {
   "cell_type": "markdown",
   "metadata": {},
   "source": [
    "## Transfer Test Data"
   ]
  },
  {
   "cell_type": "code",
   "execution_count": 30,
   "metadata": {},
   "outputs": [],
   "source": [
    "# Fill the missing values\n",
    "X_test_complete = X_test.copy()\n",
    "for col in X_test.columns:\n",
    "    X_test_complete[col] = X_test[col].fillna(X_test[col].median())\n",
    "    \n",
    "# Drop Id column\n",
    "X_test_complete = X_test_complete.drop(columns='Id')\n",
    "\n",
    "# Scaling\n",
    "X_test_complete = scaler.transform(X_test_complete)"
   ]
  },
  {
   "cell_type": "markdown",
   "metadata": {},
   "source": [
    "## Error Analysis"
   ]
  },
  {
   "cell_type": "code",
   "execution_count": 31,
   "metadata": {},
   "outputs": [],
   "source": [
    "from sklearn.metrics import accuracy_score\n",
    "from sklearn.metrics import precision_score\n",
    "from sklearn.metrics import recall_score\n",
    "from sklearn.metrics import roc_curve, roc_auc_score\n",
    "from sklearn.metrics import f1_score"
   ]
  },
  {
   "cell_type": "code",
   "execution_count": 32,
   "metadata": {},
   "outputs": [],
   "source": [
    "# Store the accuracy, AUC, recall, F_score, and precision score from different models in a dataframe \n",
    "Accuracy_score = []\n",
    "ROC_AUC_score = []\n",
    "Precision = []\n",
    "Recall = []\n",
    "F_score = []\n",
    "\n",
    "selected_classifier = ['Logistic Regression','SVM','Random Forest','Naïve Bayesian']\n",
    "models = [LG_model,SVM_model,RF_model,NB_model]\n",
    "for model in models:\n",
    "    y_pred = model.predict(X_test_complete)\n",
    "    y_predict_prob = model.predict_proba(X_test_complete)[:,1]\n",
    "    Accuracy_score.append(accuracy_score(y_test, y_pred))\n",
    "    ROC_AUC_score.append(roc_auc_score(y_test, y_predict_prob))\n",
    "    Precision.append(precision_score(y_test, y_pred,pos_label=1, average=\"binary\"))\n",
    "    Recall.append(recall_score(y_test, y_pred, pos_label=1, average=\"binary\"))\n",
    "    F_score.append(f1_score(y_test, y_pred))"
   ]
  },
  {
   "cell_type": "code",
   "execution_count": 33,
   "metadata": {},
   "outputs": [],
   "source": [
    "model_performance_df = pd.DataFrame([Accuracy_score,ROC_AUC_score,Precision,Recall,F_score],\n",
    "                                    columns=selected_classifier,\n",
    "                                    index=['Accuracy_score','ROC_AUC_score','Precision','Recall','F_score'])"
   ]
  },
  {
   "cell_type": "code",
   "execution_count": 34,
   "metadata": {},
   "outputs": [
    {
     "data": {
      "text/html": [
       "<div>\n",
       "<style scoped>\n",
       "    .dataframe tbody tr th:only-of-type {\n",
       "        vertical-align: middle;\n",
       "    }\n",
       "\n",
       "    .dataframe tbody tr th {\n",
       "        vertical-align: top;\n",
       "    }\n",
       "\n",
       "    .dataframe thead th {\n",
       "        text-align: right;\n",
       "    }\n",
       "</style>\n",
       "<table border=\"1\" class=\"dataframe\">\n",
       "  <thead>\n",
       "    <tr style=\"text-align: right;\">\n",
       "      <th></th>\n",
       "      <th>Logistic Regression</th>\n",
       "      <th>SVM</th>\n",
       "      <th>Random Forest</th>\n",
       "      <th>Naïve Bayesian</th>\n",
       "    </tr>\n",
       "  </thead>\n",
       "  <tbody>\n",
       "    <tr>\n",
       "      <th>Accuracy_score</th>\n",
       "      <td>0.912863</td>\n",
       "      <td>0.914938</td>\n",
       "      <td>0.929461</td>\n",
       "      <td>0.900415</td>\n",
       "    </tr>\n",
       "    <tr>\n",
       "      <th>ROC_AUC_score</th>\n",
       "      <td>0.797907</td>\n",
       "      <td>0.714367</td>\n",
       "      <td>0.917958</td>\n",
       "      <td>0.736312</td>\n",
       "    </tr>\n",
       "    <tr>\n",
       "      <th>Precision</th>\n",
       "      <td>0.250000</td>\n",
       "      <td>0.000000</td>\n",
       "      <td>0.687500</td>\n",
       "      <td>0.333333</td>\n",
       "    </tr>\n",
       "    <tr>\n",
       "      <th>Recall</th>\n",
       "      <td>0.025000</td>\n",
       "      <td>0.000000</td>\n",
       "      <td>0.275000</td>\n",
       "      <td>0.200000</td>\n",
       "    </tr>\n",
       "    <tr>\n",
       "      <th>F_score</th>\n",
       "      <td>0.045455</td>\n",
       "      <td>0.000000</td>\n",
       "      <td>0.392857</td>\n",
       "      <td>0.250000</td>\n",
       "    </tr>\n",
       "  </tbody>\n",
       "</table>\n",
       "</div>"
      ],
      "text/plain": [
       "                Logistic Regression       SVM  Random Forest  Naïve Bayesian\n",
       "Accuracy_score             0.912863  0.914938       0.929461        0.900415\n",
       "ROC_AUC_score              0.797907  0.714367       0.917958        0.736312\n",
       "Precision                  0.250000  0.000000       0.687500        0.333333\n",
       "Recall                     0.025000  0.000000       0.275000        0.200000\n",
       "F_score                    0.045455  0.000000       0.392857        0.250000"
      ]
     },
     "execution_count": 34,
     "metadata": {},
     "output_type": "execute_result"
    }
   ],
   "source": [
    "# Show the dataframe and make it easy to compare different models\n",
    "model_performance_df"
   ]
  },
  {
   "cell_type": "code",
   "execution_count": 35,
   "metadata": {},
   "outputs": [
    {
     "data": {
      "image/png": "[encoded data removed]",
      "text/plain": [
       "<Figure size 1080x720 with 4 Axes>"
      ]
     },
     "metadata": {
      "needs_background": "light"
     },
     "output_type": "display_data"
    }
   ],
   "source": [
    "# Plot the ROC curves for all selected models\n",
    "helper.plot_ROC_curves(models,X_test_complete,y_test)"
   ]
  },
  {
   "cell_type": "markdown",
   "metadata": {},
   "source": [
    "## Select Random Forest Classifier as our model\n",
    "- The Accuracy_score, Precision, and Recall score of Random Forest Classifier are all higher than other model\n",
    "- By ploting the ROC curve, we can see that the AUC of Random Forest Classifier is also the largest among all\n",
    "- In addition, Random Forest Classifier outperform other models in cross validation as well"
   ]
  },
  {
   "cell_type": "markdown",
   "metadata": {},
   "source": [
    "### Find the best threshold based on tradeoff between Recall and Precision\n",
    "- In this problem, Recall is more important, since it is worse to fail to identify a company which will go bankrupt\n",
    "- Our goal is to maintain low false negative rate\n",
    "- We assume the loss of every false negative rate is 5 times than false positive rate\n",
    "- We define the loss function: Loss = 5*False Negatibe Rate + False Positive Rate\n",
    "- We find the point on the curve which minimize the loss function"
   ]
  },
  {
   "cell_type": "code",
   "execution_count": 36,
   "metadata": {},
   "outputs": [
    {
     "name": "stdout",
     "output_type": "stream",
     "text": [
      "Best Threshold=0.0300\n"
     ]
    },
    {
     "data": {
      "image/png": "[encoded data removed]",
      "text/plain": [
       "<Figure size 432x288 with 1 Axes>"
      ]
     },
     "metadata": {
      "needs_background": "light"
     },
     "output_type": "display_data"
    }
   ],
   "source": [
    "# plot ROC curve for single model and find best threshold\n",
    "helper.plot_ROC_curve(RF_model,X_test_complete,y_test)"
   ]
  },
  {
   "cell_type": "markdown",
   "metadata": {},
   "source": [
    "### Set threshold to the model\n",
    "- We know that Best Threshold based on tradeoff between Recall and Precision is 0.03\n",
    "- We still have to take accuracy score into account when decide final threshold"
   ]
  },
  {
   "cell_type": "code",
   "execution_count": 37,
   "metadata": {},
   "outputs": [],
   "source": [
    "# Store the accuracy, recall, and precision score in a dataframe based on different threshold values\n",
    "thres = []\n",
    "a = []\n",
    "r = []\n",
    "p = []\n",
    "for thre in range(0,20,2):\n",
    "    thre = thre/100\n",
    "    thres.append(thre)\n",
    "    predicted = helper.set_threshold(thre,RF_model,X_test_complete)\n",
    "    accuracy = accuracy_score(y_test, predicted)\n",
    "    recall = recall_score(y_test, predicted,  pos_label=1, average=\"binary\")\n",
    "    precision = precision_score(y_test, predicted,  pos_label=1, average=\"binary\")\n",
    "    a.append(accuracy)\n",
    "    r.append(recall)\n",
    "    p.append(precision)"
   ]
  },
  {
   "cell_type": "code",
   "execution_count": 38,
   "metadata": {},
   "outputs": [],
   "source": [
    "ddf = pd.DataFrame(columns=['threshold','accuracy','recall','precision'])\n",
    "ddf['threshold'] = thres\n",
    "ddf['accuracy'] = a\n",
    "ddf['recall'] = r\n",
    "ddf['precision'] = p\n",
    "\n",
    "ddf = ddf.set_index('threshold')"
   ]
  },
  {
   "cell_type": "code",
   "execution_count": 39,
   "metadata": {},
   "outputs": [
    {
     "data": {
      "text/plain": [
       "<AxesSubplot:xlabel='threshold'>"
      ]
     },
     "execution_count": 39,
     "metadata": {},
     "output_type": "execute_result"
    },
    {
     "data": {
      "image/png": "[encoded data removed]",
      "text/plain": [
       "<Figure size 864x432 with 1 Axes>"
      ]
     },
     "metadata": {
      "needs_background": "light"
     },
     "output_type": "display_data"
    }
   ],
   "source": [
    "# Plot scores with threshold as variable\n",
    "ddf.plot(figsize=(12,6))"
   ]
  },
  {
   "cell_type": "markdown",
   "metadata": {},
   "source": [
    "- We define final scores for different threshold by assigning different weights to accuracy, recall, and precision scores"
   ]
  },
  {
   "cell_type": "code",
   "execution_count": 40,
   "metadata": {},
   "outputs": [
    {
     "data": {
      "text/plain": [
       "<AxesSubplot:xlabel='threshold'>"
      ]
     },
     "execution_count": 40,
     "metadata": {},
     "output_type": "execute_result"
    },
    {
     "name": "stdout",
     "output_type": "stream",
     "text": [
      "Best Threshold is 0.08\n"
     ]
    },
    {
     "data": {
      "image/png": "[encoded data removed]",
      "text/plain": [
       "<Figure size 864x432 with 1 Axes>"
      ]
     },
     "metadata": {
      "needs_background": "light"
     },
     "output_type": "display_data"
    }
   ],
   "source": [
    "# Find the best threshold with highest score and plot the score curve\n",
    "ddf['score'] = 3*ddf['accuracy'] + 5*ddf['recall'] + ddf['precision']\n",
    "ddf['score'].plot(figsize=(12,6))\n",
    "print('Best Threshold is {}'.format(thres[np.argmax(ddf['score'])]))"
   ]
  },
  {
   "cell_type": "markdown",
   "metadata": {},
   "source": [
    "#### The best threshold for our model is 0.08"
   ]
  },
  {
   "cell_type": "code",
   "execution_count": 41,
   "metadata": {},
   "outputs": [],
   "source": [
    "threshold = 0.08\n",
    "predicted = helper.set_threshold(threshold,RF_model,X_test_complete)\n",
    "\n",
    "# Show accuracy, recall, precision score after setting the threshold \n",
    "accuracy = accuracy_score(y_test, predicted)\n",
    "recall = recall_score(y_test, predicted,  pos_label=1, average=\"binary\")\n",
    "precision = precision_score(y_test, predicted,  pos_label=1, average=\"binary\")"
   ]
  },
  {
   "cell_type": "code",
   "execution_count": 42,
   "metadata": {},
   "outputs": [
    {
     "data": {
      "text/plain": [
       "0.7800829875518672"
      ]
     },
     "execution_count": 42,
     "metadata": {},
     "output_type": "execute_result"
    },
    {
     "data": {
      "text/plain": [
       "0.9"
      ]
     },
     "execution_count": 42,
     "metadata": {},
     "output_type": "execute_result"
    },
    {
     "data": {
      "text/plain": [
       "0.2608695652173913"
      ]
     },
     "execution_count": 42,
     "metadata": {},
     "output_type": "execute_result"
    }
   ],
   "source": [
    "accuracy\n",
    "recall\n",
    "precision"
   ]
  },
  {
   "cell_type": "markdown",
   "metadata": {},
   "source": [
    "## Show Feature Importances"
   ]
  },
  {
   "cell_type": "code",
   "execution_count": 43,
   "metadata": {},
   "outputs": [],
   "source": [
    "feature_names = X_train.columns[:-1]"
   ]
  },
  {
   "cell_type": "code",
   "execution_count": 44,
   "metadata": {},
   "outputs": [
    {
     "data": {
      "text/plain": [
       "<BarContainer object of 20 artists>"
      ]
     },
     "execution_count": 44,
     "metadata": {},
     "output_type": "execute_result"
    },
    {
     "data": {
      "text/plain": [
       "Text(0.5, 0, 'Feature Importance')"
      ]
     },
     "execution_count": 44,
     "metadata": {},
     "output_type": "execute_result"
    },
    {
     "data": {
      "image/png": "[encoded data removed]",
      "text/plain": [
       "<Figure size 720x360 with 1 Axes>"
      ]
     },
     "metadata": {
      "needs_background": "light"
     },
     "output_type": "display_data"
    }
   ],
   "source": [
    "# Show top 20 features' importance\n",
    "sorted_idx = RF_model.feature_importances_.argsort()[:20]\n",
    "fig = plt.figure(figsize=(10,5))\n",
    "plt.barh(feature_names[sorted_idx], RF_model.feature_importances_[sorted_idx])\n",
    "plt.xlabel(\"Feature Importance\")"
   ]
  },
  {
   "cell_type": "markdown",
   "metadata": {},
   "source": [
    "# Evaluating your project"
   ]
  },
  {
   "cell_type": "markdown",
   "metadata": {},
   "source": [
    "We will evaluate your submission on a test dataset that we provide\n",
    "- It has no labels, so **you** can't use it to evaluate your model, but **we** have the labels\n",
    "- We will call this evaluation dataset the \"holdout\" data\n",
    "\n",
    "Let's get it"
   ]
  },
  {
   "cell_type": "code",
   "execution_count": 45,
   "metadata": {},
   "outputs": [
    {
     "name": "stdout",
     "output_type": "stream",
     "text": [
      "Data shape:  (1092, 65)\n"
     ]
    }
   ],
   "source": [
    "holdout_data = pd.read_csv( os.path.join(DATA_DIR, \"holdout\", '5th_yr.csv') )\n",
    "\n",
    "print(\"Data shape: \", holdout_data.shape)\n"
   ]
  },
  {
   "cell_type": "markdown",
   "metadata": {},
   "source": [
    "We will evaluate your model on the holdout examples using metrics\n",
    "- Accuracy\n",
    "- Recall\n",
    "- Precision\n",
    "\n",
    "From our lecture: we may have to make a trade-off between Recall and Precision.\n",
    "\n",
    "Our evaluation of your submission will be partially based on how you made (and described) the trade-off.\n",
    "\n",
    "You may assume that it is 5 times worse to *fail to identify a company that will go bankrupt*\n",
    "than it is to fail to identify a company that won't go bankrupt."
   ]
  },
  {
   "cell_type": "markdown",
   "metadata": {},
   "source": [
    "# Your model\n",
    "\n",
    "Time for you to continue the Recipe for Machine Learning on your own.\n",
    "\n"
   ]
  },
  {
   "cell_type": "markdown",
   "metadata": {},
   "source": [
    "## Submission guidelines\n",
    "\n",
    "Although your notebook may contain many models (e.g., due to your iterative development)\n",
    "we will only evaluate a single model.\n",
    "So choose one (explain why !) and do the following.\n",
    "\n",
    "- You will implement the body of a subroutine `MyModel`\n",
    "    - That takes as argument a Pandas DataFrame \n",
    "        - Each row is an example on which to predict\n",
    "        - The features of the example are elements of the row\n",
    "    - Performs predictions on each example\n",
    "    - Returns an array or predictions with a one-to-one correspondence with the examples in the test set\n",
    "    "
   ]
  },
  {
   "cell_type": "markdown",
   "metadata": {},
   "source": [
    "We will evaluate your model against the holdout data\n",
    "- By reading the holdout examples `X_hold` (as above)\n",
    "- Calling `y_hold_pred = MyModel(X_hold)` to get the predictions\n",
    "- Comparing the predicted values `y_hold_pred` against the true labels `y_hold` which are known only to the instructors\n",
    "\n",
    "See the following cell as an illustration"
   ]
  },
  {
   "cell_type": "raw",
   "metadata": {},
   "source": [
    "X_hold = pd.read_csv( os.path.join(DATA_DIR, \"holdout\", '5th_yr.csv') )\n",
    "\n",
    "# Predict using MyModel\n",
    "y_hold_pred = MyModel(X_hold)\n",
    "\n",
    "# Compute metrics\n",
    "# accuracy\n",
    "accuracy_hold = accuracy_score(y_hold, y_hold_pred)\n",
    "\n",
    "# recall_\n",
    "recall_hold = recall_score(y_hold, y_hold_pred, pos_label=1, average=\"binary\")\n",
    "\n",
    "# precision\n",
    "precision_hold = precision_score(y_hold,   y_hold_pred, pos_label=1, average=\"binary\")\n",
    "\n",
    "\n",
    "print(\"\\t{m:s} Accuracy: {a:3.1%}, Recall {r:3.1%}, Precision {p:3.1%}\".format(m=name,\n",
    "                                                                            a=accuracy_hold,\n",
    "                                                                            r=recall_hold,\n",
    "                                                                            p=precision_hold\n",
    "                                                                            )\n",
    "         )"
   ]
  },
  {
   "cell_type": "markdown",
   "metadata": {},
   "source": [
    "**Remember**\n",
    "\n",
    "The holdout data is in the same format as the one we used for training\n",
    "- Except that it has no attribute for the target\n",
    "- So you will need to perform all the transformations on the holdout data\n",
    "    - As you did on the training data\n",
    "    - Including turning the string representation of numbers into actual numeric data types\n",
    "\n",
    "All of this work *must* be performed within the body of the `MyModel` routine you will write\n",
    "\n",
    "We will grade you by comparing the predictions array you create to the answers known to us."
   ]
  },
  {
   "cell_type": "code",
   "execution_count": 46,
   "metadata": {},
   "outputs": [],
   "source": [
    "import pandas as pd\n",
    "import os\n",
    "\n",
    "def MyModel(X):\n",
    "    # It should create an array of predictions; we initialize it to the empty array for convenience\n",
    "    predictions = []\n",
    "    \n",
    "    # YOUR CODE GOES HERE\n",
    "    \n",
    "    # Transfer all non-numeric values\n",
    "    X = helper.all_to_numeric(X)\n",
    "    X_complete = X.copy()\n",
    "    \n",
    "    # Fill missing values in the dataset\n",
    "    for col in X.columns:\n",
    "        X_complete[col] = X[col].fillna(X[col].median())\n",
    "        \n",
    "    # Drop Id column and use scaler to standardize\n",
    "    X_complete = X_complete.drop(columns='Id')\n",
    "    X_complete = scaler.transform(X_complete)\n",
    "    \n",
    "    # Set shreshold in model prediction\n",
    "    threshold = 0.08\n",
    "    predictions = helper.set_threshold(threshold,RF_model,X_complete)\n",
    "    \n",
    "    return predictions"
   ]
  },
  {
   "cell_type": "markdown",
   "metadata": {},
   "source": [
    "# Check your work: predict and evaluate metrics on *your* test examples\n",
    "\n",
    "Although only the instructors have the correct labels for the holdout dataset, you may want\n",
    "to create your own test dataset on which to evaluate your out of sample metrics.\n",
    "\n",
    "If you choose to do so, you can evaluate your models using the same metrics that the instructors will use.\n",
    "\n",
    "- Test whether your implementation of `MyModel` works\n",
    "- See the metrics  your model produces"
   ]
  },
  {
   "cell_type": "code",
   "execution_count": 47,
   "metadata": {},
   "outputs": [
    {
     "name": "stdout",
     "output_type": "stream",
     "text": [
      "\tChoose a descriptive name for your model Accuracy: 78.0%, Recall 90.0%, Precision 26.1%\n"
     ]
    }
   ],
   "source": [
    "name = \"Choose a descriptive name for your model\"\n",
    "y_test_pred = MyModel(X_test)\n",
    "\n",
    "accuracy_test = accuracy_score(y_test, y_test_pred)\n",
    "recall_test = recall_score(y_test, y_test_pred, pos_label=1, average=\"binary\")\n",
    "precision_test = precision_score(y_test,   y_test_pred, pos_label=1, average=\"binary\")\n",
    "\n",
    "print(\"\\t{m:s} Accuracy: {a:3.1%}, Recall {r:3.1%}, Precision {p:3.1%}\".format(m=name,\n",
    "                                                                            a=accuracy_test,\n",
    "                                                                            r=recall_test,\n",
    "                                                                            p=precision_test\n",
    "                                                                            )\n",
    "         )"
   ]
  }
 ],
 "metadata": {
  "kernelspec": {
   "display_name": "Python 3",
   "language": "python",
   "name": "python3"
  },
  "language_info": {
   "codemirror_mode": {
    "name": "ipython",
    "version": 3
   },
   "file_extension": ".py",
   "mimetype": "text/x-python",
   "name": "python",
   "nbconvert_exporter": "python",
   "pygments_lexer": "ipython3",
   "version": "3.8.8"
  },
  "toc": {
   "base_numbering": 1,
   "nav_menu": {},
   "number_sections": true,
   "sideBar": true,
   "skip_h1_title": false,
   "title_cell": "Table of Contents",
   "title_sidebar": "Contents",
   "toc_cell": false,
   "toc_position": {
    "height": "calc(100% - 180px)",
    "left": "10px",
    "top": "150px",
    "width": "370.594px"
   },
   "toc_section_display": true,
   "toc_window_display": true
  }
 },
 "nbformat": 4,
 "nbformat_minor": 2
}
